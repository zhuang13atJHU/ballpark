{
 "cells": [
  {
   "cell_type": "code",
   "execution_count": 145,
   "metadata": {},
   "outputs": [],
   "source": [
    "# Setup\n",
    "\n",
    "from dolo import *\n",
    "from dolo.compiler.misc import CalibrationDict, calibration_to_vector\n",
    "import dolark \n",
    "from dolark import HModel\n",
    "from dolark.equilibrium import find_steady_state\n",
    "from dolark.perturbation import perturb\n",
    "from dolo import time_iteration, improved_time_iteration\n",
    "from matplotlib import pyplot as plt\n",
    "import numpy as np"
   ]
  },
  {
   "cell_type": "code",
   "execution_count": 146,
   "metadata": {},
   "outputs": [
    {
     "data": {
      "text/plain": [
       "<dolark.model.HModel at 0x26743e0a2b0>"
      ]
     },
     "execution_count": 146,
     "metadata": {},
     "output_type": "execute_result"
    }
   ],
   "source": [
    "#HModel reads the yaml file\n",
    "aggmodel = HModel('Aiyagari-Copy1.yaml') # default calibration is sigma = 0.2, rho = 0.9, epsilon = 1\n",
    "aggmodel"
   ]
  },
  {
   "cell_type": "code",
   "execution_count": 147,
   "metadata": {},
   "outputs": [
    {
     "name": "stdout",
     "output_type": "stream",
     "text": [
      "Computing Initial Initial Rule... done\n",
      "Computing Steady State...done\n"
     ]
    },
    {
     "data": {
      "text/plain": [
       "<dolark.equilibrium.Equilibrium at 0x26746234748>"
      ]
     },
     "execution_count": 147,
     "metadata": {},
     "output_type": "execute_result"
    }
   ],
   "source": [
    "eq = find_steady_state(aggmodel)\n",
    "eq"
   ]
  },
  {
   "cell_type": "code",
   "execution_count": 148,
   "metadata": {},
   "outputs": [],
   "source": [
    "df = eq.as_df()\n",
    "a = df['a']\n",
    "r = df['r']\n",
    "w = df['w']\n",
    "e = df['e']\n",
    "μ = df['μ']\n",
    "i = df['i']\n",
    "    \n",
    "#setup cnosumption and income\n",
    "c = np.zeros((len(df),1))\n",
    "income = np.zeros((len(df),1))\n",
    "agg_c = 0\n",
    "agg_inc = 0\n",
    "# calculate consumption\n",
    "for j in range(len(df)):\n",
    "    c[j] = (1+r[j])*a[j] + w[j]*np.exp(e[j]) - i[j]\n",
    "# calcuate income\n",
    "for j in range(len(df)):\n",
    "    income[j] = (r[j]+0.08)*a[j] + w[j]*math.exp(e[j])\n",
    "# aggregate consumption and aggregat consumption\n",
    "for j in range(len(df)):\n",
    "    agg_c = agg_c + c[j]*μ[j]\n",
    "    agg_inc = agg_inc + income[j]*μ[j]\n",
    "\n",
    "saving_rate = 1 - agg_c/agg_inc"
   ]
  },
  {
   "cell_type": "code",
   "execution_count": 149,
   "metadata": {},
   "outputs": [
    {
     "data": {
      "text/plain": [
       "array([0.2437633])"
      ]
     },
     "execution_count": 149,
     "metadata": {},
     "output_type": "execute_result"
    }
   ],
   "source": [
    "saving_rate"
   ]
  },
  {
   "cell_type": "code",
   "execution_count": null,
   "metadata": {},
   "outputs": [],
   "source": []
  },
  {
   "cell_type": "code",
   "execution_count": null,
   "metadata": {},
   "outputs": [],
   "source": []
  },
  {
   "cell_type": "code",
   "execution_count": null,
   "metadata": {},
   "outputs": [],
   "source": []
  },
  {
   "cell_type": "code",
   "execution_count": null,
   "metadata": {},
   "outputs": [],
   "source": []
  },
  {
   "cell_type": "code",
   "execution_count": null,
   "metadata": {},
   "outputs": [],
   "source": []
  },
  {
   "cell_type": "code",
   "execution_count": null,
   "metadata": {},
   "outputs": [],
   "source": []
  },
  {
   "cell_type": "code",
   "execution_count": null,
   "metadata": {},
   "outputs": [],
   "source": []
  },
  {
   "cell_type": "code",
   "execution_count": 150,
   "metadata": {},
   "outputs": [
    {
     "name": "stdout",
     "output_type": "stream",
     "text": [
      "Computing Initial Initial Rule... done\n",
      "Computing Steady State...done\n",
      "Computing Initial Initial Rule... done\n",
      "Computing Steady State...done\n",
      "Computing Initial Initial Rule... done\n",
      "Computing Steady State...done\n",
      "Computing Initial Initial Rule... done\n",
      "Computing Steady State...done\n",
      "Computing Initial Initial Rule... done\n",
      "Computing Steady State...done\n",
      "Computing Initial Initial Rule... done\n",
      "Computing Steady State...done\n",
      "Computing Initial Initial Rule... done\n",
      "Computing Steady State...done\n",
      "Computing Initial Initial Rule... done\n",
      "Computing Steady State...done\n",
      "Computing Initial Initial Rule... done\n",
      "Computing Steady State...done\n",
      "Computing Initial Initial Rule... done\n",
      "Computing Steady State...done\n",
      "Computing Initial Initial Rule... done\n",
      "Computing Steady State...done\n",
      "Computing Initial Initial Rule... done\n",
      "Computing Steady State...done\n",
      "Computing Initial Initial Rule... done\n",
      "Computing Steady State...done\n",
      "Computing Initial Initial Rule... done\n",
      "Computing Steady State...done\n",
      "Computing Initial Initial Rule... done\n",
      "Computing Steady State...done\n",
      "Computing Initial Initial Rule... done\n",
      "Computing Steady State...done\n",
      "Computing Initial Initial Rule... done\n",
      "Computing Steady State...done\n",
      "Computing Initial Initial Rule... done\n",
      "Computing Steady State...done\n",
      "Computing Initial Initial Rule... done\n",
      "Computing Steady State...done\n",
      "Computing Initial Initial Rule... done\n",
      "Computing Steady State...done\n",
      "Computing Initial Initial Rule... done\n",
      "Computing Steady State...done\n",
      "Computing Initial Initial Rule... done\n",
      "Computing Steady State...done\n",
      "Computing Initial Initial Rule... done\n",
      "Computing Steady State...done\n",
      "Computing Initial Initial Rule... done\n",
      "Computing Steady State...done\n"
     ]
    }
   ],
   "source": [
    "savings = []\n",
    "rho_values = np.linspace(0, 0.9, 4)   #change serial correlation coefficent \"rho \"in {0, 0.3, 0.6, 0.9}\n",
    "sig_values = np.linspace(0.2, 0.4, 2) #change the variance of labor shocks \"sig\" in {0.2, 0.4}\n",
    "epsilon_values = np.linspace(1, 5, 3)       #change the coefficient of risk aversion {1,3,5}\n",
    "\n",
    "for l in epsilon_values:\n",
    "    aggmodel.model.set_calibration( epsilon = l)\n",
    "    for n in sig_values:\n",
    "        aggmodel.model.set_calibration( sig = n )\n",
    "        for m in rho_values:\n",
    "            aggmodel.model.set_calibration( rho=m )\n",
    "            eq = find_steady_state(aggmodel)\n",
    "            df = eq.as_df()\n",
    "            a = df['a']\n",
    "            r = df['r']\n",
    "            w = df['w']\n",
    "            e = df['e']\n",
    "            μ = df['μ']\n",
    "            i = df['i']\n",
    "    \n",
    "            #setup cnosumption and income\n",
    "            c = np.zeros((len(df),1))\n",
    "            income = np.zeros((len(df),1))\n",
    "            agg_c = 0\n",
    "            agg_inc = 0\n",
    "        \n",
    "            # calculate consumption\n",
    "            for j in range(len(df)):\n",
    "                c[j] = (1+r[j])*a[j] + w[j]*math.exp(e[j]) - i[j]\n",
    "            # calcuate income\n",
    "            for j in range(len(df)):\n",
    "                income[j] = (r[j]+0.08)*a[j] + w[j]*np.exp(e[j])   #0.08 is the depreciation rate\n",
    "            \n",
    "            # aggregate consumption and aggregat consumption\n",
    "            for j in range(len(df)):\n",
    "                agg_c = agg_c + c[j]*μ[j]\n",
    "                agg_inc = agg_inc + income[j]*μ[j]\n",
    "            \n",
    "            saving_rate= 1 - agg_c/agg_inc\n",
    "            \n",
    "            #record the calibrated saving rate every time\n",
    "            savings.append(saving_rate)\n",
    "    "
   ]
  },
  {
   "cell_type": "code",
   "execution_count": 151,
   "metadata": {},
   "outputs": [
    {
     "data": {
      "text/plain": [
       "[array([0.24275118]),\n",
       " array([0.24280436]),\n",
       " array([0.24325385]),\n",
       " array([0.2437633]),\n",
       " array([0.24397777]),\n",
       " array([0.24475714]),\n",
       " array([0.2465101]),\n",
       " array([0.24745332]),\n",
       " array([0.25657752]),\n",
       " array([0.25732593]),\n",
       " array([0.26078807]),\n",
       " array([0.2837639]),\n",
       " array([0.26799146]),\n",
       " array([0.27172016]),\n",
       " array([0.28351045]),\n",
       " array([0.36529834]),\n",
       " array([0.26694438]),\n",
       " array([0.26829488]),\n",
       " array([0.27408014]),\n",
       " array([0.31640614]),\n",
       " array([0.28352314]),\n",
       " array([0.28936891]),\n",
       " array([0.30801935]),\n",
       " array([0.44488939])]"
      ]
     },
     "execution_count": 151,
     "metadata": {},
     "output_type": "execute_result"
    }
   ],
   "source": [
    "savings"
   ]
  },
  {
   "cell_type": "code",
   "execution_count": null,
   "metadata": {},
   "outputs": [],
   "source": []
  }
 ],
 "metadata": {
  "kernelspec": {
   "display_name": "Python 3",
   "language": "python",
   "name": "python3"
  },
  "language_info": {
   "codemirror_mode": {
    "name": "ipython",
    "version": 3
   },
   "file_extension": ".py",
   "mimetype": "text/x-python",
   "name": "python",
   "nbconvert_exporter": "python",
   "pygments_lexer": "ipython3",
   "version": "3.7.3"
  }
 },
 "nbformat": 4,
 "nbformat_minor": 4
}
