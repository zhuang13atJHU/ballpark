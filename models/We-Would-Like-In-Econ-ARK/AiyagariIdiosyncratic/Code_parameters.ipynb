{
 "cells": [
  {
   "cell_type": "code",
   "execution_count": 8,
   "metadata": {},
   "outputs": [],
   "source": [
    "# Setup\n",
    "\n",
    "from dolo import *\n",
    "from dolo.compiler.misc import CalibrationDict, calibration_to_vector\n",
    "import dolark \n",
    "from dolark import HModel\n",
    "from dolark.equilibrium import find_steady_state\n",
    "from dolark.perturbation import perturb\n",
    "from dolo import time_iteration, improved_time_iteration\n",
    "from matplotlib import pyplot as plt\n",
    "import numpy as np"
   ]
  },
  {
   "cell_type": "code",
   "execution_count": 9,
   "metadata": {},
   "outputs": [
    {
     "data": {
      "text/plain": [
       "<dolark.model.HModel at 0x1ff50e26be0>"
      ]
     },
     "execution_count": 9,
     "metadata": {},
     "output_type": "execute_result"
    }
   ],
   "source": [
    "#HModel reads the yaml file\n",
    "aggmodel = HModel('Aiyagari-Copy1.yaml') # default calibration is sigma = 0.2, rho = 0.9, epsilon = 1\n",
    "aggmodel"
   ]
  },
  {
   "cell_type": "code",
   "execution_count": 10,
   "metadata": {},
   "outputs": [
    {
     "name": "stdout",
     "output_type": "stream",
     "text": [
      "Computing Initial Initial Rule... "
     ]
    },
    {
     "name": "stderr",
     "output_type": "stream",
     "text": [
      "YAMLLoadWarning:c:\\users\\zhuang13\\documents\\github\\dolo\\dolo\\compiler\\recipes.py:20\n",
      "    calling yaml.load() without Loader=... is deprecated, as the default Loader is unsafe. Please read https://msg.pyyaml.org/load for full details.\n"
     ]
    },
    {
     "name": "stdout",
     "output_type": "stream",
     "text": [
      "done\n",
      "Computing Steady State...done\n"
     ]
    },
    {
     "data": {
      "text/plain": [
       "<dolark.equilibrium.Equilibrium at 0x1ff50b867f0>"
      ]
     },
     "execution_count": 10,
     "metadata": {},
     "output_type": "execute_result"
    }
   ],
   "source": [
    "eq = find_steady_state(aggmodel)\n",
    "eq"
   ]
  },
  {
   "cell_type": "code",
   "execution_count": 12,
   "metadata": {},
   "outputs": [],
   "source": [
    "df = eq.as_df()\n",
    "a = df['a']\n",
    "r = df['r']\n",
    "w = df['w']\n",
    "e = df['e']\n",
    "μ = df['μ']\n",
    "i = df['i']\n",
    "    \n",
    "#setup cnosumption and income\n",
    "c = np.zeros((len(df),1))\n",
    "income = np.zeros((len(df),1))\n",
    "agg_c = 0\n",
    "agg_inc = 0\n",
    "# calculate consumption\n",
    "for j in range(len(df)):\n",
    "    c[j] = (1+r[j])*a[j] + w[j]*np.exp(e[j]) - i[j]\n",
    "# calcuate income\n",
    "for j in range(len(df)):\n",
    "    income[j] = (r[j]+0.08)*a[j] + w[j]*np.exp(e[j])\n",
    "# aggregate consumption and aggregat consumption\n",
    "for j in range(len(df)):\n",
    "    agg_c = agg_c + c[j]*μ[j]\n",
    "    agg_inc = agg_inc + income[j]*μ[j]\n",
    "\n",
    "saving_rate = 1 - agg_c/agg_inc"
   ]
  },
  {
   "cell_type": "code",
   "execution_count": 149,
   "metadata": {},
   "outputs": [
    {
     "data": {
      "text/plain": [
       "array([0.2437633])"
      ]
     },
     "execution_count": 149,
     "metadata": {},
     "output_type": "execute_result"
    }
   ],
   "source": [
    "saving_rate"
   ]
  },
  {
   "cell_type": "code",
   "execution_count": null,
   "metadata": {},
   "outputs": [],
   "source": []
  },
  {
   "cell_type": "code",
   "execution_count": null,
   "metadata": {},
   "outputs": [],
   "source": []
  },
  {
   "cell_type": "code",
   "execution_count": null,
   "metadata": {},
   "outputs": [],
   "source": []
  },
  {
   "cell_type": "code",
   "execution_count": null,
   "metadata": {},
   "outputs": [],
   "source": []
  },
  {
   "cell_type": "code",
   "execution_count": null,
   "metadata": {},
   "outputs": [],
   "source": []
  },
  {
   "cell_type": "code",
   "execution_count": 49,
   "metadata": {},
   "outputs": [
    {
     "name": "stdout",
     "output_type": "stream",
     "text": [
      "Computing Initial Initial Rule... done\n",
      "Computing Steady State...done\n",
      "Computing Initial Initial Rule... done\n",
      "Computing Steady State...done\n",
      "Computing Initial Initial Rule... done\n",
      "Computing Steady State...done\n",
      "Computing Initial Initial Rule... done\n",
      "Computing Steady State...done\n",
      "Computing Initial Initial Rule... done\n",
      "Computing Steady State...done\n",
      "Computing Initial Initial Rule... done\n",
      "Computing Steady State...done\n",
      "Computing Initial Initial Rule... done\n",
      "Computing Steady State...done\n",
      "Computing Initial Initial Rule... done\n",
      "Computing Steady State...done\n",
      "Computing Initial Initial Rule... done\n",
      "Computing Steady State...done\n",
      "Computing Initial Initial Rule... done\n",
      "Computing Steady State...done\n",
      "Computing Initial Initial Rule... done\n",
      "Computing Steady State...done\n",
      "Computing Initial Initial Rule... done\n",
      "Computing Steady State...done\n",
      "Computing Initial Initial Rule... done\n",
      "Computing Steady State...done\n",
      "Computing Initial Initial Rule... done\n",
      "Computing Steady State...done\n",
      "Computing Initial Initial Rule... done\n",
      "Computing Steady State...done\n",
      "Computing Initial Initial Rule... done\n",
      "Computing Steady State...done\n",
      "Computing Initial Initial Rule... done\n",
      "Computing Steady State...done\n",
      "Computing Initial Initial Rule... done\n",
      "Computing Steady State...done\n",
      "Computing Initial Initial Rule... done\n",
      "Computing Steady State...done\n",
      "Computing Initial Initial Rule... done\n",
      "Computing Steady State...done\n",
      "Computing Initial Initial Rule... done\n",
      "Computing Steady State...done\n",
      "Computing Initial Initial Rule... done\n",
      "Computing Steady State...done\n",
      "Computing Initial Initial Rule... done\n",
      "Computing Steady State...done\n",
      "Computing Initial Initial Rule... done\n",
      "Computing Steady State...done\n"
     ]
    }
   ],
   "source": [
    "rows = [['epsilon', 'sig', 'rho','saving rate']]\n",
    "rho_values = np.linspace(0, 0.9, 4)   #change serial correlation coefficent \"rho \"in {0, 0.3, 0.6, 0.9}\n",
    "sig_values = np.linspace(0.2, 0.4, 2) #change the variance of labor shocks \"sig\" in {0.2, 0.4}\n",
    "epsilon_values = np.linspace(1, 5, 3)       #change the coefficient of risk aversion {1,3,5}\n",
    "\n",
    "for l in epsilon_values:\n",
    "    aggmodel.model.set_calibration( epsilon = l)\n",
    "    for n in sig_values:\n",
    "        aggmodel.model.set_calibration( sig = n )\n",
    "        for m in rho_values:\n",
    "            aggmodel.model.set_calibration( rho=m )\n",
    "            eq = find_steady_state(aggmodel)\n",
    "            df = eq.as_df()\n",
    "            a = df['a']\n",
    "            r = df['r']\n",
    "            w = df['w']\n",
    "            e = df['e']\n",
    "            μ = df['μ']\n",
    "            i = df['i']\n",
    "    \n",
    "            #setup cnosumption and income\n",
    "            c = np.zeros((len(df),1))\n",
    "            income = np.zeros((len(df),1))\n",
    "            agg_c = 0\n",
    "            agg_inc = 0\n",
    "        \n",
    "            # calculate consumption\n",
    "            for j in range(len(df)):\n",
    "                c[j] = (1+r[j])*a[j] + w[j]*np.exp(e[j]) - i[j]\n",
    "            # calcuate income\n",
    "            for j in range(len(df)):\n",
    "                income[j] = (r[j]+0.08)*a[j] + w[j]*np.exp(e[j])   #0.08 is the depreciation rate\n",
    "            \n",
    "            # aggregate consumption and aggregat consumption\n",
    "            for j in range(len(df)):\n",
    "                agg_c = agg_c + c[j]*μ[j]\n",
    "                agg_inc = agg_inc + income[j]*μ[j]\n",
    "            \n",
    "            saving_rate= 1 - agg_c/agg_inc\n",
    "            saving = np.array(saving_rate) \n",
    "            \n",
    "            rows.append((str(l), str(n), str(m), str(saving)))\n",
    "            \n",
    "    "
   ]
  },
  {
   "cell_type": "code",
   "execution_count": 50,
   "metadata": {},
   "outputs": [
    {
     "data": {
      "text/plain": [
       "[['epsilon', 'sig', 'rho', 'saving rate'],\n",
       " ('1.0', '0.2', '0.0', '[0.24275118]'),\n",
       " ('1.0', '0.2', '0.3', '[0.24280436]'),\n",
       " ('1.0', '0.2', '0.6', '[0.24325385]'),\n",
       " ('1.0', '0.2', '0.9', '[0.2437633]'),\n",
       " ('1.0', '0.4', '0.0', '[0.24397777]'),\n",
       " ('1.0', '0.4', '0.3', '[0.24475714]'),\n",
       " ('1.0', '0.4', '0.6', '[0.2465101]'),\n",
       " ('1.0', '0.4', '0.9', '[0.24745332]'),\n",
       " ('3.0', '0.2', '0.0', '[0.25657752]'),\n",
       " ('3.0', '0.2', '0.3', '[0.25732593]'),\n",
       " ('3.0', '0.2', '0.6', '[0.26078807]'),\n",
       " ('3.0', '0.2', '0.9', '[0.2837639]'),\n",
       " ('3.0', '0.4', '0.0', '[0.26799146]'),\n",
       " ('3.0', '0.4', '0.3', '[0.27172016]'),\n",
       " ('3.0', '0.4', '0.6', '[0.28351045]'),\n",
       " ('3.0', '0.4', '0.9', '[0.36529834]'),\n",
       " ('5.0', '0.2', '0.0', '[0.26694438]'),\n",
       " ('5.0', '0.2', '0.3', '[0.26829488]'),\n",
       " ('5.0', '0.2', '0.6', '[0.27408014]'),\n",
       " ('5.0', '0.2', '0.9', '[0.31640614]'),\n",
       " ('5.0', '0.4', '0.0', '[0.28352314]'),\n",
       " ('5.0', '0.4', '0.3', '[0.28936891]'),\n",
       " ('5.0', '0.4', '0.6', '[0.30801935]'),\n",
       " ('5.0', '0.4', '0.9', '[0.44488939]')]"
      ]
     },
     "execution_count": 50,
     "metadata": {},
     "output_type": "execute_result"
    }
   ],
   "source": [
    "rows"
   ]
  },
  {
   "cell_type": "code",
   "execution_count": 51,
   "metadata": {},
   "outputs": [],
   "source": [
    "def pretty_table(rows, column_count, column_spacing=4):\n",
    "    aligned_columns = []\n",
    "    for column in range(column_count):\n",
    "        column_data = list(map(lambda row: row[column], rows))\n",
    "        aligned_columns.append((max(map(len, column_data)) + column_spacing, column_data))\n",
    "\n",
    "    for row in range(len(rows)):\n",
    "        aligned_row = map(lambda x: (x[0], x[1][row]), aligned_columns)\n",
    "        yield ''.join(map(lambda x: x[1] + ' ' * (x[0] - len(x[1])), aligned_row))"
   ]
  },
  {
   "cell_type": "code",
   "execution_count": 52,
   "metadata": {},
   "outputs": [
    {
     "name": "stdout",
     "output_type": "stream",
     "text": [
      "epsilon    sig    rho    saving rate     \n",
      "1.0        0.2    0.0    [0.24275118]    \n",
      "1.0        0.2    0.3    [0.24280436]    \n",
      "1.0        0.2    0.6    [0.24325385]    \n",
      "1.0        0.2    0.9    [0.2437633]     \n",
      "1.0        0.4    0.0    [0.24397777]    \n",
      "1.0        0.4    0.3    [0.24475714]    \n",
      "1.0        0.4    0.6    [0.2465101]     \n",
      "1.0        0.4    0.9    [0.24745332]    \n",
      "3.0        0.2    0.0    [0.25657752]    \n",
      "3.0        0.2    0.3    [0.25732593]    \n",
      "3.0        0.2    0.6    [0.26078807]    \n",
      "3.0        0.2    0.9    [0.2837639]     \n",
      "3.0        0.4    0.0    [0.26799146]    \n",
      "3.0        0.4    0.3    [0.27172016]    \n",
      "3.0        0.4    0.6    [0.28351045]    \n",
      "3.0        0.4    0.9    [0.36529834]    \n",
      "5.0        0.2    0.0    [0.26694438]    \n",
      "5.0        0.2    0.3    [0.26829488]    \n",
      "5.0        0.2    0.6    [0.27408014]    \n",
      "5.0        0.2    0.9    [0.31640614]    \n",
      "5.0        0.4    0.0    [0.28352314]    \n",
      "5.0        0.4    0.3    [0.28936891]    \n",
      "5.0        0.4    0.6    [0.30801935]    \n",
      "5.0        0.4    0.9    [0.44488939]    \n"
     ]
    }
   ],
   "source": [
    "for s in pretty_table(rows, 4):\n",
    "    print(s)"
   ]
  },
  {
   "cell_type": "code",
   "execution_count": null,
   "metadata": {},
   "outputs": [],
   "source": []
  },
  {
   "cell_type": "code",
   "execution_count": null,
   "metadata": {},
   "outputs": [],
   "source": []
  },
  {
   "cell_type": "code",
   "execution_count": null,
   "metadata": {},
   "outputs": [],
   "source": []
  },
  {
   "cell_type": "code",
   "execution_count": null,
   "metadata": {},
   "outputs": [],
   "source": []
  },
  {
   "cell_type": "code",
   "execution_count": 19,
   "metadata": {},
   "outputs": [
    {
     "data": {
      "text/plain": [
       "[array([0.24275118]),\n",
       " array([0.24280436]),\n",
       " array([0.24325385]),\n",
       " array([0.2437633]),\n",
       " array([0.24397777]),\n",
       " array([0.24475714]),\n",
       " array([0.2465101]),\n",
       " array([0.24745332]),\n",
       " array([0.25657752]),\n",
       " array([0.25732593]),\n",
       " array([0.26078807]),\n",
       " array([0.2837639]),\n",
       " array([0.26799146]),\n",
       " array([0.27172016]),\n",
       " array([0.28351045]),\n",
       " array([0.36529834]),\n",
       " array([0.26694438]),\n",
       " array([0.26829488]),\n",
       " array([0.27408014]),\n",
       " array([0.31640614]),\n",
       " array([0.28352314]),\n",
       " array([0.28936891]),\n",
       " array([0.30801935]),\n",
       " array([0.44488939])]"
      ]
     },
     "execution_count": 19,
     "metadata": {},
     "output_type": "execute_result"
    }
   ],
   "source": [
    "savings"
   ]
  },
  {
   "cell_type": "code",
   "execution_count": 21,
   "metadata": {},
   "outputs": [],
   "source": [
    "saving = np.array(savings)   #convert array to list"
   ]
  },
  {
   "cell_type": "code",
   "execution_count": 23,
   "metadata": {},
   "outputs": [
    {
     "name": "stdout",
     "output_type": "stream",
     "text": [
      "[[0.24275118]\n",
      " [0.24280436]\n",
      " [0.24325385]\n",
      " [0.2437633 ]\n",
      " [0.24397777]\n",
      " [0.24475714]\n",
      " [0.2465101 ]\n",
      " [0.24745332]\n",
      " [0.25657752]\n",
      " [0.25732593]\n",
      " [0.26078807]\n",
      " [0.2837639 ]\n",
      " [0.26799146]\n",
      " [0.27172016]\n",
      " [0.28351045]\n",
      " [0.36529834]\n",
      " [0.26694438]\n",
      " [0.26829488]\n",
      " [0.27408014]\n",
      " [0.31640614]\n",
      " [0.28352314]\n",
      " [0.28936891]\n",
      " [0.30801935]\n",
      " [0.44488939]]\n"
     ]
    }
   ],
   "source": [
    "print(saving)"
   ]
  },
  {
   "cell_type": "code",
   "execution_count": null,
   "metadata": {},
   "outputs": [],
   "source": []
  },
  {
   "cell_type": "code",
   "execution_count": null,
   "metadata": {},
   "outputs": [],
   "source": []
  },
  {
   "cell_type": "code",
   "execution_count": 44,
   "metadata": {},
   "outputs": [],
   "source": [
    "#rows = [['Term', 'Exponential sum', 'Absolute error', 'Relative error']]\n",
    "#values = np.linspace(1,5,3)\n",
    "#for n in values:\n",
    "   # exp_sum   = n+1\n",
    "    #abs_err   = abs(n+1)\n",
    "    #rel_err   = abs(n+2)\n",
    "    #rows.append((str(n), str(exp_sum), str(abs_err), str(rel_err)))"
   ]
  },
  {
   "cell_type": "code",
   "execution_count": 45,
   "metadata": {},
   "outputs": [
    {
     "data": {
      "text/plain": [
       "[['Term', 'Exponential sum', 'Absolute error', 'Relative error'],\n",
       " ('1.0', '2.0', '2.0', '3.0'),\n",
       " ('3.0', '4.0', '4.0', '5.0'),\n",
       " ('5.0', '6.0', '6.0', '7.0')]"
      ]
     },
     "execution_count": 45,
     "metadata": {},
     "output_type": "execute_result"
    }
   ],
   "source": [
    "#rows"
   ]
  },
  {
   "cell_type": "code",
   "execution_count": 46,
   "metadata": {},
   "outputs": [],
   "source": [
    "#def pretty_table(rows, column_count, column_spacing=4):\n",
    "    #aligned_columns = []\n",
    "    #for column in range(column_count):\n",
    "        #column_data = list(map(lambda row: row[column], rows))\n",
    "        #aligned_columns.append((max(map(len, column_data)) + column_spacing, column_data))\n",
    "\n",
    "    #for row in range(len(rows)):\n",
    "        #aligned_row = map(lambda x: (x[0], x[1][row]), aligned_columns)\n",
    "        #yield ''.join(map(lambda x: x[1] + ' ' * (x[0] - len(x[1])), aligned_row))"
   ]
  },
  {
   "cell_type": "code",
   "execution_count": 47,
   "metadata": {},
   "outputs": [
    {
     "name": "stdout",
     "output_type": "stream",
     "text": [
      "Term    Exponential sum    Absolute error    Relative error    \n",
      "1.0     2.0                2.0               3.0               \n",
      "3.0     4.0                4.0               5.0               \n",
      "5.0     6.0                6.0               7.0               \n"
     ]
    }
   ],
   "source": [
    "#for line in pretty_table(rows, 4):\n",
    "    #print(line)"
   ]
  },
  {
   "cell_type": "code",
   "execution_count": null,
   "metadata": {},
   "outputs": [],
   "source": []
  }
 ],
 "metadata": {
  "kernelspec": {
   "display_name": "Python 3",
   "language": "python",
   "name": "python3"
  },
  "language_info": {
   "codemirror_mode": {
    "name": "ipython",
    "version": 3
   },
   "file_extension": ".py",
   "mimetype": "text/x-python",
   "name": "python",
   "nbconvert_exporter": "python",
   "pygments_lexer": "ipython3",
   "version": "3.7.3"
  }
 },
 "nbformat": 4,
 "nbformat_minor": 4
}
