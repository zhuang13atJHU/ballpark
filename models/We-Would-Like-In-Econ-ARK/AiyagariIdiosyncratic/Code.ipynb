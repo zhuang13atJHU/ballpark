{
 "cells": [
  {
   "cell_type": "code",
   "execution_count": 1,
   "metadata": {},
   "outputs": [],
   "source": [
    "# Setup\n",
    "\n",
    "from dolo import *\n",
    "import dolark \n",
    "from dolark import HModel\n",
    "from dolark.equilibrium import find_steady_state\n",
    "from dolark.perturbation import perturb\n",
    "from dolo import time_iteration, improved_time_iteration\n",
    "from matplotlib import pyplot as plt\n",
    "import numpy as np"
   ]
  },
  {
   "cell_type": "code",
   "execution_count": 2,
   "metadata": {},
   "outputs": [
    {
     "data": {
      "text/plain": [
       "<dolark.model.HModel at 0x1cd084ee780>"
      ]
     },
     "execution_count": 2,
     "metadata": {},
     "output_type": "execute_result"
    }
   ],
   "source": [
    "#HModel reads the yaml file\n",
    "aggmodel = HModel('Aiyagari.yaml')\n",
    "aggmodel\n"
   ]
  },
  {
   "cell_type": "code",
   "execution_count": 3,
   "metadata": {},
   "outputs": [
    {
     "data": {
      "text/plain": [
       "{'ex-ante-identical': True,\n",
       " 'conditional-processes': False,\n",
       " 'iid-shocks': False}"
      ]
     },
     "execution_count": 3,
     "metadata": {},
     "output_type": "execute_result"
    }
   ],
   "source": [
    "aggmodel.features"
   ]
  },
  {
   "cell_type": "code",
   "execution_count": 4,
   "metadata": {
    "scrolled": true
   },
   "outputs": [
    {
     "name": "stderr",
     "output_type": "stream",
     "text": [
      "YAMLLoadWarning:c:\\users\\zhuang13\\documents\\github\\dolo\\dolo\\compiler\\recipes.py:20\n",
      "    calling yaml.load() without Loader=... is deprecated, as the default Loader is unsafe. Please read https://msg.pyyaml.org/load for full details.\n"
     ]
    },
    {
     "name": "stdout",
     "output_type": "stream",
     "text": [
      "------------------------------------------------\n",
      "| N   |  Error     | Gain     | Time     | nit |\n",
      "------------------------------------------------\n"
     ]
    },
    {
     "name": "stderr",
     "output_type": "stream",
     "text": [
      "UserWarning:c:\\users\\zhuang13\\documents\\github\\dolo\\dolo\\numeric\\optimize\\newton.py:150\n",
      "    Did not converge\n"
     ]
    },
    {
     "name": "stdout",
     "output_type": "stream",
     "text": [
      "|   1 |  9.287e+01 |      nan |    1.321 |  10 |\n",
      "|   2 |  3.087e+01 |    0.332 |    0.020 |   4 |\n",
      "|   3 |  1.536e+01 |    0.498 |    0.020 |   4 |\n",
      "|   4 |  9.155e+00 |    0.596 |    0.015 |   3 |\n",
      "|   5 |  6.050e+00 |    0.661 |    0.016 |   3 |\n",
      "|   6 |  4.273e+00 |    0.706 |    0.024 |   5 |\n",
      "|   7 |  3.161e+00 |    0.740 |    0.016 |   3 |\n",
      "|   8 |  2.418e+00 |    0.765 |    0.017 |   3 |\n",
      "|   9 |  1.896e+00 |    0.784 |    0.015 |   3 |\n",
      "|  10 |  1.514e+00 |    0.799 |    0.015 |   3 |\n",
      "|  11 |  1.227e+00 |    0.810 |    0.011 |   2 |\n",
      "|  12 |  1.004e+00 |    0.818 |    0.011 |   2 |\n",
      "|  13 |  8.270e-01 |    0.824 |    0.010 |   2 |\n",
      "|  14 |  6.845e-01 |    0.828 |    0.011 |   2 |\n",
      "|  15 |  5.671e-01 |    0.828 |    0.011 |   2 |\n",
      "|  16 |  4.696e-01 |    0.828 |    0.012 |   2 |\n",
      "|  17 |  3.874e-01 |    0.825 |    0.011 |   2 |\n",
      "|  18 |  3.156e-01 |    0.815 |    0.011 |   2 |\n",
      "|  19 |  2.519e-01 |    0.798 |    0.011 |   2 |\n",
      "|  20 |  1.960e-01 |    0.778 |    0.012 |   2 |\n",
      "|  21 |  1.480e-01 |    0.755 |    0.011 |   2 |\n",
      "|  22 |  1.077e-01 |    0.728 |    0.011 |   2 |\n",
      "|  23 |  7.548e-02 |    0.701 |    0.010 |   2 |\n",
      "|  24 |  5.119e-02 |    0.678 |    0.011 |   2 |\n",
      "|  25 |  3.393e-02 |    0.663 |    0.012 |   2 |\n",
      "|  26 |  2.223e-02 |    0.655 |    0.011 |   2 |\n",
      "|  27 |  1.454e-02 |    0.654 |    0.011 |   2 |\n",
      "|  28 |  9.544e-03 |    0.657 |    0.010 |   2 |\n",
      "|  29 |  6.306e-03 |    0.661 |    0.006 |   1 |\n",
      "|  30 |  4.193e-03 |    0.665 |    0.007 |   1 |\n",
      "|  31 |  2.801e-03 |    0.668 |    0.007 |   1 |\n",
      "|  32 |  1.876e-03 |    0.670 |    0.007 |   1 |\n",
      "|  33 |  1.258e-03 |    0.671 |    0.007 |   1 |\n",
      "|  34 |  8.436e-04 |    0.671 |    0.007 |   1 |\n",
      "|  35 |  5.653e-04 |    0.670 |    0.007 |   1 |\n",
      "|  36 |  3.784e-04 |    0.669 |    0.007 |   1 |\n",
      "|  37 |  2.530e-04 |    0.669 |    0.006 |   1 |\n",
      "|  38 |  1.690e-04 |    0.668 |    0.007 |   1 |\n",
      "|  39 |  1.127e-04 |    0.667 |    0.007 |   1 |\n",
      "|  40 |  7.514e-05 |    0.666 |    0.006 |   1 |\n",
      "|  41 |  5.003e-05 |    0.666 |    0.007 |   1 |\n",
      "|  42 |  3.329e-05 |    0.665 |    0.007 |   1 |\n",
      "|  43 |  2.214e-05 |    0.665 |    0.008 |   1 |\n",
      "|  44 |  1.471e-05 |    0.665 |    0.007 |   1 |\n",
      "|  45 |  9.771e-06 |    0.664 |    0.008 |   1 |\n",
      "|  46 |  6.487e-06 |    0.664 |    0.007 |   1 |\n",
      "|  47 |  4.305e-06 |    0.664 |    0.008 |   1 |\n",
      "|  48 |  2.856e-06 |    0.663 |    0.008 |   1 |\n",
      "|  49 |  1.894e-06 |    0.663 |    0.007 |   1 |\n",
      "|  50 |  1.256e-06 |    0.663 |    0.007 |   1 |\n",
      "|  51 |  8.327e-07 |    0.663 |    0.007 |   1 |\n",
      "------------------------------------------------\n",
      "Elapsed: 1.9209167957305908 seconds.\n",
      "------------------------------------------------\n"
     ]
    }
   ],
   "source": [
    "#first check whether the one-agent sub-part of the mode works\n",
    "from dolo import time_iteration\n",
    "i_opts = {\"N\":2}\n",
    "model = aggmodel.model\n",
    "mc = model.exogenous.discretize(to='mc',options=[{},i_opts])\n",
    "sol0 = time_iteration(model, details=True, dprocess=mc)"
   ]
  },
  {
   "cell_type": "code",
   "execution_count": 5,
   "metadata": {},
   "outputs": [
    {
     "name": "stdout",
     "output_type": "stream",
     "text": [
      "Computing Initial Initial Rule... done\n",
      "Computing Steady State...done\n"
     ]
    },
    {
     "data": {
      "text/plain": [
       "<dolark.equilibrium.Equilibrium at 0x1cd07ea2128>"
      ]
     },
     "execution_count": 5,
     "metadata": {},
     "output_type": "execute_result"
    }
   ],
   "source": [
    "eq = find_steady_state(aggmodel)\n",
    "eq"
   ]
  },
  {
   "cell_type": "code",
   "execution_count": 6,
   "metadata": {},
   "outputs": [
    {
     "name": "stdout",
     "output_type": "stream",
     "text": [
      "Help on function find_steady_state in module dolark.equilibrium:\n",
      "\n",
      "find_steady_state(hmodel, dr0=None, verbose=True, distribs=None)\n",
      "\n"
     ]
    }
   ],
   "source": [
    "help(find_steady_state)"
   ]
  },
  {
   "cell_type": "code",
   "execution_count": 7,
   "metadata": {},
   "outputs": [
    {
     "name": "stdout",
     "output_type": "stream",
     "text": [
      "Help on class HModel in module dolark.model:\n",
      "\n",
      "class HModel(builtins.object)\n",
      " |  HModel(fname, i_options={}, dptype=None, debug=False)\n",
      " |  \n",
      " |  Methods defined here:\n",
      " |  \n",
      " |  A(self, grids, m0: 'n_e', μ0: 'n_m.N', xx0: 'n_m.N.n_x', y0: 'n_y', p: 'n_p')\n",
      " |  \n",
      " |  __get_calibration__(self)\n",
      " |  \n",
      " |  __init__(self, fname, i_options={}, dptype=None, debug=False)\n",
      " |      Initialize self.  See help(type(self)) for accurate signature.\n",
      " |  \n",
      " |  __set_changed__(self)\n",
      " |  \n",
      " |  check(self)\n",
      " |  \n",
      " |  get_starting_rule(self, method='improved_time_iteration', **kwargs)\n",
      " |  \n",
      " |  set_calibration(self, *pargs, **kwargs)\n",
      " |  \n",
      " |  τ(self, m, p)\n",
      " |  \n",
      " |  ----------------------------------------------------------------------\n",
      " |  Data descriptors defined here:\n",
      " |  \n",
      " |  E\n",
      " |  \n",
      " |  __dict__\n",
      " |      dictionary for instance variables (if defined)\n",
      " |  \n",
      " |  __weakref__\n",
      " |      list of weak references to the object (if defined)\n",
      " |  \n",
      " |  agent\n",
      " |  \n",
      " |  calibration\n",
      " |  \n",
      " |  distribution\n",
      " |  \n",
      " |  exogenous\n",
      " |  \n",
      " |  features\n",
      " |  \n",
      " |  model\n",
      " |  \n",
      " |  name\n",
      " |  \n",
      " |  projection\n",
      " |  \n",
      " |  symbols\n",
      " |  \n",
      " |  variables\n",
      "\n"
     ]
    }
   ],
   "source": [
    "help(HModel)"
   ]
  },
  {
   "cell_type": "code",
   "execution_count": 8,
   "metadata": {},
   "outputs": [
    {
     "name": "stdout",
     "output_type": "stream",
     "text": [
      "Help on Equilibrium in module dolark.equilibrium object:\n",
      "\n",
      "class Equilibrium(builtins.object)\n",
      " |  Equilibrium(aggmodel, m, μ, dr, y)\n",
      " |  \n",
      " |  Methods defined here:\n",
      " |  \n",
      " |  __init__(self, aggmodel, m, μ, dr, y)\n",
      " |      Initialize self.  See help(type(self)) for accurate signature.\n",
      " |  \n",
      " |  as_df(self)\n",
      " |  \n",
      " |  ----------------------------------------------------------------------\n",
      " |  Data descriptors defined here:\n",
      " |  \n",
      " |  __dict__\n",
      " |      dictionary for instance variables (if defined)\n",
      " |  \n",
      " |  __weakref__\n",
      " |      list of weak references to the object (if defined)\n",
      "\n"
     ]
    }
   ],
   "source": [
    "help(eq)"
   ]
  },
  {
   "cell_type": "code",
   "execution_count": 9,
   "metadata": {},
   "outputs": [
    {
     "data": {
      "text/plain": [
       "<dolo.numeric.decision_rule.DecisionRule at 0x1cd09155278>"
      ]
     },
     "execution_count": 9,
     "metadata": {},
     "output_type": "execute_result"
    }
   ],
   "source": [
    "eq.dr"
   ]
  },
  {
   "cell_type": "code",
   "execution_count": 10,
   "metadata": {},
   "outputs": [
    {
     "data": {
      "text/plain": [
       "array([6.33612038])"
      ]
     },
     "execution_count": 10,
     "metadata": {},
     "output_type": "execute_result"
    }
   ],
   "source": [
    "eq.y  # y is the aggregate endogenous variable"
   ]
  },
  {
   "cell_type": "code",
   "execution_count": 11,
   "metadata": {},
   "outputs": [
    {
     "data": {
      "text/plain": [
       "array([0.])"
      ]
     },
     "execution_count": 11,
     "metadata": {},
     "output_type": "execute_result"
    }
   ],
   "source": [
    "eq.m # aggregate exogenous"
   ]
  },
  {
   "cell_type": "code",
   "execution_count": 12,
   "metadata": {},
   "outputs": [
    {
     "data": {
      "text/plain": [
       "<dolark.model.HModel at 0x1cd084ee780>"
      ]
     },
     "execution_count": 12,
     "metadata": {},
     "output_type": "execute_result"
    }
   ],
   "source": [
    "eq.aggmodel"
   ]
  },
  {
   "cell_type": "code",
   "execution_count": 13,
   "metadata": {},
   "outputs": [
    {
     "name": "stdout",
     "output_type": "stream",
     "text": [
      "0.24999999999999994\n",
      "0.5000000000000004\n",
      "0.24999999999999936\n"
     ]
    }
   ],
   "source": [
    "print(eq.μ[0,:].sum())\n",
    "print(eq.μ[1,:].sum())\n",
    "print(eq.μ[2,:].sum())"
   ]
  },
  {
   "cell_type": "code",
   "execution_count": 14,
   "metadata": {},
   "outputs": [
    {
     "data": {
      "text/plain": [
       "3"
      ]
     },
     "execution_count": 14,
     "metadata": {},
     "output_type": "execute_result"
    }
   ],
   "source": [
    "eq.μ.shape[0]"
   ]
  },
  {
   "cell_type": "code",
   "execution_count": 15,
   "metadata": {},
   "outputs": [
    {
     "data": {
      "text/plain": [
       "Text(0.5, 1.0, 'Wealth Distribution by Income')"
      ]
     },
     "execution_count": 15,
     "metadata": {},
     "output_type": "execute_result"
    },
    {
     "data": {
      "image/png": "[encoded data removed]",
      "text/plain": [
       "<Figure size 432x288 with 1 Axes>"
      ]
     },
     "metadata": {
      "needs_background": "light"
     },
     "output_type": "display_data"
    }
   ],
   "source": [
    "for i in range(eq.μ.shape[0]):\n",
    "    s = eq.dr.endo_grid.nodes() # grid for states (temporary)\n",
    "    plt.plot(s, eq.μ[i,:]*(eq.μ[i,:].sum()), label=f\"agg exo shocks={eq.dr.exo_grid.node(i)[2]: .2f}\")\n",
    "plt.plot(s, eq.μ.sum(axis=0), label='total', color='black')\n",
    "plt.grid()\n",
    "plt.legend(loc='upper right')\n",
    "plt.title(\"Wealth Distribution by Income\")"
   ]
  },
  {
   "cell_type": "code",
   "execution_count": 16,
   "metadata": {},
   "outputs": [
    {
     "data": {
      "text/plain": [
       "array([[ 0.03044232,  1.2440459 , -0.64888568],\n",
       "       [ 0.03044232,  1.2440459 ,  0.        ],\n",
       "       [ 0.03044232,  1.2440459 ,  0.64888568]])"
      ]
     },
     "execution_count": 16,
     "metadata": {},
     "output_type": "execute_result"
    }
   ],
   "source": [
    "eq.dr.exo_grid.nodes()"
   ]
  },
  {
   "cell_type": "code",
   "execution_count": 29,
   "metadata": {},
   "outputs": [],
   "source": [
    "import altair as alt\n",
    "import pandas as pd\n",
    "single = alt.selection_single(on='mouseover', nearest=True)\n",
    "df = eq.as_df()\n",
    "ch = alt.Chart(df)\n",
    "spec = ch.properties(title='Distribution', height=100).mark_line().encode(\n",
    "    x = 'a',\n",
    "    y = 'μ',\n",
    "    color = alt.condition(single, 'i_m:N', alt.value('lightgray'))\n",
    ").add_selection(\n",
    "        single\n",
    ") + ch.mark_line(color='black').encode(\n",
    "    x = 'a',\n",
    "    y = 'sum(μ)'\n",
    ") & ch.properties(title='Decision Rule', height=100).mark_line().encode(\n",
    "    x = 'a',\n",
    "    y = 'i',\n",
    "    color = alt.condition(single, 'i_m:N', alt.value('lightgray'))\n",
    ").add_selection(\n",
    "        single\n",
    ")"
   ]
  },
  {
   "cell_type": "code",
   "execution_count": 24,
   "metadata": {},
   "outputs": [
    {
     "data": {
      "text/html": [
       "<div>\n",
       "<style scoped>\n",
       "    .dataframe tbody tr th:only-of-type {\n",
       "        vertical-align: middle;\n",
       "    }\n",
       "\n",
       "    .dataframe tbody tr th {\n",
       "        vertical-align: top;\n",
       "    }\n",
       "\n",
       "    .dataframe thead th {\n",
       "        text-align: right;\n",
       "    }\n",
       "</style>\n",
       "<table border=\"1\" class=\"dataframe\">\n",
       "  <thead>\n",
       "    <tr style=\"text-align: right;\">\n",
       "      <th></th>\n",
       "      <th>i_m</th>\n",
       "      <th>r</th>\n",
       "      <th>w</th>\n",
       "      <th>e</th>\n",
       "      <th>a</th>\n",
       "      <th>μ</th>\n",
       "      <th>i</th>\n",
       "    </tr>\n",
       "  </thead>\n",
       "  <tbody>\n",
       "    <tr>\n",
       "      <th>0</th>\n",
       "      <td>0.0</td>\n",
       "      <td>0.030442</td>\n",
       "      <td>1.244046</td>\n",
       "      <td>-0.648886</td>\n",
       "      <td>-1.000000e-10</td>\n",
       "      <td>1.537294e-01</td>\n",
       "      <td>-1.000000e-10</td>\n",
       "    </tr>\n",
       "    <tr>\n",
       "      <th>1</th>\n",
       "      <td>0.0</td>\n",
       "      <td>0.030442</td>\n",
       "      <td>1.244046</td>\n",
       "      <td>-0.648886</td>\n",
       "      <td>6.896552e+00</td>\n",
       "      <td>6.660702e-02</td>\n",
       "      <td>6.418651e+00</td>\n",
       "    </tr>\n",
       "    <tr>\n",
       "      <th>2</th>\n",
       "      <td>0.0</td>\n",
       "      <td>0.030442</td>\n",
       "      <td>1.244046</td>\n",
       "      <td>-0.648886</td>\n",
       "      <td>1.379310e+01</td>\n",
       "      <td>2.084279e-02</td>\n",
       "      <td>1.305163e+01</td>\n",
       "    </tr>\n",
       "    <tr>\n",
       "      <th>3</th>\n",
       "      <td>0.0</td>\n",
       "      <td>0.030442</td>\n",
       "      <td>1.244046</td>\n",
       "      <td>-0.648886</td>\n",
       "      <td>2.068966e+01</td>\n",
       "      <td>6.928995e-03</td>\n",
       "      <td>1.978489e+01</td>\n",
       "    </tr>\n",
       "    <tr>\n",
       "      <th>4</th>\n",
       "      <td>0.0</td>\n",
       "      <td>0.030442</td>\n",
       "      <td>1.244046</td>\n",
       "      <td>-0.648886</td>\n",
       "      <td>2.758621e+01</td>\n",
       "      <td>1.666539e-03</td>\n",
       "      <td>2.655182e+01</td>\n",
       "    </tr>\n",
       "    <tr>\n",
       "      <th>5</th>\n",
       "      <td>0.0</td>\n",
       "      <td>0.030442</td>\n",
       "      <td>1.244046</td>\n",
       "      <td>-0.648886</td>\n",
       "      <td>3.448276e+01</td>\n",
       "      <td>2.228881e-04</td>\n",
       "      <td>3.333614e+01</td>\n",
       "    </tr>\n",
       "    <tr>\n",
       "      <th>6</th>\n",
       "      <td>0.0</td>\n",
       "      <td>0.030442</td>\n",
       "      <td>1.244046</td>\n",
       "      <td>-0.648886</td>\n",
       "      <td>4.137931e+01</td>\n",
       "      <td>2.319558e-06</td>\n",
       "      <td>4.013077e+01</td>\n",
       "    </tr>\n",
       "    <tr>\n",
       "      <th>7</th>\n",
       "      <td>0.0</td>\n",
       "      <td>0.030442</td>\n",
       "      <td>1.244046</td>\n",
       "      <td>-0.648886</td>\n",
       "      <td>4.827586e+01</td>\n",
       "      <td>-1.710984e-16</td>\n",
       "      <td>4.693204e+01</td>\n",
       "    </tr>\n",
       "    <tr>\n",
       "      <th>8</th>\n",
       "      <td>0.0</td>\n",
       "      <td>0.030442</td>\n",
       "      <td>1.244046</td>\n",
       "      <td>-0.648886</td>\n",
       "      <td>5.517241e+01</td>\n",
       "      <td>-1.555126e-16</td>\n",
       "      <td>5.373786e+01</td>\n",
       "    </tr>\n",
       "    <tr>\n",
       "      <th>9</th>\n",
       "      <td>0.0</td>\n",
       "      <td>0.030442</td>\n",
       "      <td>1.244046</td>\n",
       "      <td>-0.648886</td>\n",
       "      <td>6.206897e+01</td>\n",
       "      <td>-1.429016e-16</td>\n",
       "      <td>6.054693e+01</td>\n",
       "    </tr>\n",
       "    <tr>\n",
       "      <th>10</th>\n",
       "      <td>0.0</td>\n",
       "      <td>0.030442</td>\n",
       "      <td>1.244046</td>\n",
       "      <td>-0.648886</td>\n",
       "      <td>6.896552e+01</td>\n",
       "      <td>-1.324010e-16</td>\n",
       "      <td>6.735838e+01</td>\n",
       "    </tr>\n",
       "    <tr>\n",
       "      <th>11</th>\n",
       "      <td>0.0</td>\n",
       "      <td>0.030442</td>\n",
       "      <td>1.244046</td>\n",
       "      <td>-0.648886</td>\n",
       "      <td>7.586207e+01</td>\n",
       "      <td>-1.234564e-16</td>\n",
       "      <td>7.417163e+01</td>\n",
       "    </tr>\n",
       "    <tr>\n",
       "      <th>12</th>\n",
       "      <td>0.0</td>\n",
       "      <td>0.030442</td>\n",
       "      <td>1.244046</td>\n",
       "      <td>-0.648886</td>\n",
       "      <td>8.275862e+01</td>\n",
       "      <td>-1.156883e-16</td>\n",
       "      <td>8.098629e+01</td>\n",
       "    </tr>\n",
       "    <tr>\n",
       "      <th>13</th>\n",
       "      <td>0.0</td>\n",
       "      <td>0.030442</td>\n",
       "      <td>1.244046</td>\n",
       "      <td>-0.648886</td>\n",
       "      <td>8.965517e+01</td>\n",
       "      <td>-1.088210e-16</td>\n",
       "      <td>8.780204e+01</td>\n",
       "    </tr>\n",
       "    <tr>\n",
       "      <th>14</th>\n",
       "      <td>0.0</td>\n",
       "      <td>0.030442</td>\n",
       "      <td>1.244046</td>\n",
       "      <td>-0.648886</td>\n",
       "      <td>9.655172e+01</td>\n",
       "      <td>-1.026424e-16</td>\n",
       "      <td>9.461868e+01</td>\n",
       "    </tr>\n",
       "    <tr>\n",
       "      <th>15</th>\n",
       "      <td>0.0</td>\n",
       "      <td>0.030442</td>\n",
       "      <td>1.244046</td>\n",
       "      <td>-0.648886</td>\n",
       "      <td>1.034483e+02</td>\n",
       "      <td>-9.697869e-17</td>\n",
       "      <td>1.014360e+02</td>\n",
       "    </tr>\n",
       "    <tr>\n",
       "      <th>16</th>\n",
       "      <td>0.0</td>\n",
       "      <td>0.030442</td>\n",
       "      <td>1.244046</td>\n",
       "      <td>-0.648886</td>\n",
       "      <td>1.103448e+02</td>\n",
       "      <td>-9.167847e-17</td>\n",
       "      <td>1.082540e+02</td>\n",
       "    </tr>\n",
       "    <tr>\n",
       "      <th>17</th>\n",
       "      <td>0.0</td>\n",
       "      <td>0.030442</td>\n",
       "      <td>1.244046</td>\n",
       "      <td>-0.648886</td>\n",
       "      <td>1.172414e+02</td>\n",
       "      <td>-8.660158e-17</td>\n",
       "      <td>1.150724e+02</td>\n",
       "    </tr>\n",
       "    <tr>\n",
       "      <th>18</th>\n",
       "      <td>0.0</td>\n",
       "      <td>0.030442</td>\n",
       "      <td>1.244046</td>\n",
       "      <td>-0.648886</td>\n",
       "      <td>1.241379e+02</td>\n",
       "      <td>-8.161099e-17</td>\n",
       "      <td>1.218912e+02</td>\n",
       "    </tr>\n",
       "    <tr>\n",
       "      <th>19</th>\n",
       "      <td>0.0</td>\n",
       "      <td>0.030442</td>\n",
       "      <td>1.244046</td>\n",
       "      <td>-0.648886</td>\n",
       "      <td>1.310345e+02</td>\n",
       "      <td>-7.656730e-17</td>\n",
       "      <td>1.287104e+02</td>\n",
       "    </tr>\n",
       "    <tr>\n",
       "      <th>20</th>\n",
       "      <td>0.0</td>\n",
       "      <td>0.030442</td>\n",
       "      <td>1.244046</td>\n",
       "      <td>-0.648886</td>\n",
       "      <td>1.379310e+02</td>\n",
       "      <td>-7.132570e-17</td>\n",
       "      <td>1.355299e+02</td>\n",
       "    </tr>\n",
       "    <tr>\n",
       "      <th>21</th>\n",
       "      <td>0.0</td>\n",
       "      <td>0.030442</td>\n",
       "      <td>1.244046</td>\n",
       "      <td>-0.648886</td>\n",
       "      <td>1.448276e+02</td>\n",
       "      <td>-6.573595e-17</td>\n",
       "      <td>1.423497e+02</td>\n",
       "    </tr>\n",
       "    <tr>\n",
       "      <th>22</th>\n",
       "      <td>0.0</td>\n",
       "      <td>0.030442</td>\n",
       "      <td>1.244046</td>\n",
       "      <td>-0.648886</td>\n",
       "      <td>1.517241e+02</td>\n",
       "      <td>-5.964706e-17</td>\n",
       "      <td>1.491696e+02</td>\n",
       "    </tr>\n",
       "    <tr>\n",
       "      <th>23</th>\n",
       "      <td>0.0</td>\n",
       "      <td>0.030442</td>\n",
       "      <td>1.244046</td>\n",
       "      <td>-0.648886</td>\n",
       "      <td>1.586207e+02</td>\n",
       "      <td>-5.291893e-17</td>\n",
       "      <td>1.559898e+02</td>\n",
       "    </tr>\n",
       "    <tr>\n",
       "      <th>24</th>\n",
       "      <td>0.0</td>\n",
       "      <td>0.030442</td>\n",
       "      <td>1.244046</td>\n",
       "      <td>-0.648886</td>\n",
       "      <td>1.655172e+02</td>\n",
       "      <td>-4.544511e-17</td>\n",
       "      <td>1.628101e+02</td>\n",
       "    </tr>\n",
       "    <tr>\n",
       "      <th>25</th>\n",
       "      <td>0.0</td>\n",
       "      <td>0.030442</td>\n",
       "      <td>1.244046</td>\n",
       "      <td>-0.648886</td>\n",
       "      <td>1.724138e+02</td>\n",
       "      <td>-3.719270e-17</td>\n",
       "      <td>1.696306e+02</td>\n",
       "    </tr>\n",
       "    <tr>\n",
       "      <th>26</th>\n",
       "      <td>0.0</td>\n",
       "      <td>0.030442</td>\n",
       "      <td>1.244046</td>\n",
       "      <td>-0.648886</td>\n",
       "      <td>1.793103e+02</td>\n",
       "      <td>-2.826817e-17</td>\n",
       "      <td>1.764512e+02</td>\n",
       "    </tr>\n",
       "    <tr>\n",
       "      <th>27</th>\n",
       "      <td>0.0</td>\n",
       "      <td>0.030442</td>\n",
       "      <td>1.244046</td>\n",
       "      <td>-0.648886</td>\n",
       "      <td>1.862069e+02</td>\n",
       "      <td>-1.902259e-17</td>\n",
       "      <td>1.832720e+02</td>\n",
       "    </tr>\n",
       "    <tr>\n",
       "      <th>28</th>\n",
       "      <td>0.0</td>\n",
       "      <td>0.030442</td>\n",
       "      <td>1.244046</td>\n",
       "      <td>-0.648886</td>\n",
       "      <td>1.931034e+02</td>\n",
       "      <td>-1.021482e-17</td>\n",
       "      <td>1.900928e+02</td>\n",
       "    </tr>\n",
       "    <tr>\n",
       "      <th>29</th>\n",
       "      <td>0.0</td>\n",
       "      <td>0.030442</td>\n",
       "      <td>1.244046</td>\n",
       "      <td>-0.648886</td>\n",
       "      <td>2.000000e+02</td>\n",
       "      <td>-3.260196e-18</td>\n",
       "      <td>1.969137e+02</td>\n",
       "    </tr>\n",
       "    <tr>\n",
       "      <th>...</th>\n",
       "      <td>...</td>\n",
       "      <td>...</td>\n",
       "      <td>...</td>\n",
       "      <td>...</td>\n",
       "      <td>...</td>\n",
       "      <td>...</td>\n",
       "      <td>...</td>\n",
       "    </tr>\n",
       "    <tr>\n",
       "      <th>60</th>\n",
       "      <td>2.0</td>\n",
       "      <td>0.030442</td>\n",
       "      <td>1.244046</td>\n",
       "      <td>0.648886</td>\n",
       "      <td>-1.000000e-10</td>\n",
       "      <td>5.684871e-02</td>\n",
       "      <td>7.459547e-01</td>\n",
       "    </tr>\n",
       "    <tr>\n",
       "      <th>61</th>\n",
       "      <td>2.0</td>\n",
       "      <td>0.030442</td>\n",
       "      <td>1.244046</td>\n",
       "      <td>0.648886</td>\n",
       "      <td>6.896552e+00</td>\n",
       "      <td>8.688878e-02</td>\n",
       "      <td>7.394224e+00</td>\n",
       "    </tr>\n",
       "    <tr>\n",
       "      <th>62</th>\n",
       "      <td>2.0</td>\n",
       "      <td>0.030442</td>\n",
       "      <td>1.244046</td>\n",
       "      <td>0.648886</td>\n",
       "      <td>1.379310e+01</td>\n",
       "      <td>6.171790e-02</td>\n",
       "      <td>1.413507e+01</td>\n",
       "    </tr>\n",
       "    <tr>\n",
       "      <th>63</th>\n",
       "      <td>2.0</td>\n",
       "      <td>0.030442</td>\n",
       "      <td>1.244046</td>\n",
       "      <td>0.648886</td>\n",
       "      <td>2.068966e+01</td>\n",
       "      <td>3.152498e-02</td>\n",
       "      <td>2.090546e+01</td>\n",
       "    </tr>\n",
       "    <tr>\n",
       "      <th>64</th>\n",
       "      <td>2.0</td>\n",
       "      <td>0.030442</td>\n",
       "      <td>1.244046</td>\n",
       "      <td>0.648886</td>\n",
       "      <td>2.758621e+01</td>\n",
       "      <td>1.092678e-02</td>\n",
       "      <td>2.769379e+01</td>\n",
       "    </tr>\n",
       "    <tr>\n",
       "      <th>65</th>\n",
       "      <td>2.0</td>\n",
       "      <td>0.030442</td>\n",
       "      <td>1.244046</td>\n",
       "      <td>0.648886</td>\n",
       "      <td>3.448276e+01</td>\n",
       "      <td>2.067961e-03</td>\n",
       "      <td>3.449075e+01</td>\n",
       "    </tr>\n",
       "    <tr>\n",
       "      <th>66</th>\n",
       "      <td>2.0</td>\n",
       "      <td>0.030442</td>\n",
       "      <td>1.244046</td>\n",
       "      <td>0.648886</td>\n",
       "      <td>4.137931e+01</td>\n",
       "      <td>2.489570e-05</td>\n",
       "      <td>4.129366e+01</td>\n",
       "    </tr>\n",
       "    <tr>\n",
       "      <th>67</th>\n",
       "      <td>2.0</td>\n",
       "      <td>0.030442</td>\n",
       "      <td>1.244046</td>\n",
       "      <td>0.648886</td>\n",
       "      <td>4.827586e+01</td>\n",
       "      <td>-1.951842e-16</td>\n",
       "      <td>4.810060e+01</td>\n",
       "    </tr>\n",
       "    <tr>\n",
       "      <th>68</th>\n",
       "      <td>2.0</td>\n",
       "      <td>0.030442</td>\n",
       "      <td>1.244046</td>\n",
       "      <td>0.648886</td>\n",
       "      <td>5.517241e+01</td>\n",
       "      <td>-1.749350e-16</td>\n",
       "      <td>5.491043e+01</td>\n",
       "    </tr>\n",
       "    <tr>\n",
       "      <th>69</th>\n",
       "      <td>2.0</td>\n",
       "      <td>0.030442</td>\n",
       "      <td>1.244046</td>\n",
       "      <td>0.648886</td>\n",
       "      <td>6.206897e+01</td>\n",
       "      <td>-1.590655e-16</td>\n",
       "      <td>6.172242e+01</td>\n",
       "    </tr>\n",
       "    <tr>\n",
       "      <th>70</th>\n",
       "      <td>2.0</td>\n",
       "      <td>0.030442</td>\n",
       "      <td>1.244046</td>\n",
       "      <td>0.648886</td>\n",
       "      <td>6.896552e+01</td>\n",
       "      <td>-1.462128e-16</td>\n",
       "      <td>6.853604e+01</td>\n",
       "    </tr>\n",
       "    <tr>\n",
       "      <th>71</th>\n",
       "      <td>2.0</td>\n",
       "      <td>0.030442</td>\n",
       "      <td>1.244046</td>\n",
       "      <td>0.648886</td>\n",
       "      <td>7.586207e+01</td>\n",
       "      <td>-1.355569e-16</td>\n",
       "      <td>7.535094e+01</td>\n",
       "    </tr>\n",
       "    <tr>\n",
       "      <th>72</th>\n",
       "      <td>2.0</td>\n",
       "      <td>0.030442</td>\n",
       "      <td>1.244046</td>\n",
       "      <td>0.648886</td>\n",
       "      <td>8.275862e+01</td>\n",
       "      <td>-1.265752e-16</td>\n",
       "      <td>8.216686e+01</td>\n",
       "    </tr>\n",
       "    <tr>\n",
       "      <th>73</th>\n",
       "      <td>2.0</td>\n",
       "      <td>0.030442</td>\n",
       "      <td>1.244046</td>\n",
       "      <td>0.648886</td>\n",
       "      <td>8.965517e+01</td>\n",
       "      <td>-1.189237e-16</td>\n",
       "      <td>8.898360e+01</td>\n",
       "    </tr>\n",
       "    <tr>\n",
       "      <th>74</th>\n",
       "      <td>2.0</td>\n",
       "      <td>0.030442</td>\n",
       "      <td>1.244046</td>\n",
       "      <td>0.648886</td>\n",
       "      <td>9.655172e+01</td>\n",
       "      <td>-1.123731e-16</td>\n",
       "      <td>9.580101e+01</td>\n",
       "    </tr>\n",
       "    <tr>\n",
       "      <th>75</th>\n",
       "      <td>2.0</td>\n",
       "      <td>0.030442</td>\n",
       "      <td>1.244046</td>\n",
       "      <td>0.648886</td>\n",
       "      <td>1.034483e+02</td>\n",
       "      <td>-1.067754e-16</td>\n",
       "      <td>1.026190e+02</td>\n",
       "    </tr>\n",
       "    <tr>\n",
       "      <th>76</th>\n",
       "      <td>2.0</td>\n",
       "      <td>0.030442</td>\n",
       "      <td>1.244046</td>\n",
       "      <td>0.648886</td>\n",
       "      <td>1.103448e+02</td>\n",
       "      <td>-1.020446e-16</td>\n",
       "      <td>1.094374e+02</td>\n",
       "    </tr>\n",
       "    <tr>\n",
       "      <th>77</th>\n",
       "      <td>2.0</td>\n",
       "      <td>0.030442</td>\n",
       "      <td>1.244046</td>\n",
       "      <td>0.648886</td>\n",
       "      <td>1.172414e+02</td>\n",
       "      <td>-9.814871e-17</td>\n",
       "      <td>1.162562e+02</td>\n",
       "    </tr>\n",
       "    <tr>\n",
       "      <th>78</th>\n",
       "      <td>2.0</td>\n",
       "      <td>0.030442</td>\n",
       "      <td>1.244046</td>\n",
       "      <td>0.648886</td>\n",
       "      <td>1.241379e+02</td>\n",
       "      <td>-9.510870e-17</td>\n",
       "      <td>1.230754e+02</td>\n",
       "    </tr>\n",
       "    <tr>\n",
       "      <th>79</th>\n",
       "      <td>2.0</td>\n",
       "      <td>0.030442</td>\n",
       "      <td>1.244046</td>\n",
       "      <td>0.648886</td>\n",
       "      <td>1.310345e+02</td>\n",
       "      <td>-9.300414e-17</td>\n",
       "      <td>1.298948e+02</td>\n",
       "    </tr>\n",
       "    <tr>\n",
       "      <th>80</th>\n",
       "      <td>2.0</td>\n",
       "      <td>0.030442</td>\n",
       "      <td>1.244046</td>\n",
       "      <td>0.648886</td>\n",
       "      <td>1.379310e+02</td>\n",
       "      <td>-9.198672e-17</td>\n",
       "      <td>1.367145e+02</td>\n",
       "    </tr>\n",
       "    <tr>\n",
       "      <th>81</th>\n",
       "      <td>2.0</td>\n",
       "      <td>0.030442</td>\n",
       "      <td>1.244046</td>\n",
       "      <td>0.648886</td>\n",
       "      <td>1.448276e+02</td>\n",
       "      <td>-9.230376e-17</td>\n",
       "      <td>1.435344e+02</td>\n",
       "    </tr>\n",
       "    <tr>\n",
       "      <th>82</th>\n",
       "      <td>2.0</td>\n",
       "      <td>0.030442</td>\n",
       "      <td>1.244046</td>\n",
       "      <td>0.648886</td>\n",
       "      <td>1.517241e+02</td>\n",
       "      <td>-9.433531e-17</td>\n",
       "      <td>1.503545e+02</td>\n",
       "    </tr>\n",
       "    <tr>\n",
       "      <th>83</th>\n",
       "      <td>2.0</td>\n",
       "      <td>0.030442</td>\n",
       "      <td>1.244046</td>\n",
       "      <td>0.648886</td>\n",
       "      <td>1.586207e+02</td>\n",
       "      <td>-9.865160e-17</td>\n",
       "      <td>1.571748e+02</td>\n",
       "    </tr>\n",
       "    <tr>\n",
       "      <th>84</th>\n",
       "      <td>2.0</td>\n",
       "      <td>0.030442</td>\n",
       "      <td>1.244046</td>\n",
       "      <td>0.648886</td>\n",
       "      <td>1.655172e+02</td>\n",
       "      <td>-1.060989e-16</td>\n",
       "      <td>1.639952e+02</td>\n",
       "    </tr>\n",
       "    <tr>\n",
       "      <th>85</th>\n",
       "      <td>2.0</td>\n",
       "      <td>0.030442</td>\n",
       "      <td>1.244046</td>\n",
       "      <td>0.648886</td>\n",
       "      <td>1.724138e+02</td>\n",
       "      <td>-1.179287e-16</td>\n",
       "      <td>1.708158e+02</td>\n",
       "    </tr>\n",
       "    <tr>\n",
       "      <th>86</th>\n",
       "      <td>2.0</td>\n",
       "      <td>0.030442</td>\n",
       "      <td>1.244046</td>\n",
       "      <td>0.648886</td>\n",
       "      <td>1.793103e+02</td>\n",
       "      <td>-1.359861e-16</td>\n",
       "      <td>1.776365e+02</td>\n",
       "    </tr>\n",
       "    <tr>\n",
       "      <th>87</th>\n",
       "      <td>2.0</td>\n",
       "      <td>0.030442</td>\n",
       "      <td>1.244046</td>\n",
       "      <td>0.648886</td>\n",
       "      <td>1.862069e+02</td>\n",
       "      <td>-1.629896e-16</td>\n",
       "      <td>1.844572e+02</td>\n",
       "    </tr>\n",
       "    <tr>\n",
       "      <th>88</th>\n",
       "      <td>2.0</td>\n",
       "      <td>0.030442</td>\n",
       "      <td>1.244046</td>\n",
       "      <td>0.648886</td>\n",
       "      <td>1.931034e+02</td>\n",
       "      <td>-2.029314e-16</td>\n",
       "      <td>1.912781e+02</td>\n",
       "    </tr>\n",
       "    <tr>\n",
       "      <th>89</th>\n",
       "      <td>2.0</td>\n",
       "      <td>0.030442</td>\n",
       "      <td>1.244046</td>\n",
       "      <td>0.648886</td>\n",
       "      <td>2.000000e+02</td>\n",
       "      <td>-2.616638e-16</td>\n",
       "      <td>1.980991e+02</td>\n",
       "    </tr>\n",
       "  </tbody>\n",
       "</table>\n",
       "<p>90 rows × 7 columns</p>\n",
       "</div>"
      ],
      "text/plain": [
       "    i_m         r         w         e             a             μ  \\\n",
       "0   0.0  0.030442  1.244046 -0.648886 -1.000000e-10  1.537294e-01   \n",
       "1   0.0  0.030442  1.244046 -0.648886  6.896552e+00  6.660702e-02   \n",
       "2   0.0  0.030442  1.244046 -0.648886  1.379310e+01  2.084279e-02   \n",
       "3   0.0  0.030442  1.244046 -0.648886  2.068966e+01  6.928995e-03   \n",
       "4   0.0  0.030442  1.244046 -0.648886  2.758621e+01  1.666539e-03   \n",
       "5   0.0  0.030442  1.244046 -0.648886  3.448276e+01  2.228881e-04   \n",
       "6   0.0  0.030442  1.244046 -0.648886  4.137931e+01  2.319558e-06   \n",
       "7   0.0  0.030442  1.244046 -0.648886  4.827586e+01 -1.710984e-16   \n",
       "8   0.0  0.030442  1.244046 -0.648886  5.517241e+01 -1.555126e-16   \n",
       "9   0.0  0.030442  1.244046 -0.648886  6.206897e+01 -1.429016e-16   \n",
       "10  0.0  0.030442  1.244046 -0.648886  6.896552e+01 -1.324010e-16   \n",
       "11  0.0  0.030442  1.244046 -0.648886  7.586207e+01 -1.234564e-16   \n",
       "12  0.0  0.030442  1.244046 -0.648886  8.275862e+01 -1.156883e-16   \n",
       "13  0.0  0.030442  1.244046 -0.648886  8.965517e+01 -1.088210e-16   \n",
       "14  0.0  0.030442  1.244046 -0.648886  9.655172e+01 -1.026424e-16   \n",
       "15  0.0  0.030442  1.244046 -0.648886  1.034483e+02 -9.697869e-17   \n",
       "16  0.0  0.030442  1.244046 -0.648886  1.103448e+02 -9.167847e-17   \n",
       "17  0.0  0.030442  1.244046 -0.648886  1.172414e+02 -8.660158e-17   \n",
       "18  0.0  0.030442  1.244046 -0.648886  1.241379e+02 -8.161099e-17   \n",
       "19  0.0  0.030442  1.244046 -0.648886  1.310345e+02 -7.656730e-17   \n",
       "20  0.0  0.030442  1.244046 -0.648886  1.379310e+02 -7.132570e-17   \n",
       "21  0.0  0.030442  1.244046 -0.648886  1.448276e+02 -6.573595e-17   \n",
       "22  0.0  0.030442  1.244046 -0.648886  1.517241e+02 -5.964706e-17   \n",
       "23  0.0  0.030442  1.244046 -0.648886  1.586207e+02 -5.291893e-17   \n",
       "24  0.0  0.030442  1.244046 -0.648886  1.655172e+02 -4.544511e-17   \n",
       "25  0.0  0.030442  1.244046 -0.648886  1.724138e+02 -3.719270e-17   \n",
       "26  0.0  0.030442  1.244046 -0.648886  1.793103e+02 -2.826817e-17   \n",
       "27  0.0  0.030442  1.244046 -0.648886  1.862069e+02 -1.902259e-17   \n",
       "28  0.0  0.030442  1.244046 -0.648886  1.931034e+02 -1.021482e-17   \n",
       "29  0.0  0.030442  1.244046 -0.648886  2.000000e+02 -3.260196e-18   \n",
       "..  ...       ...       ...       ...           ...           ...   \n",
       "60  2.0  0.030442  1.244046  0.648886 -1.000000e-10  5.684871e-02   \n",
       "61  2.0  0.030442  1.244046  0.648886  6.896552e+00  8.688878e-02   \n",
       "62  2.0  0.030442  1.244046  0.648886  1.379310e+01  6.171790e-02   \n",
       "63  2.0  0.030442  1.244046  0.648886  2.068966e+01  3.152498e-02   \n",
       "64  2.0  0.030442  1.244046  0.648886  2.758621e+01  1.092678e-02   \n",
       "65  2.0  0.030442  1.244046  0.648886  3.448276e+01  2.067961e-03   \n",
       "66  2.0  0.030442  1.244046  0.648886  4.137931e+01  2.489570e-05   \n",
       "67  2.0  0.030442  1.244046  0.648886  4.827586e+01 -1.951842e-16   \n",
       "68  2.0  0.030442  1.244046  0.648886  5.517241e+01 -1.749350e-16   \n",
       "69  2.0  0.030442  1.244046  0.648886  6.206897e+01 -1.590655e-16   \n",
       "70  2.0  0.030442  1.244046  0.648886  6.896552e+01 -1.462128e-16   \n",
       "71  2.0  0.030442  1.244046  0.648886  7.586207e+01 -1.355569e-16   \n",
       "72  2.0  0.030442  1.244046  0.648886  8.275862e+01 -1.265752e-16   \n",
       "73  2.0  0.030442  1.244046  0.648886  8.965517e+01 -1.189237e-16   \n",
       "74  2.0  0.030442  1.244046  0.648886  9.655172e+01 -1.123731e-16   \n",
       "75  2.0  0.030442  1.244046  0.648886  1.034483e+02 -1.067754e-16   \n",
       "76  2.0  0.030442  1.244046  0.648886  1.103448e+02 -1.020446e-16   \n",
       "77  2.0  0.030442  1.244046  0.648886  1.172414e+02 -9.814871e-17   \n",
       "78  2.0  0.030442  1.244046  0.648886  1.241379e+02 -9.510870e-17   \n",
       "79  2.0  0.030442  1.244046  0.648886  1.310345e+02 -9.300414e-17   \n",
       "80  2.0  0.030442  1.244046  0.648886  1.379310e+02 -9.198672e-17   \n",
       "81  2.0  0.030442  1.244046  0.648886  1.448276e+02 -9.230376e-17   \n",
       "82  2.0  0.030442  1.244046  0.648886  1.517241e+02 -9.433531e-17   \n",
       "83  2.0  0.030442  1.244046  0.648886  1.586207e+02 -9.865160e-17   \n",
       "84  2.0  0.030442  1.244046  0.648886  1.655172e+02 -1.060989e-16   \n",
       "85  2.0  0.030442  1.244046  0.648886  1.724138e+02 -1.179287e-16   \n",
       "86  2.0  0.030442  1.244046  0.648886  1.793103e+02 -1.359861e-16   \n",
       "87  2.0  0.030442  1.244046  0.648886  1.862069e+02 -1.629896e-16   \n",
       "88  2.0  0.030442  1.244046  0.648886  1.931034e+02 -2.029314e-16   \n",
       "89  2.0  0.030442  1.244046  0.648886  2.000000e+02 -2.616638e-16   \n",
       "\n",
       "               i  \n",
       "0  -1.000000e-10  \n",
       "1   6.418651e+00  \n",
       "2   1.305163e+01  \n",
       "3   1.978489e+01  \n",
       "4   2.655182e+01  \n",
       "5   3.333614e+01  \n",
       "6   4.013077e+01  \n",
       "7   4.693204e+01  \n",
       "8   5.373786e+01  \n",
       "9   6.054693e+01  \n",
       "10  6.735838e+01  \n",
       "11  7.417163e+01  \n",
       "12  8.098629e+01  \n",
       "13  8.780204e+01  \n",
       "14  9.461868e+01  \n",
       "15  1.014360e+02  \n",
       "16  1.082540e+02  \n",
       "17  1.150724e+02  \n",
       "18  1.218912e+02  \n",
       "19  1.287104e+02  \n",
       "20  1.355299e+02  \n",
       "21  1.423497e+02  \n",
       "22  1.491696e+02  \n",
       "23  1.559898e+02  \n",
       "24  1.628101e+02  \n",
       "25  1.696306e+02  \n",
       "26  1.764512e+02  \n",
       "27  1.832720e+02  \n",
       "28  1.900928e+02  \n",
       "29  1.969137e+02  \n",
       "..           ...  \n",
       "60  7.459547e-01  \n",
       "61  7.394224e+00  \n",
       "62  1.413507e+01  \n",
       "63  2.090546e+01  \n",
       "64  2.769379e+01  \n",
       "65  3.449075e+01  \n",
       "66  4.129366e+01  \n",
       "67  4.810060e+01  \n",
       "68  5.491043e+01  \n",
       "69  6.172242e+01  \n",
       "70  6.853604e+01  \n",
       "71  7.535094e+01  \n",
       "72  8.216686e+01  \n",
       "73  8.898360e+01  \n",
       "74  9.580101e+01  \n",
       "75  1.026190e+02  \n",
       "76  1.094374e+02  \n",
       "77  1.162562e+02  \n",
       "78  1.230754e+02  \n",
       "79  1.298948e+02  \n",
       "80  1.367145e+02  \n",
       "81  1.435344e+02  \n",
       "82  1.503545e+02  \n",
       "83  1.571748e+02  \n",
       "84  1.639952e+02  \n",
       "85  1.708158e+02  \n",
       "86  1.776365e+02  \n",
       "87  1.844572e+02  \n",
       "88  1.912781e+02  \n",
       "89  1.980991e+02  \n",
       "\n",
       "[90 rows x 7 columns]"
      ]
     },
     "execution_count": 24,
     "metadata": {},
     "output_type": "execute_result"
    }
   ],
   "source": [
    "eq.as_df()"
   ]
  },
  {
   "cell_type": "code",
   "execution_count": 19,
   "metadata": {},
   "outputs": [
    {
     "data": {
      "application/vnd.vegalite.v3+json": {
       "$schema": "https://vega.github.io/schema/vega-lite/v3.4.0.json",
       "config": {
        "mark": {
         "tooltip": null
        },
        "view": {
         "height": 300,
         "width": 400
        }
       },
       "data": {
        "name": "data-227215cfeb719287a51299180c129571"
       },
       "datasets": {
        "data-227215cfeb719287a51299180c129571": [
         {
          "a": -1e-10,
          "e": -0.6488856845230503,
          "i": -1.000000082740371e-10,
          "i_m": 0,
          "r": 0.03044231773685528,
          "w": 1.2440459023354589,
          "μ": 0.15372944995775165
         },
         {
          "a": 6.8965517240413785,
          "e": -0.6488856845230503,
          "i": 6.418650838141594,
          "i_m": 0,
          "r": 0.03044231773685528,
          "w": 1.2440459023354589,
          "μ": 0.06660701561500798
         },
         {
          "a": 13.793103448182757,
          "e": -0.6488856845230503,
          "i": 13.051628870008466,
          "i_m": 0,
          "r": 0.03044231773685528,
          "w": 1.2440459023354589,
          "μ": 0.020842793181033773
         },
         {
          "a": 20.689655172324137,
          "e": -0.6488856845230503,
          "i": 19.784888486832422,
          "i_m": 0,
          "r": 0.03044231773685528,
          "w": 1.2440459023354589,
          "μ": 0.0069289945952131175
         },
         {
          "a": 27.586206896465516,
          "e": -0.6488856845230503,
          "i": 26.551823005903323,
          "i_m": 0,
          "r": 0.03044231773685528,
          "w": 1.2440459023354589,
          "μ": 0.0016665389591181117
         },
         {
          "a": 34.48275862060689,
          "e": -0.6488856845230503,
          "i": 33.336141477415325,
          "i_m": 0,
          "r": 0.03044231773685528,
          "w": 1.2440459023354589,
          "μ": 0.00022288813405828286
         },
         {
          "a": 41.37931034474827,
          "e": -0.6488856845230503,
          "i": 40.130766654357984,
          "i_m": 0,
          "r": 0.03044231773685528,
          "w": 1.2440459023354589,
          "μ": 2.3195578189482876e-06
         },
         {
          "a": 48.27586206888965,
          "e": -0.6488856845230503,
          "i": 46.93204183689955,
          "i_m": 0,
          "r": 0.03044231773685528,
          "w": 1.2440459023354589,
          "μ": -1.710983528947084e-16
         },
         {
          "a": 55.172413793031026,
          "e": -0.6488856845230503,
          "i": 53.73786320046156,
          "i_m": 0,
          "r": 0.03044231773685528,
          "w": 1.2440459023354589,
          "μ": -1.5551258621904938e-16
         },
         {
          "a": 62.0689655171724,
          "e": -0.6488856845230503,
          "i": 60.546925805843614,
          "i_m": 0,
          "r": 0.03044231773685528,
          "w": 1.2440459023354589,
          "μ": -1.4290163959076777e-16
         },
         {
          "a": 68.96551724131378,
          "e": -0.6488856845230503,
          "i": 67.35837640589742,
          "i_m": 0,
          "r": 0.03044231773685528,
          "w": 1.2440459023354589,
          "μ": -1.3240100228036395e-16
         },
         {
          "a": 75.86206896545517,
          "e": -0.6488856845230503,
          "i": 74.17163363011797,
          "i_m": 0,
          "r": 0.03044231773685528,
          "w": 1.2440459023354589,
          "μ": -1.2345636742523953e-16
         },
         {
          "a": 82.75862068959654,
          "e": -0.6488856845230503,
          "i": 80.98628806327083,
          "i_m": 0,
          "r": 0.03044231773685528,
          "w": 1.2440459023354589,
          "μ": -1.156882645986401e-16
         },
         {
          "a": 89.65517241373792,
          "e": -0.6488856845230503,
          "i": 87.80204346245614,
          "i_m": 0,
          "r": 0.03044231773685528,
          "w": 1.2440459023354589,
          "μ": -1.0882104784478614e-16
         },
         {
          "a": 96.5517241378793,
          "e": -0.6488856845230503,
          "i": 94.61868049325955,
          "i_m": 0,
          "r": 0.03044231773685528,
          "w": 1.2440459023354589,
          "μ": -1.026424276162926e-16
         },
         {
          "a": 103.44827586202068,
          "e": -0.6488856845230503,
          "i": 101.43603354845177,
          "i_m": 0,
          "r": 0.03044231773685528,
          "w": 1.2440459023354589,
          "μ": -9.697868742250708e-17
         },
         {
          "a": 110.34482758616205,
          "e": -0.6488856845230503,
          "i": 108.2539754016304,
          "i_m": 0,
          "r": 0.03044231773685528,
          "w": 1.2440459023354589,
          "μ": -9.167847200125122e-17
         },
         {
          "a": 117.24137931030343,
          "e": -0.6488856845230503,
          "i": 115.07240685452192,
          "i_m": 0,
          "r": 0.03044231773685528,
          "w": 1.2440459023354589,
          "μ": -8.660158367486708e-17
         },
         {
          "a": 124.1379310344448,
          "e": -0.6488856845230503,
          "i": 121.89124946262982,
          "i_m": 0,
          "r": 0.03044231773685528,
          "w": 1.2440459023354589,
          "μ": -8.161099013484575e-17
         },
         {
          "a": 131.0344827585862,
          "e": -0.6488856845230503,
          "i": 128.71044051956642,
          "i_m": 0,
          "r": 0.03044231773685528,
          "w": 1.2440459023354589,
          "μ": -7.656730397996583e-17
         },
         {
          "a": 137.93103448272757,
          "e": -0.6488856845230503,
          "i": 135.52992921722065,
          "i_m": 0,
          "r": 0.03044231773685528,
          "w": 1.2440459023354589,
          "μ": -7.132569832961582e-17
         },
         {
          "a": 144.82758620686897,
          "e": -0.6488856845230503,
          "i": 142.349674196684,
          "i_m": 0,
          "r": 0.03044231773685528,
          "w": 1.2440459023354589,
          "μ": -6.573595439293751e-17
         },
         {
          "a": 151.72413793101035,
          "e": -0.6488856845230503,
          "i": 149.16964111014093,
          "i_m": 0,
          "r": 0.03044231773685528,
          "w": 1.2440459023354589,
          "μ": -5.964705977538198e-17
         },
         {
          "a": 158.62068965515172,
          "e": -0.6488856845230503,
          "i": 155.9898018484342,
          "i_m": 0,
          "r": 0.03044231773685528,
          "w": 1.2440459023354589,
          "μ": -5.291892817635266e-17
         },
         {
          "a": 165.5172413792931,
          "e": -0.6488856845230503,
          "i": 162.8101320696685,
          "i_m": 0,
          "r": 0.03044231773685528,
          "w": 1.2440459023354589,
          "μ": -4.5445113108677386e-17
         },
         {
          "a": 172.41379310343447,
          "e": -0.6488856845230503,
          "i": 169.630612698607,
          "i_m": 0,
          "r": 0.03044231773685528,
          "w": 1.2440459023354589,
          "μ": -3.7192704650001934e-17
         },
         {
          "a": 179.31034482757585,
          "e": -0.6488856845230503,
          "i": 176.4512247950248,
          "i_m": 0,
          "r": 0.03044231773685528,
          "w": 1.2440459023354589,
          "μ": -2.826816518023375e-17
         },
         {
          "a": 186.20689655171722,
          "e": -0.6488856845230503,
          "i": 183.271957431379,
          "i_m": 0,
          "r": 0.03044231773685528,
          "w": 1.2440459023354589,
          "μ": -1.9022588448234577e-17
         },
         {
          "a": 193.10344827585863,
          "e": -0.6488856845230503,
          "i": 190.0927909345623,
          "i_m": 0,
          "r": 0.03044231773685528,
          "w": 1.2440459023354589,
          "μ": -1.0214819920408683e-17
         },
         {
          "a": 200,
          "e": -0.6488856845230503,
          "i": 196.91372882985937,
          "i_m": 0,
          "r": 0.03044231773685528,
          "w": 1.2440459023354589,
          "μ": -3.260195599697731e-18
         },
         {
          "a": -1e-10,
          "e": 0,
          "i": 0.11633532308096795,
          "i_m": 1,
          "r": 0.03044231773685528,
          "w": 1.2440459023354589,
          "μ": 0.223652213549732
         },
         {
          "a": 6.8965517240413785,
          "e": 0,
          "i": 6.687177260656852,
          "i_m": 1,
          "r": 0.03044231773685528,
          "w": 1.2440459023354589,
          "μ": 0.1747761520135834
         },
         {
          "a": 13.793103448182757,
          "e": 0,
          "i": 13.37554874595797,
          "i_m": 1,
          "r": 0.03044231773685528,
          "w": 1.2440459023354589,
          "μ": 0.06654871557182636
         },
         {
          "a": 20.689655172324137,
          "e": 0,
          "i": 20.127486839664662,
          "i_m": 1,
          "r": 0.03044231773685528,
          "w": 1.2440459023354589,
          "μ": 0.026391323441242103
         },
         {
          "a": 27.586206896465516,
          "e": 0,
          "i": 26.904491292696395,
          "i_m": 1,
          "r": 0.03044231773685528,
          "w": 1.2440459023354589,
          "μ": 0.007450958814250609
         },
         {
          "a": 34.48275862060689,
          "e": 0,
          "i": 33.6948382854136,
          "i_m": 1,
          "r": 0.03044231773685528,
          "w": 1.2440459023354589,
          "μ": 0.0011676483633250767
         },
         {
          "a": 41.37931034474827,
          "e": 0,
          "i": 40.49331020004614,
          "i_m": 1,
          "r": 0.03044231773685528,
          "w": 1.2440459023354589,
          "μ": 1.2988246045235313e-05
         },
         {
          "a": 48.27586206888965,
          "e": 0,
          "i": 47.297179193137744,
          "i_m": 1,
          "r": 0.03044231773685528,
          "w": 1.2440459023354589,
          "μ": -3.603642132333044e-16
         },
         {
          "a": 55.172413793031026,
          "e": 0,
          "i": 54.10481238203968,
          "i_m": 1,
          "r": 0.03044231773685528,
          "w": 1.2440459023354589,
          "μ": -3.258662093327741e-16
         },
         {
          "a": 62.0689655171724,
          "e": 0,
          "i": 60.91517610670951,
          "i_m": 1,
          "r": 0.03044231773685528,
          "w": 1.2440459023354589,
          "μ": -2.9831225290965557e-16
         },
         {
          "a": 68.96551724131378,
          "e": 0,
          "i": 67.72758205531247,
          "i_m": 1,
          "r": 0.03044231773685528,
          "w": 1.2440459023354589,
          "μ": -2.756470788390715e-16
         },
         {
          "a": 75.86206896545517,
          "e": 0,
          "i": 74.54155319677339,
          "i_m": 1,
          "r": 0.03044231773685528,
          "w": 1.2440459023354589,
          "μ": -2.565918192403055e-16
         },
         {
          "a": 82.75862068959654,
          "e": 0,
          "i": 81.35674886329284,
          "i_m": 1,
          "r": 0.03044231773685528,
          "w": 1.2440459023354589,
          "μ": -2.4030368777116394e-16
         },
         {
          "a": 89.65517241373792,
          "e": 0,
          "i": 88.17291942895109,
          "i_m": 1,
          "r": 0.03044231773685528,
          "w": 1.2440459023354589,
          "μ": -2.2620279814657953e-16
         },
         {
          "a": 96.5517241378793,
          "e": 0,
          "i": 94.98987796994594,
          "i_m": 1,
          "r": 0.03044231773685528,
          "w": 1.2440459023354589,
          "μ": -2.138767516720827e-16
         },
         {
          "a": 103.44827586202068,
          "e": 0,
          "i": 101.80748191394886,
          "i_m": 1,
          "r": 0.03044231773685528,
          "w": 1.2440459023354589,
          "μ": -2.0302454997180696e-16
         },
         {
          "a": 110.34482758616205,
          "e": 0,
          "i": 108.62562069031462,
          "i_m": 1,
          "r": 0.03044231773685528,
          "w": 1.2440459023354589,
          "μ": -1.9342137820126194e-16
         },
         {
          "a": 117.24137931030343,
          "e": 0,
          "i": 115.44420737414349,
          "i_m": 1,
          "r": 0.03044231773685528,
          "w": 1.2440459023354589,
          "μ": -1.8489458592974263e-16
         },
         {
          "a": 124.1379310344448,
          "e": 0,
          "i": 122.2631726447483,
          "i_m": 1,
          "r": 0.03044231773685528,
          "w": 1.2440459023354589,
          "μ": -1.7730501826779433e-16
         },
         {
          "a": 131.0344827585862,
          "e": 0,
          "i": 129.08246074353912,
          "i_m": 1,
          "r": 0.03044231773685528,
          "w": 1.2440459023354589,
          "μ": -1.7052958963112562e-16
         },
         {
          "a": 137.93103448272757,
          "e": 0,
          "i": 135.9020260929067,
          "i_m": 1,
          "r": 0.03044231773685528,
          "w": 1.2440459023354589,
          "μ": -1.644411713073757e-16
         },
         {
          "a": 144.82758620686897,
          "e": 0,
          "i": 142.72183149925263,
          "i_m": 1,
          "r": 0.03044231773685528,
          "w": 1.2440459023354589,
          "μ": -1.588815227787222e-16
         },
         {
          "a": 151.72413793101035,
          "e": 0,
          "i": 149.54184566711794,
          "i_m": 1,
          "r": 0.03044231773685528,
          "w": 1.2440459023354589,
          "μ": -1.536212281804344e-16
         },
         {
          "a": 158.62068965515172,
          "e": 0,
          "i": 156.36204319257175,
          "i_m": 1,
          "r": 0.03044231773685528,
          "w": 1.2440459023354589,
          "μ": -1.4829868651935234e-16
         },
         {
          "a": 165.5172413792931,
          "e": 0,
          "i": 163.18240139983493,
          "i_m": 1,
          "r": 0.03044231773685528,
          "w": 1.2440459023354589,
          "μ": -1.42325754753026e-16
         },
         {
          "a": 172.41379310343447,
          "e": 0,
          "i": 170.00290328976246,
          "i_m": 1,
          "r": 0.03044231773685528,
          "w": 1.2440459023354589,
          "μ": -1.3474345112053783e-16
         },
         {
          "a": 179.31034482757585,
          "e": 0,
          "i": 176.8235304332636,
          "i_m": 1,
          "r": 0.03044231773685528,
          "w": 1.2440459023354589,
          "μ": -1.2400155200952776e-16
         },
         {
          "a": 186.20689655171722,
          "e": 0,
          "i": 183.6442740764746,
          "i_m": 1,
          "r": 0.03044231773685528,
          "w": 1.2440459023354589,
          "μ": -1.0762811727031695e-16
         },
         {
          "a": 193.10344827585863,
          "e": 0,
          "i": 190.46511372981112,
          "i_m": 1,
          "r": 0.03044231773685528,
          "w": 1.2440459023354589,
          "μ": -8.173501008917451e-17
         },
         {
          "a": 200,
          "e": 0,
          "i": 197.28605576339922,
          "i_m": 1,
          "r": 0.03044231773685528,
          "w": 1.2440459023354589,
          "μ": -4.0292551444474274e-17
         },
         {
          "a": -1e-10,
          "e": 0.6488856845230503,
          "i": 0.745954682341887,
          "i_m": 2,
          "r": 0.03044231773685528,
          "w": 1.2440459023354589,
          "μ": 0.0568487111409301
         },
         {
          "a": 6.8965517240413785,
          "e": 0.6488856845230503,
          "i": 7.394223921776526,
          "i_m": 2,
          "r": 0.03044231773685528,
          "w": 1.2440459023354589,
          "μ": 0.08688878059234137
         },
         {
          "a": 13.793103448182757,
          "e": 0.6488856845230503,
          "i": 14.135070541760335,
          "i_m": 2,
          "r": 0.03044231773685528,
          "w": 1.2440459023354589,
          "μ": 0.061717896738370054
         },
         {
          "a": 20.689655172324137,
          "e": 0.6488856845230503,
          "i": 20.90546106791814,
          "i_m": 2,
          "r": 0.03044231773685528,
          "w": 1.2440459023354589,
          "μ": 0.03152497720368773
         },
         {
          "a": 27.586206896465516,
          "e": 0.6488856845230503,
          "i": 27.693794080600583,
          "i_m": 2,
          "r": 0.03044231773685528,
          "w": 1.2440459023354589,
          "μ": 0.010926777708661678
         },
         {
          "a": 34.48275862060689,
          "e": 0.6488856845230503,
          "i": 34.4907549440453,
          "i_m": 2,
          "r": 0.03044231773685528,
          "w": 1.2440459023354589,
          "μ": 0.002067960915195371
         },
         {
          "a": 41.37931034474827,
          "e": 0.6488856845230503,
          "i": 41.293655910019154,
          "i_m": 2,
          "r": 0.03044231773685528,
          "w": 1.2440459023354589,
          "μ": 2.489570081608502e-05
         },
         {
          "a": 48.27586206888965,
          "e": 0.6488856845230503,
          "i": 48.10060441540719,
          "i_m": 2,
          "r": 0.03044231773685528,
          "w": 1.2440459023354589,
          "μ": -1.951841777655435e-16
         },
         {
          "a": 55.172413793031026,
          "e": 0.6488856845230503,
          "i": 54.91043463494768,
          "i_m": 2,
          "r": 0.03044231773685528,
          "w": 1.2440459023354589,
          "μ": -1.7493504652085857e-16
         },
         {
          "a": 62.0689655171724,
          "e": 0.6488856845230503,
          "i": 61.72241813150874,
          "i_m": 2,
          "r": 0.03044231773685528,
          "w": 1.2440459023354589,
          "μ": -1.590655344354311e-16
         },
         {
          "a": 68.96551724131378,
          "e": 0.6488856845230503,
          "i": 68.53604085573458,
          "i_m": 2,
          "r": 0.03044231773685528,
          "w": 1.2440459023354589,
          "μ": -1.4621283189888446e-16
         },
         {
          "a": 75.86206896545517,
          "e": 0.6488856845230503,
          "i": 75.35094263312946,
          "i_m": 2,
          "r": 0.03044231773685528,
          "w": 1.2440459023354589,
          "μ": -1.3555686750201256e-16
         },
         {
          "a": 82.75862068959654,
          "e": 0.6488856845230503,
          "i": 82.16686051657871,
          "i_m": 2,
          "r": 0.03044231773685528,
          "w": 1.2440459023354589,
          "μ": -1.2657522715831656e-16
         },
         {
          "a": 89.65517241373792,
          "e": 0.6488856845230503,
          "i": 88.98359855428272,
          "i_m": 2,
          "r": 0.03044231773685528,
          "w": 1.2440459023354589,
          "μ": -1.1892366816111982e-16
         },
         {
          "a": 96.5517241378793,
          "e": 0.6488856845230503,
          "i": 95.80100772331517,
          "i_m": 2,
          "r": 0.03044231773685528,
          "w": 1.2440459023354589,
          "μ": -1.1237313422180737e-16
         },
         {
          "a": 103.44827586202068,
          "e": 0.6488856845230503,
          "i": 102.61897279361716,
          "i_m": 2,
          "r": 0.03044231773685528,
          "w": 1.2440459023354589,
          "μ": -1.0677539481218213e-16
         },
         {
          "a": 110.34482758616205,
          "e": 0.6488856845230503,
          "i": 109.4374032260197,
          "i_m": 2,
          "r": 0.03044231773685528,
          "w": 1.2440459023354589,
          "μ": -1.0204457495127472e-16
         },
         {
          "a": 117.24137931030343,
          "e": 0.6488856845230503,
          "i": 116.25622707711257,
          "i_m": 2,
          "r": 0.03044231773685528,
          "w": 1.2440459023354589,
          "μ": -9.814871239295895e-17
         },
         {
          "a": 124.1379310344448,
          "e": 0.6488856845230503,
          "i": 123.07538626267942,
          "i_m": 2,
          "r": 0.03044231773685528,
          "w": 1.2440459023354589,
          "μ": -9.510870351668938e-17
         },
         {
          "a": 131.0344827585862,
          "e": 0.6488856845230503,
          "i": 129.894833757141,
          "i_m": 2,
          "r": 0.03044231773685528,
          "w": 1.2440459023354589,
          "μ": -9.300413715872136e-17
         },
         {
          "a": 137.93103448272757,
          "e": 0.6488856845230503,
          "i": 136.7145305209978,
          "i_m": 2,
          "r": 0.03044231773685528,
          "w": 1.2440459023354589,
          "μ": -9.198671872672931e-17
         },
         {
          "a": 144.82758620686897,
          "e": 0.6488856845230503,
          "i": 143.53444481844485,
          "i_m": 2,
          "r": 0.03044231773685528,
          "w": 1.2440459023354589,
          "μ": -9.230375690558171e-17
         },
         {
          "a": 151.72413793101035,
          "e": 0.6488856845230503,
          "i": 150.35454910648915,
          "i_m": 2,
          "r": 0.03044231773685528,
          "w": 1.2440459023354589,
          "μ": -9.433531369851862e-17
         },
         {
          "a": 158.62068965515172,
          "e": 0.6488856845230503,
          "i": 157.1748218384852,
          "i_m": 2,
          "r": 0.03044231773685528,
          "w": 1.2440459023354589,
          "μ": -9.865159564195848e-17
         },
         {
          "a": 165.5172413792931,
          "e": 0.6488856845230503,
          "i": 163.99524206423501,
          "i_m": 2,
          "r": 0.03044231773685528,
          "w": 1.2440459023354589,
          "μ": -1.0609891944261196e-16
         },
         {
          "a": 172.41379310343447,
          "e": 0.6488856845230503,
          "i": 170.81579629623226,
          "i_m": 2,
          "r": 0.03044231773685528,
          "w": 1.2440459023354589,
          "μ": -1.179286544241732e-16
         },
         {
          "a": 179.31034482757585,
          "e": 0.6488856845230503,
          "i": 177.6364657325655,
          "i_m": 2,
          "r": 0.03044231773685528,
          "w": 1.2440459023354589,
          "μ": -1.359861131376374e-16
         },
         {
          "a": 186.20689655171722,
          "e": 0.6488856845230503,
          "i": 184.45724609826422,
          "i_m": 2,
          "r": 0.03044231773685528,
          "w": 1.2440459023354589,
          "μ": -1.6298961997971245e-16
         },
         {
          "a": 193.10344827585863,
          "e": 0.6488856845230503,
          "i": 191.27811382265656,
          "i_m": 2,
          "r": 0.03044231773685528,
          "w": 1.2440459023354589,
          "μ": -2.0293136407107233e-16
         },
         {
          "a": 200,
          "e": 0.6488856845230503,
          "i": 198.09908148067132,
          "i_m": 2,
          "r": 0.03044231773685528,
          "w": 1.2440459023354589,
          "μ": -2.6166384475755725e-16
         }
        ]
       },
       "encoding": {
        "x": {
         "field": "a",
         "type": "quantitative"
        },
        "y": {
         "field": "i",
         "type": "quantitative"
        }
       },
       "mark": "line"
      },
      "image/png": "[encoded data removed]",
      "text/plain": [
       "<VegaLite 3 object>\n",
       "\n",
       "If you see this message, it means the renderer has not been properly enabled\n",
       "for the frontend that you are using. For more information, see\n",
       "https://altair-viz.github.io/user_guide/troubleshooting.html\n"
      ]
     },
     "execution_count": 19,
     "metadata": {},
     "output_type": "execute_result"
    }
   ],
   "source": [
    "import altair as alt\n",
    "import pandas as pd\n",
    "single = alt.selection_single(on='mouseover', nearest=True)\n",
    "df = eq.as_df()\n",
    "alt.Chart(df).mark_line().encode(\n",
    "    x = 'a',\n",
    "    y = 'i',\n",
    ")"
   ]
  },
  {
   "cell_type": "code",
   "execution_count": 42,
   "metadata": {},
   "outputs": [],
   "source": [
    "import math"
   ]
  },
  {
   "cell_type": "code",
   "execution_count": 43,
   "metadata": {},
   "outputs": [
    {
     "ename": "TypeError",
     "evalue": "cannot convert the series to <class 'float'>",
     "output_type": "error",
     "traceback": [
      "\u001b[1;31m---------------------------------------------------------------------------\u001b[0m",
      "\u001b[1;31mTypeError\u001b[0m                                 Traceback (most recent call last)",
      "\u001b[1;32m<ipython-input-43-ddcedc0581a6>\u001b[0m in \u001b[0;36m<module>\u001b[1;34m\u001b[0m\n\u001b[0;32m      5\u001b[0m \u001b[0me\u001b[0m \u001b[1;33m=\u001b[0m \u001b[0mdf\u001b[0m\u001b[1;33m[\u001b[0m\u001b[1;34m'e'\u001b[0m\u001b[1;33m]\u001b[0m\u001b[1;33m\u001b[0m\u001b[1;33m\u001b[0m\u001b[0m\n\u001b[0;32m      6\u001b[0m \u001b[0mi\u001b[0m \u001b[1;33m=\u001b[0m \u001b[0mdf\u001b[0m\u001b[1;33m[\u001b[0m\u001b[1;34m'i'\u001b[0m\u001b[1;33m]\u001b[0m\u001b[1;33m\u001b[0m\u001b[1;33m\u001b[0m\u001b[0m\n\u001b[1;32m----> 7\u001b[1;33m \u001b[0mc\u001b[0m \u001b[1;33m=\u001b[0m \u001b[1;33m(\u001b[0m\u001b[1;36m1\u001b[0m\u001b[1;33m+\u001b[0m\u001b[0mr\u001b[0m\u001b[1;33m)\u001b[0m\u001b[1;33m*\u001b[0m\u001b[0ma\u001b[0m \u001b[1;33m+\u001b[0m \u001b[0mw\u001b[0m\u001b[1;33m*\u001b[0m\u001b[0mmath\u001b[0m\u001b[1;33m.\u001b[0m\u001b[0mexp\u001b[0m\u001b[1;33m(\u001b[0m\u001b[0me\u001b[0m\u001b[1;33m)\u001b[0m \u001b[1;33m-\u001b[0m \u001b[0mi\u001b[0m\u001b[1;33m\u001b[0m\u001b[1;33m\u001b[0m\u001b[0m\n\u001b[0m",
      "\u001b[1;32m~\\Anaconda3\\lib\\site-packages\\pandas\\core\\series.py\u001b[0m in \u001b[0;36mwrapper\u001b[1;34m(self)\u001b[0m\n\u001b[0;32m     91\u001b[0m             \u001b[1;32mreturn\u001b[0m \u001b[0mconverter\u001b[0m\u001b[1;33m(\u001b[0m\u001b[0mself\u001b[0m\u001b[1;33m.\u001b[0m\u001b[0miloc\u001b[0m\u001b[1;33m[\u001b[0m\u001b[1;36m0\u001b[0m\u001b[1;33m]\u001b[0m\u001b[1;33m)\u001b[0m\u001b[1;33m\u001b[0m\u001b[1;33m\u001b[0m\u001b[0m\n\u001b[0;32m     92\u001b[0m         raise TypeError(\"cannot convert the series to \"\n\u001b[1;32m---> 93\u001b[1;33m                         \"{0}\".format(str(converter)))\n\u001b[0m\u001b[0;32m     94\u001b[0m \u001b[1;33m\u001b[0m\u001b[0m\n\u001b[0;32m     95\u001b[0m     \u001b[0mwrapper\u001b[0m\u001b[1;33m.\u001b[0m\u001b[0m__name__\u001b[0m \u001b[1;33m=\u001b[0m \u001b[1;34m\"__{name}__\"\u001b[0m\u001b[1;33m.\u001b[0m\u001b[0mformat\u001b[0m\u001b[1;33m(\u001b[0m\u001b[0mname\u001b[0m\u001b[1;33m=\u001b[0m\u001b[0mconverter\u001b[0m\u001b[1;33m.\u001b[0m\u001b[0m__name__\u001b[0m\u001b[1;33m)\u001b[0m\u001b[1;33m\u001b[0m\u001b[1;33m\u001b[0m\u001b[0m\n",
      "\u001b[1;31mTypeError\u001b[0m: cannot convert the series to <class 'float'>"
     ]
    }
   ],
   "source": [
    "# calcualte consumption\n",
    "a = df['a']\n",
    "r = df['r']\n",
    "w = df['w']\n",
    "e = df['e']\n",
    "i = df['i']\n",
    "c = (1+r)*a + w*math.exp(e) - i"
   ]
  },
  {
   "cell_type": "code",
   "execution_count": null,
   "metadata": {},
   "outputs": [],
   "source": []
  }
 ],
 "metadata": {
  "kernelspec": {
   "display_name": "Python 3",
   "language": "python",
   "name": "python3"
  },
  "language_info": {
   "codemirror_mode": {
    "name": "ipython",
    "version": 3
   },
   "file_extension": ".py",
   "mimetype": "text/x-python",
   "name": "python",
   "nbconvert_exporter": "python",
   "pygments_lexer": "ipython3",
   "version": "3.7.3"
  },
  "latex_envs": {
   "LaTeX_envs_menu_present": true,
   "autoclose": false,
   "autocomplete": true,
   "bibliofile": "biblio.bib",
   "cite_by": "apalike",
   "current_citInitial": 1,
   "eqLabelWithNumbers": true,
   "eqNumInitial": 1,
   "hotkeys": {
    "equation": "Ctrl-E",
    "itemize": "Ctrl-I"
   },
   "labels_anchors": false,
   "latex_user_defs": false,
   "report_style_numbering": false,
   "user_envs_cfg": false
  }
 },
 "nbformat": 4,
 "nbformat_minor": 4
}
