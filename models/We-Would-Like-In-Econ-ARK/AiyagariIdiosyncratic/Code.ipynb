{
 "cells": [
  {
   "cell_type": "code",
   "execution_count": 6,
   "metadata": {},
   "outputs": [],
   "source": [
    "# Setup\n",
    "\n",
    "from dolo import *\n",
    "from dolo import time_iteration\n",
    "import dolark \n",
    "from dolark import HModel\n",
    "from dolark.equilibrium import find_steady_state\n",
    "import matplotlib as plt\n",
    "import numpy as np"
   ]
  },
  {
   "cell_type": "code",
   "execution_count": 7,
   "metadata": {},
   "outputs": [],
   "source": [
    "filename = 'Aiyagari.yaml'"
   ]
  },
  {
   "cell_type": "code",
   "execution_count": 8,
   "metadata": {},
   "outputs": [
    {
     "data": {
      "text/plain": [
       "<dolark.model.HModel at 0x2859f7ef208>"
      ]
     },
     "execution_count": 8,
     "metadata": {},
     "output_type": "execute_result"
    }
   ],
   "source": [
    "#HModel reads the yaml file\n",
    "aggmodel = HModel(filename)\n",
    "aggmodel\n"
   ]
  },
  {
   "cell_type": "code",
   "execution_count": 9,
   "metadata": {},
   "outputs": [
    {
     "data": {
      "text/plain": [
       "{'ex-ante-identical': True,\n",
       " 'conditional-processes': False,\n",
       " 'iid-shocks': False}"
      ]
     },
     "execution_count": 9,
     "metadata": {},
     "output_type": "execute_result"
    }
   ],
   "source": [
    "aggmodel.features"
   ]
  },
  {
   "cell_type": "code",
   "execution_count": 16,
   "metadata": {},
   "outputs": [
    {
     "data": {
      "text/html": [
       "\n",
       "        <table>\n",
       "         <td><b>Model</b></td>\n",
       "        <tr>\n",
       "        <td>name</td>\n",
       "        <td>Consumption Savings</td>\n",
       "        </tr>\n",
       "        <tr>\n",
       "        <td>type</td>\n",
       "        <td>dtcc</td>\n",
       "        </tr>\n",
       "        <tr>\n",
       "        <td>filename</td>\n",
       "        <td>&ltstring&gt</td>\n",
       "        </tr>\n",
       "        </table><table><tr><td><b>Type</b></td><td><b>Equation</b></td><td><b>Residual</b></td></tr>\n",
       "<tr><td>arbitrage</td><td>$1 - \\frac{\\left(\\beta \\; \\left(1 + r_{t+1}\\right)\\right)^{\\frac{1}{\\epsilon}} \\; c_{t}}{c_{t+1}}$</td><td><span style=\"color: red;\">0.0842</span></td></tr><tr><td>transition</td><td>$a_{t} = i_{t-1}$</td><td>0.000</td></tr><tr><td>controls_lb</td><td>$- \\phi$</td><td></td></tr><tr><td>controls_ub</td><td>$\\left(1 + r_{t}\\right) \\; a_{t} + w_{t} \\; \\operatorname{exp}\\left(e_{t}\\right)$</td><td></td></tr><tr><td>definitions</td><td>$c_{t} = \\left(1 + r_{t}\\right) \\; a_{t} + w_{t} \\; \\operatorname{exp}\\left(e_{t}\\right) - i_{t}$</td><td></td></tr></table>"
      ],
      "text/plain": [
       "\n",
       "        Model:\n",
       "        ------\n",
       "        name: \"Consumption Savings\"\n",
       "        type: \"dtcc\"\n",
       "        file: \"<string>\n",
       "\n",
       "Equations:\n",
       "----------\n",
       "\n",
       "transition\n",
       " 1  : 0.0000 : a(0) == i(-(1))\n",
       "\n",
       "arbitrage\n",
       " 1  : \u001b[31m0.0842\u001b[0m : (1) - (((((beta) * (1 + r(1))) ** ((1) / (epsilon))) * (c(0))) / (c(1)))\n",
       "\n",
       "definitions\n",
       " 1  : c = (1+r)*a + w*exp(e) - i\n"
      ]
     },
     "execution_count": 16,
     "metadata": {},
     "output_type": "execute_result"
    }
   ],
   "source": [
    "model=aggmodel.model\n",
    "model"
   ]
  },
  {
   "cell_type": "code",
   "execution_count": 21,
   "metadata": {
    "scrolled": true
   },
   "outputs": [
    {
     "name": "stdout",
     "output_type": "stream",
     "text": [
      "------------------------------------------------\n",
      "| N   |  Error     | Gain     | Time     | nit |\n",
      "------------------------------------------------\n",
      "|   1 |  9.288e+01 |      nan |    0.044 |  10 |\n",
      "|   2 |  3.087e+01 |    0.332 |    0.017 |   4 |\n",
      "|   3 |  1.537e+01 |    0.498 |    0.020 |   5 |\n",
      "|   4 |  9.160e+00 |    0.596 |    0.007 |   3 |\n",
      "|   5 |  6.054e+00 |    0.661 |    0.016 |   3 |\n",
      "|   6 |  4.277e+00 |    0.706 |    0.016 |   3 |\n",
      "|   7 |  3.164e+00 |    0.740 |    0.000 |   3 |\n",
      "|   8 |  2.419e+00 |    0.765 |    0.016 |   3 |\n",
      "|   9 |  1.896e+00 |    0.784 |    0.016 |   3 |\n",
      "|  10 |  1.514e+00 |    0.798 |    0.016 |   3 |\n",
      "|  11 |  1.225e+00 |    0.809 |    0.000 |   2 |\n",
      "|  12 |  1.000e+00 |    0.817 |    0.016 |   2 |\n",
      "|  13 |  8.223e-01 |    0.822 |    0.019 |   2 |\n",
      "|  14 |  6.780e-01 |    0.825 |    0.012 |   2 |\n",
      "|  15 |  5.583e-01 |    0.823 |    0.010 |   2 |\n",
      "|  16 |  4.591e-01 |    0.822 |    0.009 |   2 |\n",
      "|  17 |  3.752e-01 |    0.817 |    0.009 |   2 |\n",
      "|  18 |  2.996e-01 |    0.798 |    0.009 |   2 |\n",
      "|  19 |  2.313e-01 |    0.772 |    0.009 |   2 |\n",
      "|  20 |  1.727e-01 |    0.746 |    0.007 |   2 |\n",
      "|  21 |  1.245e-01 |    0.721 |    0.000 |   2 |\n",
      "|  22 |  8.698e-02 |    0.699 |    0.016 |   2 |\n",
      "|  23 |  5.921e-02 |    0.681 |    0.000 |   2 |\n",
      "|  24 |  3.953e-02 |    0.668 |    0.016 |   2 |\n",
      "|  25 |  2.605e-02 |    0.659 |    0.016 |   2 |\n",
      "|  26 |  1.703e-02 |    0.654 |    0.000 |   2 |\n",
      "|  27 |  1.108e-02 |    0.651 |    0.020 |   2 |\n",
      "|  28 |  7.192e-03 |    0.649 |    0.004 |   1 |\n",
      "|  29 |  4.660e-03 |    0.648 |    0.000 |   1 |\n",
      "|  30 |  3.016e-03 |    0.647 |    0.000 |   1 |\n",
      "|  31 |  1.950e-03 |    0.647 |    0.016 |   1 |\n",
      "|  32 |  1.260e-03 |    0.646 |    0.000 |   1 |\n",
      "|  33 |  8.134e-04 |    0.646 |    0.000 |   1 |\n",
      "|  34 |  5.248e-04 |    0.645 |    0.000 |   1 |\n",
      "|  35 |  3.385e-04 |    0.645 |    0.013 |   1 |\n",
      "|  36 |  2.183e-04 |    0.645 |    0.007 |   1 |\n",
      "|  37 |  1.407e-04 |    0.645 |    0.007 |   1 |\n",
      "|  38 |  9.073e-05 |    0.645 |    0.006 |   1 |\n",
      "|  39 |  5.848e-05 |    0.645 |    0.005 |   1 |\n",
      "|  40 |  3.769e-05 |    0.645 |    0.006 |   1 |\n",
      "|  41 |  2.429e-05 |    0.645 |    0.006 |   1 |\n",
      "|  42 |  1.566e-05 |    0.644 |    0.006 |   1 |\n",
      "|  43 |  1.009e-05 |    0.644 |    0.005 |   1 |\n",
      "|  44 |  6.503e-06 |    0.644 |    0.000 |   1 |\n",
      "|  45 |  4.191e-06 |    0.644 |    0.000 |   1 |\n",
      "|  46 |  2.701e-06 |    0.644 |    0.016 |   1 |\n",
      "|  47 |  1.741e-06 |    0.644 |    0.000 |   1 |\n",
      "|  48 |  1.122e-06 |    0.644 |    0.000 |   1 |\n",
      "|  49 |  7.231e-07 |    0.644 |    0.016 |   1 |\n",
      "------------------------------------------------\n",
      "Elapsed: 0.4663524627685547 seconds.\n",
      "------------------------------------------------\n"
     ]
    }
   ],
   "source": [
    "#first check whether the one-agent sub-part of the mode works\n",
    "i_opts = {\"N\":2}\n",
    "mc = model.exogenous.discretize(to='mc',options=[{},i_opts])\n",
    "dr = time_iteration(model,dprocess=mc)"
   ]
  },
  {
   "cell_type": "code",
   "execution_count": null,
   "metadata": {},
   "outputs": [],
   "source": [
    "tab_global = tabulate(model,dr, 'k')"
   ]
  },
  {
   "cell_type": "code",
   "execution_count": null,
   "metadata": {},
   "outputs": [],
   "source": [
    "plt.figure(figsize=(8,3,5))\n",
    "plt.subplot(121)\n",
    "plt.plot(tab_global['k'],tab_global['i'])\n",
    "plt.ylabel('i')\n",
    "plt.xlabel('capital')\n",
    "plt.title('Investment')\n"
   ]
  },
  {
   "cell_type": "code",
   "execution_count": null,
   "metadata": {},
   "outputs": [],
   "source": []
  }
 ],
 "metadata": {
  "kernelspec": {
   "display_name": "Python 3",
   "language": "python",
   "name": "python3"
  },
  "language_info": {
   "codemirror_mode": {
    "name": "ipython",
    "version": 3
   },
   "file_extension": ".py",
   "mimetype": "text/x-python",
   "name": "python",
   "nbconvert_exporter": "python",
   "pygments_lexer": "ipython3",
   "version": "3.7.3"
  }
 },
 "nbformat": 4,
 "nbformat_minor": 2
}
