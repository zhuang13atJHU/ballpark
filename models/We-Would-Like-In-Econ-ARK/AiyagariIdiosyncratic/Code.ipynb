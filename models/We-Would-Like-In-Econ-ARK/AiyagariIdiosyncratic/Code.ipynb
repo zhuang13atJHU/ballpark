{
 "cells": [
  {
   "cell_type": "code",
   "execution_count": 1,
   "metadata": {},
   "outputs": [],
   "source": [
    "# Setup\n",
    "import matplotlib as plt\n",
    "import numpy as np\n",
    "from dolo import *\n",
    "import dolark"
   ]
  },
  {
   "cell_type": "code",
   "execution_count": 11,
   "metadata": {},
   "outputs": [
    {
     "data": {
      "text/html": [
       "<style>\n",
       "    .source .hll { background-color: #ffffcc }\n",
       ".source  { background: #f8f8f8; }\n",
       ".source .c { color: #408080; font-style: italic } /* Comment */\n",
       ".source .err { border: 1px solid #FF0000 } /* Error */\n",
       ".source .k { color: #008000; font-weight: bold } /* Keyword */\n",
       ".source .o { color: #666666 } /* Operator */\n",
       ".source .ch { color: #408080; font-style: italic } /* Comment.Hashbang */\n",
       ".source .cm { color: #408080; font-style: italic } /* Comment.Multiline */\n",
       ".source .cp { color: #BC7A00 } /* Comment.Preproc */\n",
       ".source .cpf { color: #408080; font-style: italic } /* Comment.PreprocFile */\n",
       ".source .c1 { color: #408080; font-style: italic } /* Comment.Single */\n",
       ".source .cs { color: #408080; font-style: italic } /* Comment.Special */\n",
       ".source .gd { color: #A00000 } /* Generic.Deleted */\n",
       ".source .ge { font-style: italic } /* Generic.Emph */\n",
       ".source .gr { color: #FF0000 } /* Generic.Error */\n",
       ".source .gh { color: #000080; font-weight: bold } /* Generic.Heading */\n",
       ".source .gi { color: #00A000 } /* Generic.Inserted */\n",
       ".source .go { color: #888888 } /* Generic.Output */\n",
       ".source .gp { color: #000080; font-weight: bold } /* Generic.Prompt */\n",
       ".source .gs { font-weight: bold } /* Generic.Strong */\n",
       ".source .gu { color: #800080; font-weight: bold } /* Generic.Subheading */\n",
       ".source .gt { color: #0044DD } /* Generic.Traceback */\n",
       ".source .kc { color: #008000; font-weight: bold } /* Keyword.Constant */\n",
       ".source .kd { color: #008000; font-weight: bold } /* Keyword.Declaration */\n",
       ".source .kn { color: #008000; font-weight: bold } /* Keyword.Namespace */\n",
       ".source .kp { color: #008000 } /* Keyword.Pseudo */\n",
       ".source .kr { color: #008000; font-weight: bold } /* Keyword.Reserved */\n",
       ".source .kt { color: #B00040 } /* Keyword.Type */\n",
       ".source .m { color: #666666 } /* Literal.Number */\n",
       ".source .s { color: #BA2121 } /* Literal.String */\n",
       ".source .na { color: #7D9029 } /* Name.Attribute */\n",
       ".source .nb { color: #008000 } /* Name.Builtin */\n",
       ".source .nc { color: #0000FF; font-weight: bold } /* Name.Class */\n",
       ".source .no { color: #880000 } /* Name.Constant */\n",
       ".source .nd { color: #AA22FF } /* Name.Decorator */\n",
       ".source .ni { color: #999999; font-weight: bold } /* Name.Entity */\n",
       ".source .ne { color: #D2413A; font-weight: bold } /* Name.Exception */\n",
       ".source .nf { color: #0000FF } /* Name.Function */\n",
       ".source .nl { color: #A0A000 } /* Name.Label */\n",
       ".source .nn { color: #0000FF; font-weight: bold } /* Name.Namespace */\n",
       ".source .nt { color: #008000; font-weight: bold } /* Name.Tag */\n",
       ".source .nv { color: #19177C } /* Name.Variable */\n",
       ".source .ow { color: #AA22FF; font-weight: bold } /* Operator.Word */\n",
       ".source .w { color: #bbbbbb } /* Text.Whitespace */\n",
       ".source .mb { color: #666666 } /* Literal.Number.Bin */\n",
       ".source .mf { color: #666666 } /* Literal.Number.Float */\n",
       ".source .mh { color: #666666 } /* Literal.Number.Hex */\n",
       ".source .mi { color: #666666 } /* Literal.Number.Integer */\n",
       ".source .mo { color: #666666 } /* Literal.Number.Oct */\n",
       ".source .sa { color: #BA2121 } /* Literal.String.Affix */\n",
       ".source .sb { color: #BA2121 } /* Literal.String.Backtick */\n",
       ".source .sc { color: #BA2121 } /* Literal.String.Char */\n",
       ".source .dl { color: #BA2121 } /* Literal.String.Delimiter */\n",
       ".source .sd { color: #BA2121; font-style: italic } /* Literal.String.Doc */\n",
       ".source .s2 { color: #BA2121 } /* Literal.String.Double */\n",
       ".source .se { color: #BB6622; font-weight: bold } /* Literal.String.Escape */\n",
       ".source .sh { color: #BA2121 } /* Literal.String.Heredoc */\n",
       ".source .si { color: #BB6688; font-weight: bold } /* Literal.String.Interpol */\n",
       ".source .sx { color: #008000 } /* Literal.String.Other */\n",
       ".source .sr { color: #BB6688 } /* Literal.String.Regex */\n",
       ".source .s1 { color: #BA2121 } /* Literal.String.Single */\n",
       ".source .ss { color: #19177C } /* Literal.String.Symbol */\n",
       ".source .bp { color: #008000 } /* Name.Builtin.Pseudo */\n",
       ".source .fm { color: #0000FF } /* Name.Function.Magic */\n",
       ".source .vc { color: #19177C } /* Name.Variable.Class */\n",
       ".source .vg { color: #19177C } /* Name.Variable.Global */\n",
       ".source .vi { color: #19177C } /* Name.Variable.Instance */\n",
       ".source .vm { color: #19177C } /* Name.Variable.Magic */\n",
       ".source .il { color: #666666 } /* Literal.Number.Integer.Long */\n",
       "    </style>\n",
       "    <table class=\"sourcetable\"><tr><td class=\"linenos\"><div class=\"linenodiv\"><pre> 1\n",
       " 2\n",
       " 3\n",
       " 4\n",
       " 5\n",
       " 6\n",
       " 7\n",
       " 8\n",
       " 9\n",
       "10\n",
       "11\n",
       "12\n",
       "13\n",
       "14\n",
       "15\n",
       "16\n",
       "17\n",
       "18\n",
       "19\n",
       "20\n",
       "21\n",
       "22\n",
       "23\n",
       "24\n",
       "25\n",
       "26\n",
       "27\n",
       "28\n",
       "29\n",
       "30\n",
       "31\n",
       "32\n",
       "33\n",
       "34\n",
       "35\n",
       "36\n",
       "37\n",
       "38\n",
       "39\n",
       "40\n",
       "41\n",
       "42\n",
       "43\n",
       "44\n",
       "45\n",
       "46\n",
       "47\n",
       "48\n",
       "49\n",
       "50\n",
       "51\n",
       "52\n",
       "53\n",
       "54\n",
       "55\n",
       "56</pre></div></td><td class=\"code\"><div class=\"source\"><pre><span></span><span class=\"c1\">#Individual&#39;s problem</span>\n",
       "<span class=\"nt\">name</span><span class=\"p\">:</span> <span class=\"l l-Scalar l-Scalar-Plain\">Agent</span>\n",
       "\n",
       "<span class=\"nt\">symbols</span><span class=\"p\">:</span>\n",
       "  <span class=\"c1\">#wealth</span>\n",
       "  <span class=\"nt\">states</span><span class=\"p\">:</span> <span class=\"p p-Indicator\">[</span><span class=\"nv\">a</span><span class=\"p p-Indicator\">,]</span> \n",
       "  <span class=\"c1\">#interest rate, wage, and labor supply shock  </span>\n",
       "  <span class=\"nt\">exogenous</span><span class=\"p\">:</span> <span class=\"p p-Indicator\">[</span><span class=\"nv\">r</span><span class=\"p p-Indicator\">,</span><span class=\"nv\">w</span><span class=\"p p-Indicator\">,</span><span class=\"nv\">e</span><span class=\"p p-Indicator\">]</span>    \n",
       "  <span class=\"c1\">#time preference, risk averse coefficient, borrowing constraint, and maximum of wealth</span>\n",
       "  <span class=\"nt\">parameters</span><span class=\"p\">:</span> <span class=\"p p-Indicator\">[</span><span class=\"nv\">beta</span><span class=\"p p-Indicator\">,</span><span class=\"nv\">RiskAversion</span><span class=\"p p-Indicator\">,</span><span class=\"nv\">B</span><span class=\"p p-Indicator\">,</span><span class=\"nv\">a_max</span><span class=\"p p-Indicator\">]</span>\n",
       "  <span class=\"c1\">#assets at the end of the period (after consumption and wage earning)</span>\n",
       "  <span class=\"nt\">controls</span><span class=\"p\">:</span> <span class=\"p p-Indicator\">[</span><span class=\"nv\">i</span><span class=\"p p-Indicator\">]</span>\n",
       "\n",
       "\n",
       "<span class=\"nt\">definitions</span><span class=\"p\">:</span>\n",
       "  <span class=\"nt\">c</span><span class=\"p\">:</span> <span class=\"l l-Scalar l-Scalar-Plain\">(1+r)*a + w*exp(e) - i</span>\n",
       "\n",
       "<span class=\"nt\">equations</span><span class=\"p\">:</span>\n",
       "\n",
       "  <span class=\"nt\">arbitrage</span><span class=\"p\">:</span>\n",
       "    <span class=\"p p-Indicator\">-</span> <span class=\"l l-Scalar l-Scalar-Plain\">1 - (beta*(1+r(+1)))**(1/RiskAversion)*c/c(+1) | -B &lt;= i &lt;= (1+r)*a + w*exp(e)</span>\n",
       "\n",
       "  <span class=\"nt\">transition</span><span class=\"p\">:</span>\n",
       "    <span class=\"p p-Indicator\">-</span> <span class=\"l l-Scalar l-Scalar-Plain\">a = i(-1)</span>\n",
       "\n",
       "<span class=\"nt\">calibration</span><span class=\"p\">:</span> \n",
       "\n",
       "  <span class=\"c1\"># Parameters</span>\n",
       "  <span class=\"nt\">beta</span><span class=\"p\">:</span> <span class=\"l l-Scalar l-Scalar-Plain\">0.99</span>\n",
       "  <span class=\"nt\">RiskAversion</span><span class=\"p\">:</span> <span class=\"l l-Scalar l-Scalar-Plain\">1.00</span>\n",
       "  <span class=\"nt\">B</span><span class=\"p\">:</span> <span class=\"l l-Scalar l-Scalar-Plain\">0.0000000001</span>\n",
       "  <span class=\"nt\">a_max</span><span class=\"p\">:</span> <span class=\"l l-Scalar l-Scalar-Plain\">200</span>\n",
       "  <span class=\"nt\">a</span><span class=\"p\">:</span> <span class=\"l l-Scalar l-Scalar-Plain\">1</span>\n",
       "  <span class=\"nt\">i</span><span class=\"p\">:</span> <span class=\"l l-Scalar l-Scalar-Plain\">a</span>\n",
       "\n",
       "  <span class=\"nt\">K</span><span class=\"p\">:</span> <span class=\"l l-Scalar l-Scalar-Plain\">40</span>\n",
       "  <span class=\"nt\">alpha</span><span class=\"p\">:</span> <span class=\"l l-Scalar l-Scalar-Plain\">0.36</span>\n",
       "  <span class=\"nt\">A</span><span class=\"p\">:</span> <span class=\"l l-Scalar l-Scalar-Plain\">1</span> \n",
       "  <span class=\"nt\">N</span><span class=\"p\">:</span> <span class=\"l l-Scalar l-Scalar-Plain\">1</span>\n",
       "  <span class=\"nt\">delta</span><span class=\"p\">:</span> <span class=\"l l-Scalar l-Scalar-Plain\">0.025</span>\n",
       "  <span class=\"nt\">r</span><span class=\"p\">:</span> <span class=\"l l-Scalar l-Scalar-Plain\">A*alpha*(N/K)**(1-alpha) - delta</span>\n",
       "  <span class=\"nt\">w</span><span class=\"p\">:</span> <span class=\"l l-Scalar l-Scalar-Plain\">A*(1-alpha)*(K/N)**(alpha)</span>\n",
       "\n",
       "<span class=\"nt\">domain</span><span class=\"p\">:</span>\n",
       "  <span class=\"nt\">a</span><span class=\"p\">:</span> <span class=\"p p-Indicator\">[</span><span class=\"nv\">-B</span><span class=\"p p-Indicator\">,</span><span class=\"nv\">a_max</span><span class=\"p p-Indicator\">]</span>\n",
       "\n",
       "<span class=\"nt\">exogenous</span><span class=\"p\">:</span>\n",
       "    <span class=\"nt\">e</span><span class=\"p\">:</span> <span class=\"kt\">!VAR1</span>\n",
       "        <span class=\"nt\">ρ</span><span class=\"p\">:</span> <span class=\"l l-Scalar l-Scalar-Plain\">0.95</span>\n",
       "        <span class=\"nt\">Σ</span><span class=\"p\">:</span> <span class=\"p p-Indicator\">[[</span><span class=\"nv\">0.06**2</span><span class=\"p p-Indicator\">]]</span>\n",
       "\n",
       "\n",
       "<span class=\"nt\">options</span><span class=\"p\">:</span> \n",
       "  <span class=\"nt\">grid</span><span class=\"p\">:</span>\n",
       "      <span class=\"kt\">!Cartesian</span>\n",
       "      <span class=\"nt\">orders</span><span class=\"p\">:</span> <span class=\"p p-Indicator\">[</span><span class=\"nv\">30</span><span class=\"p p-Indicator\">]</span>\n",
       "</pre></div>\n",
       "</td></tr></table>\n",
       "    "
      ],
      "text/plain": [
       "<IPython.core.display.HTML object>"
      ]
     },
     "execution_count": 11,
     "metadata": {},
     "output_type": "execute_result"
    }
   ],
   "source": [
    "filename = 'Individual.yaml'\n",
    "pcat(filename)"
   ]
  },
  {
   "cell_type": "code",
   "execution_count": 12,
   "metadata": {},
   "outputs": [],
   "source": [
    "#yaml_import(filename) reads the YAML file and generates a model object.\n",
    "model = yaml_import(filename)"
   ]
  },
  {
   "cell_type": "code",
   "execution_count": 13,
   "metadata": {},
   "outputs": [
    {
     "data": {
      "text/plain": [
       "{'transition': array([0.]), 'arbitrage': array([0.00112833])}"
      ]
     },
     "execution_count": 13,
     "metadata": {},
     "output_type": "execute_result"
    }
   ],
   "source": [
    "#check whether steady-state variables are correct by computing the model equations at the steady state.\n",
    "model.residuals()"
   ]
  },
  {
   "cell_type": "code",
   "execution_count": 14,
   "metadata": {},
   "outputs": [
    {
     "name": "stdout",
     "output_type": "stream",
     "text": [
      "\n",
      "        Model:\n",
      "        ------\n",
      "        name: \"Agent\"\n",
      "        type: \"dtcc\"\n",
      "        file: \"Individual.yaml\n",
      "\n",
      "Equations:\n",
      "----------\n",
      "\n",
      "transition\n",
      " 1  : 0.0000 : a(0) == i(-(1))\n",
      "\n",
      "arbitrage\n",
      " 1  : \u001b[31m0.0011\u001b[0m : (1) - (((((beta) * (1 + r(1))) ** ((1) / (RiskAversion))) * (c(0))) / (c(1)))\n",
      "\n",
      "definitions\n",
      " 1  : c = (1+r)*a + w*exp(e) - i\n",
      "\n",
      "\n"
     ]
    }
   ],
   "source": [
    "#have a look at all the model equations and check that all residual errors are 0 at the steady-state, but with less display prescision.\n",
    "print(model)"
   ]
  },
  {
   "cell_type": "code",
   "execution_count": 18,
   "metadata": {},
   "outputs": [
    {
     "ename": "Exception",
     "evalue": "Unknown exogenous type None.",
     "output_type": "error",
     "traceback": [
      "\u001b[1;31m---------------------------------------------------------------------------\u001b[0m",
      "\u001b[1;31mException\u001b[0m                                 Traceback (most recent call last)",
      "\u001b[1;32m<ipython-input-18-26d7372e0ca8>\u001b[0m in \u001b[0;36m<module>\u001b[1;34m\u001b[0m\n\u001b[1;32m----> 1\u001b[1;33m \u001b[0mmodel\u001b[0m\u001b[1;33m.\u001b[0m\u001b[0mexogenous\u001b[0m\u001b[1;33m\u001b[0m\u001b[1;33m\u001b[0m\u001b[0m\n\u001b[0m",
      "\u001b[1;32m~\\Anaconda3\\lib\\site-packages\\dolo\\compiler\\model.py\u001b[0m in \u001b[0;36mexogenous\u001b[1;34m(self)\u001b[0m\n\u001b[0;32m    300\u001b[0m     \u001b[1;32mdef\u001b[0m \u001b[0mexogenous\u001b[0m\u001b[1;33m(\u001b[0m\u001b[0mself\u001b[0m\u001b[1;33m)\u001b[0m\u001b[1;33m:\u001b[0m\u001b[1;33m\u001b[0m\u001b[1;33m\u001b[0m\u001b[0m\n\u001b[0;32m    301\u001b[0m         \u001b[1;32mif\u001b[0m \u001b[0mself\u001b[0m\u001b[1;33m.\u001b[0m\u001b[0m__exogenous__\u001b[0m \u001b[1;32mis\u001b[0m \u001b[1;32mNone\u001b[0m\u001b[1;33m:\u001b[0m\u001b[1;33m\u001b[0m\u001b[1;33m\u001b[0m\u001b[0m\n\u001b[1;32m--> 302\u001b[1;33m             \u001b[0mself\u001b[0m\u001b[1;33m.\u001b[0m\u001b[0m__exogenous__\u001b[0m \u001b[1;33m=\u001b[0m \u001b[0msuper\u001b[0m\u001b[1;33m(\u001b[0m\u001b[0mself\u001b[0m\u001b[1;33m.\u001b[0m\u001b[0m__class__\u001b[0m\u001b[1;33m,\u001b[0m \u001b[0mself\u001b[0m\u001b[1;33m)\u001b[0m\u001b[1;33m.\u001b[0m\u001b[0mget_exogenous\u001b[0m\u001b[1;33m(\u001b[0m\u001b[1;33m)\u001b[0m\u001b[1;33m\u001b[0m\u001b[1;33m\u001b[0m\u001b[0m\n\u001b[0m\u001b[0;32m    303\u001b[0m         \u001b[1;32mreturn\u001b[0m \u001b[0mself\u001b[0m\u001b[1;33m.\u001b[0m\u001b[0m__exogenous__\u001b[0m\u001b[1;33m\u001b[0m\u001b[1;33m\u001b[0m\u001b[0m\n\u001b[0;32m    304\u001b[0m \u001b[1;33m\u001b[0m\u001b[0m\n",
      "\u001b[1;32m~\\Anaconda3\\lib\\site-packages\\dolo\\compiler\\model.py\u001b[0m in \u001b[0;36mget_exogenous\u001b[1;34m(self)\u001b[0m\n\u001b[0;32m    164\u001b[0m             \u001b[0mexog\u001b[0m \u001b[1;33m=\u001b[0m \u001b[0mMarkovChain\u001b[0m\u001b[1;33m(\u001b[0m\u001b[1;33m**\u001b[0m\u001b[0mexo\u001b[0m\u001b[1;33m)\u001b[0m\u001b[1;33m\u001b[0m\u001b[1;33m\u001b[0m\u001b[0m\n\u001b[0;32m    165\u001b[0m         \u001b[1;32melse\u001b[0m\u001b[1;33m:\u001b[0m\u001b[1;33m\u001b[0m\u001b[1;33m\u001b[0m\u001b[0m\n\u001b[1;32m--> 166\u001b[1;33m             \u001b[1;32mraise\u001b[0m \u001b[0mException\u001b[0m\u001b[1;33m(\u001b[0m\u001b[1;34m\"Unknown exogenous type {}.\"\u001b[0m\u001b[1;33m.\u001b[0m\u001b[0mformat\u001b[0m\u001b[1;33m(\u001b[0m\u001b[0mtype\u001b[0m\u001b[1;33m)\u001b[0m\u001b[1;33m)\u001b[0m\u001b[1;33m\u001b[0m\u001b[1;33m\u001b[0m\u001b[0m\n\u001b[0m\u001b[0;32m    167\u001b[0m         \u001b[0md\u001b[0m \u001b[1;33m=\u001b[0m \u001b[0mexog\u001b[0m\u001b[1;33m.\u001b[0m\u001b[0meval\u001b[0m\u001b[1;33m(\u001b[0m\u001b[0md\u001b[0m\u001b[1;33m=\u001b[0m\u001b[0mcalibration\u001b[0m\u001b[1;33m)\u001b[0m\u001b[1;33m\u001b[0m\u001b[1;33m\u001b[0m\u001b[0m\n\u001b[0;32m    168\u001b[0m         \u001b[1;32mreturn\u001b[0m \u001b[0md\u001b[0m\u001b[1;33m\u001b[0m\u001b[1;33m\u001b[0m\u001b[0m\n",
      "\u001b[1;31mException\u001b[0m: Unknown exogenous type None."
     ]
    }
   ],
   "source": [
    "model.exogenous"
   ]
  },
  {
   "cell_type": "code",
   "execution_count": 16,
   "metadata": {
    "scrolled": true
   },
   "outputs": [
    {
     "ename": "Exception",
     "evalue": "Unknown exogenous type None.",
     "output_type": "error",
     "traceback": [
      "\u001b[1;31m---------------------------------------------------------------------------\u001b[0m",
      "\u001b[1;31mException\u001b[0m                                 Traceback (most recent call last)",
      "\u001b[1;32m<ipython-input-16-53ad1ddfdf7c>\u001b[0m in \u001b[0;36m<module>\u001b[1;34m\u001b[0m\n\u001b[1;32m----> 1\u001b[1;33m \u001b[0mdr_pert\u001b[0m \u001b[1;33m=\u001b[0m \u001b[0mapproximate_controls\u001b[0m\u001b[1;33m(\u001b[0m\u001b[0mmodel\u001b[0m\u001b[1;33m)\u001b[0m\u001b[1;33m\u001b[0m\u001b[1;33m\u001b[0m\u001b[0m\n\u001b[0m",
      "\u001b[1;32m~\\Anaconda3\\lib\\site-packages\\dolo\\algos\\perturbation.py\u001b[0m in \u001b[0;36mperturbate\u001b[1;34m(model, verbose, steady_state, eigmax, solve_steady_state, order)\u001b[0m\n\u001b[0;32m    219\u001b[0m         \u001b[0msteady_state\u001b[0m \u001b[1;33m=\u001b[0m \u001b[0mmodel\u001b[0m\u001b[1;33m.\u001b[0m\u001b[0mcalibration\u001b[0m\u001b[1;33m\u001b[0m\u001b[1;33m\u001b[0m\u001b[0m\n\u001b[0;32m    220\u001b[0m \u001b[1;33m\u001b[0m\u001b[0m\n\u001b[1;32m--> 221\u001b[1;33m     \u001b[0mG_s\u001b[0m\u001b[1;33m,\u001b[0m \u001b[0mG_x\u001b[0m\u001b[1;33m,\u001b[0m \u001b[0mG_e\u001b[0m\u001b[1;33m,\u001b[0m \u001b[0mF_s\u001b[0m\u001b[1;33m,\u001b[0m \u001b[0mF_x\u001b[0m\u001b[1;33m,\u001b[0m \u001b[0mF_S\u001b[0m\u001b[1;33m,\u001b[0m \u001b[0mF_X\u001b[0m \u001b[1;33m=\u001b[0m \u001b[0mget_derivatives\u001b[0m\u001b[1;33m(\u001b[0m\u001b[0mmodel\u001b[0m\u001b[1;33m,\u001b[0m \u001b[0msteady_state\u001b[0m\u001b[1;33m=\u001b[0m\u001b[0msteady_state\u001b[0m\u001b[1;33m)\u001b[0m\u001b[1;33m\u001b[0m\u001b[1;33m\u001b[0m\u001b[0m\n\u001b[0m\u001b[0;32m    222\u001b[0m \u001b[1;33m\u001b[0m\u001b[0m\n\u001b[0;32m    223\u001b[0m     \u001b[0mC\u001b[0m \u001b[1;33m=\u001b[0m \u001b[0mapproximate_1st_order\u001b[0m\u001b[1;33m(\u001b[0m\u001b[0mG_s\u001b[0m\u001b[1;33m,\u001b[0m \u001b[0mG_x\u001b[0m\u001b[1;33m,\u001b[0m \u001b[0mG_e\u001b[0m\u001b[1;33m,\u001b[0m \u001b[0mF_s\u001b[0m\u001b[1;33m,\u001b[0m \u001b[0mF_x\u001b[0m\u001b[1;33m,\u001b[0m \u001b[0mF_S\u001b[0m\u001b[1;33m,\u001b[0m \u001b[0mF_X\u001b[0m\u001b[1;33m)\u001b[0m\u001b[1;33m\u001b[0m\u001b[1;33m\u001b[0m\u001b[0m\n",
      "\u001b[1;32m~\\Anaconda3\\lib\\site-packages\\dolo\\algos\\perturbation.py\u001b[0m in \u001b[0;36mget_derivatives\u001b[1;34m(model, steady_state)\u001b[0m\n\u001b[0;32m     25\u001b[0m     \u001b[0mg_\u001b[0m\u001b[1;33m,\u001b[0m \u001b[0mg_m\u001b[0m\u001b[1;33m,\u001b[0m \u001b[0mg_s\u001b[0m\u001b[1;33m,\u001b[0m \u001b[0mg_x\u001b[0m\u001b[1;33m,\u001b[0m \u001b[0mg_M\u001b[0m \u001b[1;33m=\u001b[0m \u001b[0mg\u001b[0m\u001b[1;33m(\u001b[0m\u001b[0mm\u001b[0m\u001b[1;33m,\u001b[0m\u001b[0ms\u001b[0m\u001b[1;33m,\u001b[0m\u001b[0mx\u001b[0m\u001b[1;33m,\u001b[0m\u001b[0mm\u001b[0m\u001b[1;33m,\u001b[0m\u001b[0mp\u001b[0m\u001b[1;33m,\u001b[0m\u001b[0mdiff\u001b[0m\u001b[1;33m=\u001b[0m\u001b[1;32mTrue\u001b[0m\u001b[1;33m)\u001b[0m\u001b[1;33m\u001b[0m\u001b[1;33m\u001b[0m\u001b[0m\n\u001b[0;32m     26\u001b[0m \u001b[1;33m\u001b[0m\u001b[0m\n\u001b[1;32m---> 27\u001b[1;33m     \u001b[0mprocess\u001b[0m \u001b[1;33m=\u001b[0m \u001b[0mmodel\u001b[0m\u001b[1;33m.\u001b[0m\u001b[0mexogenous\u001b[0m\u001b[1;33m\u001b[0m\u001b[1;33m\u001b[0m\u001b[0m\n\u001b[0m\u001b[0;32m     28\u001b[0m \u001b[1;33m\u001b[0m\u001b[0m\n\u001b[0;32m     29\u001b[0m     \u001b[1;32mif\u001b[0m \u001b[0misinstance\u001b[0m\u001b[1;33m(\u001b[0m\u001b[0mprocess\u001b[0m\u001b[1;33m,\u001b[0m \u001b[0mVAR1\u001b[0m\u001b[1;33m)\u001b[0m\u001b[1;33m:\u001b[0m\u001b[1;33m\u001b[0m\u001b[1;33m\u001b[0m\u001b[0m\n",
      "\u001b[1;32m~\\Anaconda3\\lib\\site-packages\\dolo\\compiler\\model.py\u001b[0m in \u001b[0;36mexogenous\u001b[1;34m(self)\u001b[0m\n\u001b[0;32m    300\u001b[0m     \u001b[1;32mdef\u001b[0m \u001b[0mexogenous\u001b[0m\u001b[1;33m(\u001b[0m\u001b[0mself\u001b[0m\u001b[1;33m)\u001b[0m\u001b[1;33m:\u001b[0m\u001b[1;33m\u001b[0m\u001b[1;33m\u001b[0m\u001b[0m\n\u001b[0;32m    301\u001b[0m         \u001b[1;32mif\u001b[0m \u001b[0mself\u001b[0m\u001b[1;33m.\u001b[0m\u001b[0m__exogenous__\u001b[0m \u001b[1;32mis\u001b[0m \u001b[1;32mNone\u001b[0m\u001b[1;33m:\u001b[0m\u001b[1;33m\u001b[0m\u001b[1;33m\u001b[0m\u001b[0m\n\u001b[1;32m--> 302\u001b[1;33m             \u001b[0mself\u001b[0m\u001b[1;33m.\u001b[0m\u001b[0m__exogenous__\u001b[0m \u001b[1;33m=\u001b[0m \u001b[0msuper\u001b[0m\u001b[1;33m(\u001b[0m\u001b[0mself\u001b[0m\u001b[1;33m.\u001b[0m\u001b[0m__class__\u001b[0m\u001b[1;33m,\u001b[0m \u001b[0mself\u001b[0m\u001b[1;33m)\u001b[0m\u001b[1;33m.\u001b[0m\u001b[0mget_exogenous\u001b[0m\u001b[1;33m(\u001b[0m\u001b[1;33m)\u001b[0m\u001b[1;33m\u001b[0m\u001b[1;33m\u001b[0m\u001b[0m\n\u001b[0m\u001b[0;32m    303\u001b[0m         \u001b[1;32mreturn\u001b[0m \u001b[0mself\u001b[0m\u001b[1;33m.\u001b[0m\u001b[0m__exogenous__\u001b[0m\u001b[1;33m\u001b[0m\u001b[1;33m\u001b[0m\u001b[0m\n\u001b[0;32m    304\u001b[0m \u001b[1;33m\u001b[0m\u001b[0m\n",
      "\u001b[1;32m~\\Anaconda3\\lib\\site-packages\\dolo\\compiler\\model.py\u001b[0m in \u001b[0;36mget_exogenous\u001b[1;34m(self)\u001b[0m\n\u001b[0;32m    164\u001b[0m             \u001b[0mexog\u001b[0m \u001b[1;33m=\u001b[0m \u001b[0mMarkovChain\u001b[0m\u001b[1;33m(\u001b[0m\u001b[1;33m**\u001b[0m\u001b[0mexo\u001b[0m\u001b[1;33m)\u001b[0m\u001b[1;33m\u001b[0m\u001b[1;33m\u001b[0m\u001b[0m\n\u001b[0;32m    165\u001b[0m         \u001b[1;32melse\u001b[0m\u001b[1;33m:\u001b[0m\u001b[1;33m\u001b[0m\u001b[1;33m\u001b[0m\u001b[0m\n\u001b[1;32m--> 166\u001b[1;33m             \u001b[1;32mraise\u001b[0m \u001b[0mException\u001b[0m\u001b[1;33m(\u001b[0m\u001b[1;34m\"Unknown exogenous type {}.\"\u001b[0m\u001b[1;33m.\u001b[0m\u001b[0mformat\u001b[0m\u001b[1;33m(\u001b[0m\u001b[0mtype\u001b[0m\u001b[1;33m)\u001b[0m\u001b[1;33m)\u001b[0m\u001b[1;33m\u001b[0m\u001b[1;33m\u001b[0m\u001b[0m\n\u001b[0m\u001b[0;32m    167\u001b[0m         \u001b[0md\u001b[0m \u001b[1;33m=\u001b[0m \u001b[0mexog\u001b[0m\u001b[1;33m.\u001b[0m\u001b[0meval\u001b[0m\u001b[1;33m(\u001b[0m\u001b[0md\u001b[0m\u001b[1;33m=\u001b[0m\u001b[0mcalibration\u001b[0m\u001b[1;33m)\u001b[0m\u001b[1;33m\u001b[0m\u001b[1;33m\u001b[0m\u001b[0m\n\u001b[0;32m    168\u001b[0m         \u001b[1;32mreturn\u001b[0m \u001b[0md\u001b[0m\u001b[1;33m\u001b[0m\u001b[1;33m\u001b[0m\u001b[0m\n",
      "\u001b[1;31mException\u001b[0m: Unknown exogenous type None."
     ]
    }
   ],
   "source": [
    "dr_pert = approximate_controls(model)"
   ]
  },
  {
   "cell_type": "code",
   "execution_count": 17,
   "metadata": {},
   "outputs": [
    {
     "ename": "Exception",
     "evalue": "Unknown exogenous type None.",
     "output_type": "error",
     "traceback": [
      "\u001b[1;31m---------------------------------------------------------------------------\u001b[0m",
      "\u001b[1;31mException\u001b[0m                                 Traceback (most recent call last)",
      "\u001b[1;32m<ipython-input-17-5cadcdd397ac>\u001b[0m in \u001b[0;36m<module>\u001b[1;34m\u001b[0m\n\u001b[1;32m----> 1\u001b[1;33m \u001b[0mdr_global\u001b[0m \u001b[1;33m=\u001b[0m \u001b[0mtime_iteration\u001b[0m\u001b[1;33m(\u001b[0m\u001b[0mmodel\u001b[0m\u001b[1;33m)\u001b[0m\u001b[1;33m\u001b[0m\u001b[1;33m\u001b[0m\u001b[0m\n\u001b[0m",
      "\u001b[1;32m~\\Anaconda3\\lib\\site-packages\\dolo\\algos\\time_iteration.py\u001b[0m in \u001b[0;36mtime_iteration\u001b[1;34m(model, initial_guess, dprocess, with_complementarities, verbose, grid, maxit, inner_maxit, tol, hook)\u001b[0m\n\u001b[0;32m     71\u001b[0m \u001b[1;33m\u001b[0m\u001b[0m\n\u001b[0;32m     72\u001b[0m     \u001b[1;32mif\u001b[0m \u001b[0mdprocess\u001b[0m \u001b[1;32mis\u001b[0m \u001b[1;32mNone\u001b[0m\u001b[1;33m:\u001b[0m\u001b[1;33m\u001b[0m\u001b[1;33m\u001b[0m\u001b[0m\n\u001b[1;32m---> 73\u001b[1;33m         \u001b[0mdprocess\u001b[0m \u001b[1;33m=\u001b[0m \u001b[0mmodel\u001b[0m\u001b[1;33m.\u001b[0m\u001b[0mexogenous\u001b[0m\u001b[1;33m.\u001b[0m\u001b[0mdiscretize\u001b[0m\u001b[1;33m(\u001b[0m\u001b[1;33m)\u001b[0m\u001b[1;33m\u001b[0m\u001b[1;33m\u001b[0m\u001b[0m\n\u001b[0m\u001b[0;32m     74\u001b[0m \u001b[1;33m\u001b[0m\u001b[0m\n\u001b[0;32m     75\u001b[0m     \u001b[0mn_ms\u001b[0m \u001b[1;33m=\u001b[0m \u001b[0mdprocess\u001b[0m\u001b[1;33m.\u001b[0m\u001b[0mn_nodes\u001b[0m\u001b[1;33m(\u001b[0m\u001b[1;33m)\u001b[0m \u001b[1;31m# number of exogenous states\u001b[0m\u001b[1;33m\u001b[0m\u001b[1;33m\u001b[0m\u001b[0m\n",
      "\u001b[1;32m~\\Anaconda3\\lib\\site-packages\\dolo\\compiler\\model.py\u001b[0m in \u001b[0;36mexogenous\u001b[1;34m(self)\u001b[0m\n\u001b[0;32m    300\u001b[0m     \u001b[1;32mdef\u001b[0m \u001b[0mexogenous\u001b[0m\u001b[1;33m(\u001b[0m\u001b[0mself\u001b[0m\u001b[1;33m)\u001b[0m\u001b[1;33m:\u001b[0m\u001b[1;33m\u001b[0m\u001b[1;33m\u001b[0m\u001b[0m\n\u001b[0;32m    301\u001b[0m         \u001b[1;32mif\u001b[0m \u001b[0mself\u001b[0m\u001b[1;33m.\u001b[0m\u001b[0m__exogenous__\u001b[0m \u001b[1;32mis\u001b[0m \u001b[1;32mNone\u001b[0m\u001b[1;33m:\u001b[0m\u001b[1;33m\u001b[0m\u001b[1;33m\u001b[0m\u001b[0m\n\u001b[1;32m--> 302\u001b[1;33m             \u001b[0mself\u001b[0m\u001b[1;33m.\u001b[0m\u001b[0m__exogenous__\u001b[0m \u001b[1;33m=\u001b[0m \u001b[0msuper\u001b[0m\u001b[1;33m(\u001b[0m\u001b[0mself\u001b[0m\u001b[1;33m.\u001b[0m\u001b[0m__class__\u001b[0m\u001b[1;33m,\u001b[0m \u001b[0mself\u001b[0m\u001b[1;33m)\u001b[0m\u001b[1;33m.\u001b[0m\u001b[0mget_exogenous\u001b[0m\u001b[1;33m(\u001b[0m\u001b[1;33m)\u001b[0m\u001b[1;33m\u001b[0m\u001b[1;33m\u001b[0m\u001b[0m\n\u001b[0m\u001b[0;32m    303\u001b[0m         \u001b[1;32mreturn\u001b[0m \u001b[0mself\u001b[0m\u001b[1;33m.\u001b[0m\u001b[0m__exogenous__\u001b[0m\u001b[1;33m\u001b[0m\u001b[1;33m\u001b[0m\u001b[0m\n\u001b[0;32m    304\u001b[0m \u001b[1;33m\u001b[0m\u001b[0m\n",
      "\u001b[1;32m~\\Anaconda3\\lib\\site-packages\\dolo\\compiler\\model.py\u001b[0m in \u001b[0;36mget_exogenous\u001b[1;34m(self)\u001b[0m\n\u001b[0;32m    164\u001b[0m             \u001b[0mexog\u001b[0m \u001b[1;33m=\u001b[0m \u001b[0mMarkovChain\u001b[0m\u001b[1;33m(\u001b[0m\u001b[1;33m**\u001b[0m\u001b[0mexo\u001b[0m\u001b[1;33m)\u001b[0m\u001b[1;33m\u001b[0m\u001b[1;33m\u001b[0m\u001b[0m\n\u001b[0;32m    165\u001b[0m         \u001b[1;32melse\u001b[0m\u001b[1;33m:\u001b[0m\u001b[1;33m\u001b[0m\u001b[1;33m\u001b[0m\u001b[0m\n\u001b[1;32m--> 166\u001b[1;33m             \u001b[1;32mraise\u001b[0m \u001b[0mException\u001b[0m\u001b[1;33m(\u001b[0m\u001b[1;34m\"Unknown exogenous type {}.\"\u001b[0m\u001b[1;33m.\u001b[0m\u001b[0mformat\u001b[0m\u001b[1;33m(\u001b[0m\u001b[0mtype\u001b[0m\u001b[1;33m)\u001b[0m\u001b[1;33m)\u001b[0m\u001b[1;33m\u001b[0m\u001b[1;33m\u001b[0m\u001b[0m\n\u001b[0m\u001b[0;32m    167\u001b[0m         \u001b[0md\u001b[0m \u001b[1;33m=\u001b[0m \u001b[0mexog\u001b[0m\u001b[1;33m.\u001b[0m\u001b[0meval\u001b[0m\u001b[1;33m(\u001b[0m\u001b[0md\u001b[0m\u001b[1;33m=\u001b[0m\u001b[0mcalibration\u001b[0m\u001b[1;33m)\u001b[0m\u001b[1;33m\u001b[0m\u001b[1;33m\u001b[0m\u001b[0m\n\u001b[0;32m    168\u001b[0m         \u001b[1;32mreturn\u001b[0m \u001b[0md\u001b[0m\u001b[1;33m\u001b[0m\u001b[1;33m\u001b[0m\u001b[0m\n",
      "\u001b[1;31mException\u001b[0m: Unknown exogenous type None."
     ]
    }
   ],
   "source": [
    "dr_global = time_iteration(model)"
   ]
  },
  {
   "cell_type": "code",
   "execution_count": null,
   "metadata": {},
   "outputs": [],
   "source": []
  }
 ],
 "metadata": {
  "kernelspec": {
   "display_name": "Python 3",
   "language": "python",
   "name": "python3"
  },
  "language_info": {
   "codemirror_mode": {
    "name": "ipython",
    "version": 3
   },
   "file_extension": ".py",
   "mimetype": "text/x-python",
   "name": "python",
   "nbconvert_exporter": "python",
   "pygments_lexer": "ipython3",
   "version": "3.7.3"
  }
 },
 "nbformat": 4,
 "nbformat_minor": 2
}
