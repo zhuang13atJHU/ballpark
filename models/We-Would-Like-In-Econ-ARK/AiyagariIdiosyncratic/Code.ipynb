{
 "cells": [
  {
   "cell_type": "code",
   "execution_count": 1,
   "metadata": {},
   "outputs": [],
   "source": [
    "# Setup\n",
    "\n",
    "from dolo import *\n",
    "from dolo import time_iteration\n",
    "import dolark \n",
    "from dolark import HModel\n",
    "from dolark.equilibrium import find_steady_state\n",
    "from dolark.perturbation import perturb\n",
    "from matplotlib import pyplot as plt\n",
    "import numpy as np"
   ]
  },
  {
   "cell_type": "code",
   "execution_count": 2,
   "metadata": {},
   "outputs": [
    {
     "data": {
      "text/plain": [
       "<dolark.model.HModel at 0x7f0bcec18f60>"
      ]
     },
     "execution_count": 2,
     "metadata": {},
     "output_type": "execute_result"
    }
   ],
   "source": [
    "#HModel reads the yaml file\n",
    "aggmodel = HModel('Aiyagari.yaml')\n",
    "aggmodel\n"
   ]
  },
  {
   "cell_type": "code",
   "execution_count": 3,
   "metadata": {},
   "outputs": [
    {
     "data": {
      "text/plain": [
       "{'ex-ante-identical': True,\n",
       " 'conditional-processes': False,\n",
       " 'iid-shocks': False}"
      ]
     },
     "execution_count": 3,
     "metadata": {},
     "output_type": "execute_result"
    }
   ],
   "source": [
    "aggmodel.features"
   ]
  },
  {
   "cell_type": "code",
   "execution_count": 4,
   "metadata": {
    "scrolled": true
   },
   "outputs": [
    {
     "name": "stderr",
     "output_type": "stream",
     "text": [
      "\u001b[33mYAMLLoadWarning\u001b[0m:/home/methods/GitHub/EconForge/dolo/dolo/compiler/recipes.py:20\n",
      "    calling yaml.load() without Loader=... is deprecated, as the default Loader is unsafe. Please read https://msg.pyyaml.org/load for full details.\n"
     ]
    },
    {
     "name": "stdout",
     "output_type": "stream",
     "text": [
      "------------------------------------------------\n",
      "| N   |  Error     | Gain     | Time     | nit |\n",
      "------------------------------------------------\n"
     ]
    },
    {
     "name": "stderr",
     "output_type": "stream",
     "text": [
      "\u001b[33mUserWarning\u001b[0m:/home/methods/GitHub/EconForge/dolo/dolo/numeric/optimize/newton.py:150\n",
      "    Did not converge\n"
     ]
    },
    {
     "name": "stdout",
     "output_type": "stream",
     "text": [
      "|   1 |  9.287e+01 |      nan |    1.799 |  10 |\n",
      "|   2 |  3.087e+01 |    0.332 |    0.015 |   4 |\n",
      "|   3 |  1.536e+01 |    0.498 |    0.016 |   4 |\n",
      "|   4 |  9.155e+00 |    0.596 |    0.012 |   3 |\n",
      "|   5 |  6.050e+00 |    0.661 |    0.012 |   3 |\n",
      "|   6 |  4.273e+00 |    0.706 |    0.019 |   5 |\n",
      "|   7 |  3.161e+00 |    0.740 |    0.016 |   3 |\n",
      "|   8 |  2.418e+00 |    0.765 |    0.013 |   3 |\n",
      "|   9 |  1.896e+00 |    0.784 |    0.012 |   3 |\n",
      "|  10 |  1.514e+00 |    0.799 |    0.012 |   3 |\n",
      "|  11 |  1.227e+00 |    0.810 |    0.009 |   2 |\n",
      "|  12 |  1.004e+00 |    0.818 |    0.009 |   2 |\n",
      "|  13 |  8.270e-01 |    0.824 |    0.009 |   2 |\n",
      "|  14 |  6.845e-01 |    0.828 |    0.009 |   2 |\n",
      "|  15 |  5.671e-01 |    0.828 |    0.009 |   2 |\n",
      "|  16 |  4.696e-01 |    0.828 |    0.009 |   2 |\n",
      "|  17 |  3.874e-01 |    0.825 |    0.009 |   2 |\n",
      "|  18 |  3.156e-01 |    0.815 |    0.009 |   2 |\n",
      "|  19 |  2.519e-01 |    0.798 |    0.046 |   2 |\n",
      "|  20 |  1.960e-01 |    0.778 |    0.019 |   2 |\n",
      "|  21 |  1.480e-01 |    0.755 |    0.019 |   2 |\n",
      "|  22 |  1.077e-01 |    0.728 |    0.018 |   2 |\n",
      "|  23 |  7.548e-02 |    0.701 |    0.013 |   2 |\n",
      "|  24 |  5.119e-02 |    0.678 |    0.010 |   2 |\n",
      "|  25 |  3.393e-02 |    0.663 |    0.011 |   2 |\n",
      "|  26 |  2.223e-02 |    0.655 |    0.010 |   2 |\n",
      "|  27 |  1.454e-02 |    0.654 |    0.010 |   2 |\n",
      "|  28 |  9.544e-03 |    0.657 |    0.010 |   2 |\n",
      "|  29 |  6.306e-03 |    0.661 |    0.006 |   1 |\n",
      "|  30 |  4.193e-03 |    0.665 |    0.006 |   1 |\n",
      "|  31 |  2.801e-03 |    0.668 |    0.006 |   1 |\n",
      "|  32 |  1.876e-03 |    0.670 |    0.006 |   1 |\n",
      "|  33 |  1.258e-03 |    0.671 |    0.018 |   1 |\n",
      "|  34 |  8.436e-04 |    0.671 |    0.013 |   1 |\n",
      "|  35 |  5.653e-04 |    0.670 |    0.015 |   1 |\n",
      "|  36 |  3.784e-04 |    0.669 |    0.008 |   1 |\n",
      "|  37 |  2.530e-04 |    0.669 |    0.006 |   1 |\n",
      "|  38 |  1.690e-04 |    0.668 |    0.006 |   1 |\n",
      "|  39 |  1.127e-04 |    0.667 |    0.007 |   1 |\n",
      "|  40 |  7.514e-05 |    0.666 |    0.006 |   1 |\n",
      "|  41 |  5.003e-05 |    0.666 |    0.006 |   1 |\n",
      "|  42 |  3.329e-05 |    0.665 |    0.006 |   1 |\n",
      "|  43 |  2.214e-05 |    0.665 |    0.006 |   1 |\n",
      "|  44 |  1.471e-05 |    0.665 |    0.006 |   1 |\n",
      "|  45 |  9.771e-06 |    0.664 |    0.005 |   1 |\n",
      "|  46 |  6.487e-06 |    0.664 |    0.005 |   1 |\n",
      "|  47 |  4.305e-06 |    0.664 |    0.005 |   1 |\n",
      "|  48 |  2.856e-06 |    0.663 |    0.005 |   1 |\n",
      "|  49 |  1.894e-06 |    0.663 |    0.005 |   1 |\n",
      "|  50 |  1.256e-06 |    0.663 |    0.006 |   1 |\n",
      "|  51 |  8.327e-07 |    0.663 |    0.005 |   1 |\n",
      "------------------------------------------------\n",
      "Elapsed: 2.353403329849243 seconds.\n",
      "------------------------------------------------\n"
     ]
    }
   ],
   "source": [
    "#first check whether the one-agent sub-part of the mode works\n",
    "from dolo import time_iteration\n",
    "i_opts = {\"N\":2}\n",
    "model = aggmodel.model\n",
    "mc = model.exogenous.discretize(to='mc',options=[{},i_opts])\n",
    "sol0 = time_iteration(model, details=True, dprocess=mc)"
   ]
  },
  {
   "cell_type": "code",
   "execution_count": 5,
   "metadata": {},
   "outputs": [
    {
     "name": "stdout",
     "output_type": "stream",
     "text": [
      "Computing Initial Initial Rule... \u001b[32mdone\u001b[0m\n",
      "Computing Steady State...\u001b[32mdone\u001b[0m\n"
     ]
    },
    {
     "data": {
      "text/plain": [
       "<dolark.equilibrium.Equilibrium at 0x7f0bcdc34908>"
      ]
     },
     "execution_count": 5,
     "metadata": {},
     "output_type": "execute_result"
    }
   ],
   "source": [
    "eq = find_steady_state(aggmodel)\n",
    "eq"
   ]
  },
  {
   "cell_type": "code",
   "execution_count": 9,
   "metadata": {},
   "outputs": [
    {
     "name": "stdout",
     "output_type": "stream",
     "text": [
      "Help on function find_steady_state in module dolark.equilibrium:\n",
      "\n",
      "find_steady_state(hmodel, dr0=None, verbose=True, distribs=None)\n",
      "\n"
     ]
    }
   ],
   "source": [
    "help(find_steady_state)"
   ]
  },
  {
   "cell_type": "code",
   "execution_count": 12,
   "metadata": {},
   "outputs": [
    {
     "name": "stdout",
     "output_type": "stream",
     "text": [
      "Help on class HModel in module dolark.model:\n",
      "\n",
      "class HModel(builtins.object)\n",
      " |  HModel(fname, i_options={}, dptype=None, debug=False)\n",
      " |  \n",
      " |  Methods defined here:\n",
      " |  \n",
      " |  A(self, grids, m0: 'n_e', μ0: 'n_m.N', xx0: 'n_m.N.n_x', y0: 'n_y', p: 'n_p')\n",
      " |  \n",
      " |  __get_calibration__(self)\n",
      " |  \n",
      " |  __init__(self, fname, i_options={}, dptype=None, debug=False)\n",
      " |      Initialize self.  See help(type(self)) for accurate signature.\n",
      " |  \n",
      " |  __set_changed__(self)\n",
      " |  \n",
      " |  check(self)\n",
      " |  \n",
      " |  get_starting_rule(self, method='improved_time_iteration', **kwargs)\n",
      " |  \n",
      " |  set_calibration(self, *pargs, **kwargs)\n",
      " |  \n",
      " |  τ(self, m, p)\n",
      " |  \n",
      " |  ----------------------------------------------------------------------\n",
      " |  Data descriptors defined here:\n",
      " |  \n",
      " |  E\n",
      " |  \n",
      " |  __dict__\n",
      " |      dictionary for instance variables (if defined)\n",
      " |  \n",
      " |  __weakref__\n",
      " |      list of weak references to the object (if defined)\n",
      " |  \n",
      " |  agent\n",
      " |  \n",
      " |  calibration\n",
      " |  \n",
      " |  distribution\n",
      " |  \n",
      " |  exogenous\n",
      " |  \n",
      " |  features\n",
      " |  \n",
      " |  model\n",
      " |  \n",
      " |  name\n",
      " |  \n",
      " |  projection\n",
      " |  \n",
      " |  symbols\n",
      " |  \n",
      " |  variables\n",
      "\n"
     ]
    }
   ],
   "source": [
    "help(HModel)"
   ]
  },
  {
   "cell_type": "code",
   "execution_count": 13,
   "metadata": {},
   "outputs": [
    {
     "name": "stdout",
     "output_type": "stream",
     "text": [
      "Help on Equilibrium in module dolark.equilibrium object:\n",
      "\n",
      "class Equilibrium(builtins.object)\n",
      " |  Equilibrium(aggmodel, m, μ, dr, y)\n",
      " |  \n",
      " |  Methods defined here:\n",
      " |  \n",
      " |  __init__(self, aggmodel, m, μ, dr, y)\n",
      " |      Initialize self.  See help(type(self)) for accurate signature.\n",
      " |  \n",
      " |  as_df(self)\n",
      " |  \n",
      " |  ----------------------------------------------------------------------\n",
      " |  Data descriptors defined here:\n",
      " |  \n",
      " |  __dict__\n",
      " |      dictionary for instance variables (if defined)\n",
      " |  \n",
      " |  __weakref__\n",
      " |      list of weak references to the object (if defined)\n",
      "\n"
     ]
    }
   ],
   "source": [
    "help(eq)"
   ]
  },
  {
   "cell_type": "code",
   "execution_count": 14,
   "metadata": {},
   "outputs": [
    {
     "data": {
      "text/plain": [
       "<dolo.numeric.decision_rule.DecisionRule at 0x7f0bcddbf4a8>"
      ]
     },
     "execution_count": 14,
     "metadata": {},
     "output_type": "execute_result"
    }
   ],
   "source": [
    "eq.dr"
   ]
  },
  {
   "cell_type": "code",
   "execution_count": 15,
   "metadata": {},
   "outputs": [
    {
     "name": "stdout",
     "output_type": "stream",
     "text": [
      "<dolo.numeric.decision_rule.DecisionRule object at 0x7f0bcddbf4a8>\n"
     ]
    }
   ],
   "source": [
    "print(eq.dr)"
   ]
  },
  {
   "cell_type": "code",
   "execution_count": 29,
   "metadata": {},
   "outputs": [
    {
     "data": {
      "text/plain": [
       "array([6.33612038])"
      ]
     },
     "execution_count": 29,
     "metadata": {},
     "output_type": "execute_result"
    }
   ],
   "source": [
    "eq.y  # y is the aggregate "
   ]
  },
  {
   "cell_type": "code",
   "execution_count": 31,
   "metadata": {},
   "outputs": [
    {
     "data": {
      "text/plain": [
       "array([0.])"
      ]
     },
     "execution_count": 31,
     "metadata": {},
     "output_type": "execute_result"
    }
   ],
   "source": [
    "eq.m # aggregate exogenous"
   ]
  },
  {
   "cell_type": "code",
   "execution_count": 36,
   "metadata": {},
   "outputs": [
    {
     "data": {
      "text/plain": [
       "array([[[-6.36785156e+00],\n",
       "        [-1.00000008e-10],\n",
       "        [ 6.36785156e+00],\n",
       "        [ 1.30404988e+01],\n",
       "        [ 1.97799265e+01],\n",
       "        [ 2.65491263e+01],\n",
       "        [ 3.33345063e+01],\n",
       "        [ 4.01296972e+01],\n",
       "        [ 4.69313047e+01],\n",
       "        [ 5.37373349e+01],\n",
       "        [ 6.05465350e+01],\n",
       "        [ 6.73580799e+01],\n",
       "        [ 7.41714038e+01],\n",
       "        [ 8.09861066e+01],\n",
       "        [ 8.78018980e+01],\n",
       "        [ 9.46185622e+01],\n",
       "        [ 1.01435936e+02],\n",
       "        [ 1.08253894e+02],\n",
       "        [ 1.15072339e+02],\n",
       "        [ 1.21891192e+02],\n",
       "        [ 1.28710391e+02],\n",
       "        [ 1.35529887e+02],\n",
       "        [ 1.42349637e+02],\n",
       "        [ 1.49169609e+02],\n",
       "        [ 1.55989774e+02],\n",
       "        [ 1.62810107e+02],\n",
       "        [ 1.69630591e+02],\n",
       "        [ 1.76451204e+02],\n",
       "        [ 1.83271943e+02],\n",
       "        [ 1.90092768e+02],\n",
       "        [ 1.96913729e+02],\n",
       "        [ 2.03734689e+02]],\n",
       "\n",
       "       [[-6.42715556e+00],\n",
       "        [ 1.16335323e-01],\n",
       "        [ 6.65982621e+00],\n",
       "        [ 1.33674234e+01],\n",
       "        [ 2.01237726e+01],\n",
       "        [ 2.69024072e+01],\n",
       "        [ 3.36935465e+01],\n",
       "        [ 4.04924367e+01],\n",
       "        [ 4.72965681e+01],\n",
       "        [ 5.41043662e+01],\n",
       "        [ 6.09148414e+01],\n",
       "        [ 6.77273248e+01],\n",
       "        [ 7.45413516e+01],\n",
       "        [ 8.13565881e+01],\n",
       "        [ 8.81727893e+01],\n",
       "        [ 9.49897713e+01],\n",
       "        [ 1.01807393e+02],\n",
       "        [ 1.08625547e+02],\n",
       "        [ 1.15444145e+02],\n",
       "        [ 1.22263119e+02],\n",
       "        [ 1.29082415e+02],\n",
       "        [ 1.35901986e+02],\n",
       "        [ 1.42721797e+02],\n",
       "        [ 1.49541815e+02],\n",
       "        [ 1.56362017e+02],\n",
       "        [ 1.63182377e+02],\n",
       "        [ 1.70002883e+02],\n",
       "        [ 1.76823510e+02],\n",
       "        [ 1.83644261e+02],\n",
       "        [ 1.90465091e+02],\n",
       "        [ 1.97286056e+02],\n",
       "        [ 2.04107020e+02]],\n",
       "\n",
       "       [[-5.87932203e+00],\n",
       "        [ 7.45954682e-01],\n",
       "        [ 7.37123140e+00],\n",
       "        [ 1.41344633e+01],\n",
       "        [ 2.09013388e+01],\n",
       "        [ 2.76929478e+01],\n",
       "        [ 3.44896344e+01],\n",
       "        [ 4.12930441e+01],\n",
       "        [ 4.81001247e+01],\n",
       "        [ 5.49100836e+01],\n",
       "        [ 6.17221487e+01],\n",
       "        [ 6.85358303e+01],\n",
       "        [ 7.53507751e+01],\n",
       "        [ 8.21667251e+01],\n",
       "        [ 8.89834876e+01],\n",
       "        [ 9.58009157e+01],\n",
       "        [ 1.02618896e+02],\n",
       "        [ 1.09437338e+02],\n",
       "        [ 1.16256172e+02],\n",
       "        [ 1.23075338e+02],\n",
       "        [ 1.29894792e+02],\n",
       "        [ 1.36714494e+02],\n",
       "        [ 1.43534413e+02],\n",
       "        [ 1.50354521e+02],\n",
       "        [ 1.57174798e+02],\n",
       "        [ 1.63995219e+02],\n",
       "        [ 1.70815778e+02],\n",
       "        [ 1.77636445e+02],\n",
       "        [ 1.84457235e+02],\n",
       "        [ 1.91278092e+02],\n",
       "        [ 1.98099081e+02],\n",
       "        [ 2.04920071e+02]]])"
      ]
     },
     "execution_count": 36,
     "metadata": {},
     "output_type": "execute_result"
    }
   ],
   "source": [
    "eq."
   ]
  },
  {
   "cell_type": "code",
   "execution_count": 34,
   "metadata": {},
   "outputs": [
    {
     "ename": "TypeError",
     "evalue": "'DecisionRule' object is not iterable",
     "output_type": "error",
     "traceback": [
      "\u001b[0;31m---------------------------------------------------------------------------\u001b[0m",
      "\u001b[0;31mTypeError\u001b[0m                                 Traceback (most recent call last)",
      "\u001b[0;32m<ipython-input-34-984f351b9c02>\u001b[0m in \u001b[0;36m<module>\u001b[0;34m\u001b[0m\n\u001b[0;32m----> 1\u001b[0;31m \u001b[0mlist\u001b[0m\u001b[0;34m(\u001b[0m\u001b[0meq\u001b[0m\u001b[0;34m.\u001b[0m\u001b[0mdr\u001b[0m\u001b[0;34m)\u001b[0m\u001b[0;34m\u001b[0m\u001b[0;34m\u001b[0m\u001b[0m\n\u001b[0m",
      "\u001b[0;31mTypeError\u001b[0m: 'DecisionRule' object is not iterable"
     ]
    }
   ],
   "source": []
  },
  {
   "cell_type": "code",
   "execution_count": null,
   "metadata": {},
   "outputs": [],
   "source": []
  }
 ],
 "metadata": {
  "kernelspec": {
   "display_name": "Python 3",
   "language": "python",
   "name": "python3"
  },
  "language_info": {
   "codemirror_mode": {
    "name": "ipython",
    "version": 3
   },
   "file_extension": ".py",
   "mimetype": "text/x-python",
   "name": "python",
   "nbconvert_exporter": "python",
   "pygments_lexer": "ipython3",
   "version": "3.7.3"
  },
  "latex_envs": {
   "LaTeX_envs_menu_present": true,
   "autoclose": false,
   "autocomplete": true,
   "bibliofile": "biblio.bib",
   "cite_by": "apalike",
   "current_citInitial": 1,
   "eqLabelWithNumbers": true,
   "eqNumInitial": 1,
   "hotkeys": {
    "equation": "Ctrl-E",
    "itemize": "Ctrl-I"
   },
   "labels_anchors": false,
   "latex_user_defs": false,
   "report_style_numbering": false,
   "user_envs_cfg": false
  }
 },
 "nbformat": 4,
 "nbformat_minor": 2
}
