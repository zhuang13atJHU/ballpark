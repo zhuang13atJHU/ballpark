{
 "cells": [
  {
   "cell_type": "markdown",
   "metadata": {},
   "source": [
    "# [Uninsured Idiosyncratic Risk and Aggregate Saving](https://www.jstor.org/stable/2118417?seq=1#metadata_info_tab_contents)\n",
    "* Author: S. Rao Aiyagari\n",
    "* Source: The Quaterly Journal of Economics, Vol. 109, No. 3 (Aug., 1994), pp. 659-684\n",
    "* Notebook by Zixuan Huang and Mingzuo Sun\n",
    "* 2019 Fall"
   ]
  },
  {
   "cell_type": "markdown",
   "metadata": {},
   "source": [
    "This notebook uses [EconForge/Dolark](http://www.econforge.org/dolark/) toolkit to describe the results and reproduce the tables in the linked paper.\n",
    "\n",
    "__NOTES:__ This is a preliminart draft. $\\texttt{Dolo}$ and $\\texttt{Dolark}$ codes need to be inserted."
   ]
  },
  {
   "cell_type": "markdown",
   "metadata": {},
   "source": [
    "## Abtract \n",
    "* The paper modifies standard growth model to include precautionary saving motives and liquidity constraints. \n",
    "* The paper examines the impact of the introduction of a particular kind of uninsurable idiosyncratic risk on the aggregate saving rate; the importance of asset trading to individuals; and the relative inequality of the wealth and income distributions. "
   ]
  },
  {
   "cell_type": "markdown",
   "metadata": {},
   "source": [
    "## Introduction\n",
    "\n",
    "### Paper's Goals \n",
    "* To provide an exposition of models whose aggregate behavior is the result of market interaction among a large number of agents subject to idiosyncratic shocks. \n",
    "> * This class of models contrasts with representative agent models where individual dynamics and uncertainty coincide with aggregate dynamics and uncertainty. <br/>\n",
    "> * This exposition is built around the standard growth model of Brock and Mirman(1972) modified to include a role for uninsured idiosyncratic risk and borrowing constraint.\n",
    "* To use such a model to study the quantitative importance of individual risk for aggregate saving. <br/>\n",
    "\n",
    "\n",
    "### Key features\n",
    "* Endogenous heterogeneity \n",
    "* Aggregation\n",
    "* Infinite horizons \n",
    "* Exogenous borrowing constraint\n",
    "* General equilibrium. i.e. interest rate is endogenously determined since in a steady state equilibrium the capital per capita must equal the per capita asset holdings of consumers, and the interest rate must equal the net marginal product of capital. "
   ]
  },
  {
   "cell_type": "markdown",
   "metadata": {},
   "source": [
    "## Related Literature\n",
    "* The Aiyagari model originates from Bewley model and a subsequent literature Zeldes (1989), Deaton (1991), Carroll (1992), and puts these kinds of models into a general equilibrium context. These models all share the same key components as mentioned in the previous part. And they are used to study the following topics:\n",
    "> * How much of observed wealth inequality does a particular choice of uninsurable idiosyncratic income uncertainty explain? <br/>\n",
    "> * In this model, what is the fraction of aggregate savings due to the precautionary motive? <br/>\n",
    "> * In this model, what are the redistributional implications of various policies?\n"
   ]
  },
  {
   "cell_type": "markdown",
   "metadata": {},
   "source": [
    "## Model\n",
    "### The Individual's Problem\n",
    "\n",
    "\\begin{split}\n",
    "&\\max E_0\\left(\\sum_{t=0}^\\infty \\beta^t U(c_t)\\right)\\\\\n",
    "&\\text{s.t.}\\\\\n",
    "&c_t+a_{t+1}=wl_{t}+(1+r)a_t \\\\\n",
    "&c_t\\geq0\\\\\n",
    "&a_t\\geq-\\phi\n",
    "\\end{split}\n",
    "\n",
    "\n",
    "where $\\phi$ (if positive) is the limit on borrowing; $l_t$ is assumed to be i.i.d with bounded support given by $[l_{min},l_{max}]$, with $l_{min}>0$; $w$ and $r$ represent wage and interest rate repectively.\n"
   ]
  },
  {
   "cell_type": "markdown",
   "metadata": {},
   "source": [
    "* $\\hat{a}_t\\equiv a_t+\\phi$ \n",
    "* $z_t \\equiv wl_t+(1+r)\\hat{a}_t-r\\phi$: total resources of the agent at date $t$ respectively. \n",
    "* Then the Bellman equation is as follows:\n",
    "$$\n",
    "\\begin{split}\n",
    "V(z_t,\\phi,w,r) \\equiv \\underset{\\hat{a}_{t+1}}{\\max}\\left(U(z_t-\\hat{a}_{t+1})+\\beta \\int V(z_{t+1},\\phi,w,r)\\ dF(l_{t+1})  \\right)\n",
    "\\end{split}\n",
    "$$"
   ]
  },
  {
   "cell_type": "markdown",
   "metadata": {},
   "source": [
    "* Euler equation: \n",
    "\n",
    "\\begin{split}\n",
    "U^\\prime (z_t-\\hat{a}_{t+1})=\\beta(1+r)\\int U^\\prime (z_{t+1}-\\hat{a}_{t+2})\\ dF(l_{t+1})\n",
    "\\end{split}"
   ]
  },
  {
   "cell_type": "markdown",
   "metadata": {},
   "source": [
    "* Decision rule: $\\hat{a}_{t+1}=A(z_t,\\phi,w,r)$ \n",
    "* Law of transition: $z_{t+1}=wl_{t+1}+(1+r)A(z_t,\\phi,w,r)-r\\phi$"
   ]
  },
  {
   "cell_type": "markdown",
   "metadata": {},
   "source": [
    "### Firm's problem\n",
    "\\begin{split}\n",
    "\\max F(K,L)-wL-rK\n",
    "\\end{split}\n",
    "\n",
    "\n",
    "\n",
    "where $K$ is the aggregate capital, $L$ is the aggregate labor, $F(K,L)$ is the production function."
   ]
  },
  {
   "cell_type": "markdown",
   "metadata": {},
   "source": [
    "### General Equilibrium\n",
    "In the steady state, variables are time invariant and all markets are clear, i.e.,\n",
    "* $F_K(K,L) = r+\\delta $\n",
    "* $F_L(K,L) = w$\n",
    "* $\\int l_i di = L$\n",
    "* $\\int a_i di = K$"
   ]
  },
  {
   "cell_type": "markdown",
   "metadata": {},
   "source": [
    "## Model Specification, Parameterization, and Consumption\n",
    "\n",
    "### Model specification and parameters\n",
    "| Parameter      | Description               | Value           ||\n",
    "|:------:| ------       | ------    | :------:  |\n",
    "|$\\beta$ | Time Preference Factor | 0.96 | \n",
    "| $\\delta$ | Depreciation Rate | 0.08 |\n",
    "| $\\alpha$ | Capital Share | 0.36 |\n",
    "| $\\phi$ |     Borrowing Limit | 0 |\n",
    "| $\\mu$ | Risk Aversion Coefficient | {1,3,5} |\n",
    "| $\\rho$ | Serial Correlation of Labor Shocks | {0,0.3,0.6,0.9} |\n",
    "| $\\sigma$ | Variance of Labor Shocks | {0.2,0.4} |\n",
    "\n",
    "\n",
    "\n",
    "* Production function: Cobb Douglas with the capital share taken to be $\\alpha$\n",
    "\\begin{split}\n",
    "F(K,L) = K^\\alpha L^{1-\\alpha}\n",
    "\\end{split}\n",
    "* Utility function: CRRA with the relative risk aversion coefficient $\\mu$\n",
    "* Labor endowment shocks: \n",
    "$$\n",
    "\\begin{split}\n",
    "\\log(l_t)=\\rho\\log(l_{t-1})+\\sigma(1-\\rho^2)^{\\frac{1}{2}}\\epsilon_{t}, \\ \\epsilon_t \\sim N(0,1)   \n",
    "\\end{split}\n",
    "$$\n"
   ]
  },
  {
   "cell_type": "markdown",
   "metadata": {},
   "source": [
    "### Computation\n",
    "* Applying $\\texttt{dolo}$ and $\\texttt{dolark}$ "
   ]
  },
  {
   "cell_type": "markdown",
   "metadata": {},
   "source": [
    "## Key Results\n",
    "\n",
    "### Aggregate Saving\n",
    "* The differences between the saving rates with an without insurance are quite small for moderate and empirically plausible values of $\\sigma$, $\\rho$, and $\\mu$. However for high values of $\\sigma$, $\\rho$, and $\\mu$, the presence of idiosyncratic risk can raise the saving rate quite significantly. \n",
    "<img src='Table2.png'>\n",
    "\n",
    "### Variabilities \n",
    "* Consumption varies about 50-70 percent as much as income. Saving and assets are much more volatile than income: Saving varies about three times as much as income, and assets vary about twice as much as income. \n",
    "* Risk aversion tends to reduce the variabilities of all these variabilities. \n",
    "\n",
    "### Importance of Asset Trading\n",
    "* If $\\mu=3$,$\\sigma=4$ and $\\rho=0.6$, then, by optimally accumulating and depleting assets, consumption variability is cut in half, yielding a welfare benefit of about 14 percent of per capita consumption.\n",
    "\n",
    "### Cross-Section Distributions and Inequality Measures\n",
    "* Since long-run distrubutions for an individual coincide with cross-section distrbutions for the population, results for variabilities of individual consumption, income, and assets have immediate implications for cross-section distributions. \n",
    "* There is much less dispersion across households in consumption compared with income and much greater dispersion in wealth compared with income. \n",
    "* Skewness coefficients reveal another aspect of inequality. All of the cross-section distributions are positively skewed (median$<$mean). However, the degree of skewness is less than in the data. "
   ]
  },
  {
   "cell_type": "markdown",
   "metadata": {},
   "source": [
    "## Conclusions and Comments\n",
    "The Aiyagari model extends the Bewley model to a context with a production sector. Deviating from the representative agent model in which complete market is implicitly assumed, it tries to study the aggregate saving behavior of the economy with the agents facing a particular kind of uninsured idiosyncratic risk. With an empirically plausible set of parameters, it finds that the aggregate saving rate does increase compared to the case with a complete market, however, the change here caused by the precautionary saving motive is mild. Also, the results of the model qualitatively match the real data in terms of the ranking of the fluctuations of some economic variables. However, in terms of approaching the real inequalities of income and wealth shown by the data, the model does not perform very well. Also, in this model, the joint distribution of income and wealth is not treated as a state variable, which neglects the distribution effect Krusell and Smith(1998) try to address."
   ]
  },
  {
   "cell_type": "code",
   "execution_count": null,
   "metadata": {},
   "outputs": [],
   "source": []
  }
 ],
 "metadata": {
  "kernelspec": {
   "display_name": "Python 3",
   "language": "python",
   "name": "python3"
  },
  "language_info": {
   "codemirror_mode": {
    "name": "ipython",
    "version": 3
   },
   "file_extension": ".py",
   "mimetype": "text/x-python",
   "name": "python",
   "nbconvert_exporter": "python",
   "pygments_lexer": "ipython3",
   "version": "3.7.3"
  }
 },
 "nbformat": 4,
 "nbformat_minor": 2
}
