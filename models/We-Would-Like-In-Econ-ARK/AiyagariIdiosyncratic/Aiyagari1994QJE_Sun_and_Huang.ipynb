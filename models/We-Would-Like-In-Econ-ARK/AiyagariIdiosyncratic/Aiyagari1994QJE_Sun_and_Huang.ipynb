{
 "cells": [
  {
   "cell_type": "markdown",
   "metadata": {},
   "source": [
    "# [Uninsured Idiosyncratic Risk and Aggregate Saving](https://www.jstor.org/stable/2118417?seq=1#metadata_info_tab_contents)\n",
    "* Author: S. Rao Aiyagari\n",
    "* Source: The Quaterly Journal of Economics, Vol. 109, No. 3 (Aug., 1994), pp. 659-684\n",
    "* Notebook by Zixuan Huang and Mingzuo Sun\n",
    "* 2019 Fall"
   ]
  },
  {
   "cell_type": "markdown",
   "metadata": {},
   "source": [
    "This notebook uses [EconForge/Dolark](http://www.econforge.org/dolark/) toolkit to describe the results and reproduce the tables in the linked paper.\n",
    "\n",
    "__NOTES:__ This is a preliminart draft. $\\texttt{Dolo}$ and $\\texttt{Dolark}$ codes have not been completely inserted."
   ]
  },
  {
   "cell_type": "code",
   "execution_count": 1,
   "metadata": {},
   "outputs": [],
   "source": [
    "#setup\n",
    "from dolo import *\n",
    "import dolark \n",
    "from dolark import HModel  #explain why\n",
    "from dolark.equilibrium import find_steady_state\n",
    "from dolark.perturbation import perturb   #find variations\n",
    "from dolo import time_iteration, improved_time_iteration     #time iteration is backward induction\n",
    "from matplotlib import pyplot as plt\n",
    "import numpy as np\n",
    "import math   #numpy has it as well"
   ]
  },
  {
   "cell_type": "markdown",
   "metadata": {},
   "source": [
    "## Abtract \n",
    "* The paper modifies standard growth model to include precautionary saving motives and liquidity constraints. \n",
    "* The paper examines the impact of the introduction of a particular kind of uninsurable idiosyncratic risk on the aggregate saving rate; the importance of asset trading to individuals; and the relative inequality of the wealth and income distributions. "
   ]
  },
  {
   "cell_type": "markdown",
   "metadata": {},
   "source": [
    "## Introduction\n",
    "\n",
    "### Paper's Goals \n",
    "* To provide an exposition of models whose aggregate behavior is the result of market interaction among a large number of agents subject to idiosyncratic shocks. \n",
    "> * This class of models contrasts with representative agent models where individual dynamics and uncertainty coincide with aggregate dynamics and uncertainty. <br/>\n",
    "> * This exposition is built around the standard growth model of Brock and Mirman(1972) modified to include a role for uninsured idiosyncratic risk and borrowing constraint.\n",
    "* To use such a model to study the quantitative importance of individual risk for aggregate saving. <br/>\n",
    "\n",
    "\n",
    "### Key features\n",
    "* Endogenous heterogeneity \n",
    "* Aggregation\n",
    "* Infinite horizons \n",
    "* Exogenous borrowing constraint\n",
    "* General equilibrium. i.e. interest rate is endogenously determined since in a steady state equilibrium the capital per capita must equal the per capita asset holdings of consumers, and the interest rate must equal the net marginal product of capital. "
   ]
  },
  {
   "cell_type": "markdown",
   "metadata": {},
   "source": [
    "## Related Literature\n",
    "* The Aiyagari model originates from Bewley model and a subsequent literature Zeldes (1989), Deaton (1991), Carroll (1992), and puts these kinds of models into a general equilibrium context. These models all share the same key components as mentioned in the previous part. And they are used to study the following topics:\n",
    "> * How much of observed wealth inequality does a particular choice of uninsurable idiosyncratic income uncertainty explain? <br/>\n",
    "> * In this model, what is the fraction of aggregate savings due to the precautionary motive? <br/>\n",
    "> * In this model, what are the redistributional implications of various policies?\n"
   ]
  },
  {
   "cell_type": "markdown",
   "metadata": {},
   "source": [
    "## Model\n",
    "### The Individual's Problem\n",
    "\n",
    "\\begin{split}\n",
    "&\\max E_0\\left(\\sum_{t=0}^\\infty \\beta^t U(c_t)\\right)\\\\\n",
    "&\\text{s.t.}\\\\\n",
    "&c_t+a_{t+1}=wl_{t}+(1+r)a_t \\\\\n",
    "&c_t\\geq0\\\\\n",
    "&a_t\\geq-\\phi\n",
    "\\end{split}\n",
    "\n",
    "\n",
    "where $\\phi$ (if positive) is the limit on borrowing; $l_t$ is assumed to be i.i.d with bounded support given by $[l_{min},l_{max}]$, with $l_{min}>0$; $w$ and $r$ represent wage and interest rate repectively.\n"
   ]
  },
  {
   "cell_type": "markdown",
   "metadata": {},
   "source": [
    "* $\\hat{a}_t\\equiv a_t+\\phi$ \n",
    "* $z_t \\equiv wl_t+(1+r)\\hat{a}_t-r\\phi$: total resources of the agent at date $t$ respectively. \n",
    "* Then the Bellman equation is as follows:\n",
    "$$\n",
    "\\begin{split}\n",
    "V(z_t,\\phi,w,r) \\equiv \\underset{\\hat{a}_{t+1}}{\\max}\\left(U(z_t-\\hat{a}_{t+1})+\\beta \\int V(z_{t+1},\\phi,w,r)\\ dF(l_{t+1})  \\right)\n",
    "\\end{split}\n",
    "$$"
   ]
  },
  {
   "cell_type": "markdown",
   "metadata": {},
   "source": [
    "* Euler equation: \n",
    "\n",
    "\\begin{split}\n",
    "U^\\prime (z_t-\\hat{a}_{t+1})=\\beta(1+r)\\int U^\\prime (z_{t+1}-\\hat{a}_{t+2})\\ dF(l_{t+1})\n",
    "\\end{split}"
   ]
  },
  {
   "cell_type": "markdown",
   "metadata": {},
   "source": [
    "* Decision rule: $\\hat{a}_{t+1}=A(z_t,\\phi,w,r)$ \n",
    "* Law of transition: $z_{t+1}=wl_{t+1}+(1+r)A(z_t,\\phi,w,r)-r\\phi$"
   ]
  },
  {
   "cell_type": "markdown",
   "metadata": {},
   "source": [
    "### Firm's problem\n",
    "\\begin{split}\n",
    "\\max F(K,L)-wL-rK\n",
    "\\end{split}\n",
    "\n",
    "\n",
    "\n",
    "where $K$ is the aggregate capital, $L$ is the aggregate labor, $F(K,L)$ is the production function."
   ]
  },
  {
   "cell_type": "markdown",
   "metadata": {},
   "source": [
    "### General Equilibrium\n",
    "In the steady state, variables are time invariant and all markets are clear, i.e.,\n",
    "* $F_K(K,L) = r+\\delta $\n",
    "* $F_L(K,L) = w$\n",
    "* $\\int l_i di = L$\n",
    "* $\\int a_i di = K$"
   ]
  },
  {
   "cell_type": "code",
   "execution_count": 2,
   "metadata": {},
   "outputs": [
    {
     "data": {
      "text/plain": [
       "{'ex-ante-identical': True,\n",
       " 'conditional-processes': False,\n",
       " 'iid-shocks': False}"
      ]
     },
     "execution_count": 2,
     "metadata": {},
     "output_type": "execute_result"
    }
   ],
   "source": [
    "# model is written in .yaml file\n",
    "# HModel reads the yaml file\n",
    "aggmodel = HModel('Aiyagari.yaml')\n",
    "\n",
    "# check features of the model   \n",
    "aggmodel.features"
   ]
  },
  {
   "cell_type": "markdown",
   "metadata": {},
   "source": [
    "## Model Specification, Parameterization, and Consumption\n",
    "\n",
    "### Model specification and parameters\n",
    "| Parameter      | Description               | Value           ||\n",
    "|:------:| ------       | ------    | :------:  |\n",
    "|$\\beta$ | Time Preference Factor | 0.96 | \n",
    "| $\\delta$ | Depreciation Rate | 0.08 |\n",
    "| $\\alpha$ | Capital Share | 0.36 |\n",
    "| $\\phi$ |     Borrowing Limit | 0 |\n",
    "| $\\mu$ | Risk Aversion Coefficient | {1,3,5} |\n",
    "| $\\rho$ | Serial Correlation of Labor Shocks | {0,0.3,0.6,0.9} |\n",
    "| $\\sigma$ | Variance of Labor Shocks | {0.2,0.4} |\n",
    "\n",
    "\n",
    "\n",
    "* Production function: Cobb Douglas with the capital share taken to be $\\alpha$\n",
    "\\begin{split}\n",
    "F(K,L) = K^\\alpha L^{1-\\alpha}\n",
    "\\end{split}\n",
    "* Utility function: CRRA with the relative risk aversion coefficient $\\mu$\n",
    "* Labor endowment shocks: \n",
    "$$\n",
    "\\begin{split}\n",
    "\\log(l_t)=\\rho\\log(l_{t-1})+\\sigma(1-\\rho^2)^{\\frac{1}{2}}\\epsilon_{t}, \\ \\epsilon_t \\sim N(0,1)   \n",
    "\\end{split}\n",
    "$$\n"
   ]
  },
  {
   "cell_type": "markdown",
   "metadata": {},
   "source": [
    "### Computation\n",
    "After importing the model written in .yaml, we can calculate the equilibrium by using $\\texttt{Dolark}$"
   ]
  },
  {
   "cell_type": "code",
   "execution_count": 3,
   "metadata": {},
   "outputs": [
    {
     "name": "stdout",
     "output_type": "stream",
     "text": [
      "Computing Initial Initial Rule... "
     ]
    },
    {
     "name": "stderr",
     "output_type": "stream",
     "text": [
      "YAMLLoadWarning:c:\\users\\zhuang13\\documents\\github\\dolo\\dolo\\compiler\\recipes.py:20\n",
      "    calling yaml.load() without Loader=... is deprecated, as the default Loader is unsafe. Please read https://msg.pyyaml.org/load for full details.\n"
     ]
    },
    {
     "name": "stdout",
     "output_type": "stream",
     "text": [
      "done\n",
      "Computing Steady State...done\n"
     ]
    }
   ],
   "source": [
    "# baseline caser where coefficient risk aversion is 1\n",
    "# serial correlation is 0.9 and variance of labor shocks is 0.04\n",
    "# other values of variables are the same as the those in parameter tables\n",
    "eq = find_steady_state(aggmodel)"
   ]
  },
  {
   "cell_type": "markdown",
   "metadata": {},
   "source": [
    "## Key Results"
   ]
  },
  {
   "cell_type": "code",
   "execution_count": 4,
   "metadata": {},
   "outputs": [],
   "source": [
    "# data frame of the steay state\n",
    "df = eq.as_df()"
   ]
  },
  {
   "cell_type": "code",
   "execution_count": 5,
   "metadata": {},
   "outputs": [
    {
     "data": {
      "application/vnd.vegalite.v3+json": {
       "$schema": "https://vega.github.io/schema/vega-lite/v3.4.0.json",
       "config": {
        "mark": {
         "tooltip": null
        },
        "view": {
         "height": 300,
         "width": 400
        }
       },
       "data": {
        "name": "data-227215cfeb719287a51299180c129571"
       },
       "datasets": {
        "data-227215cfeb719287a51299180c129571": [
         {
          "a": -1e-10,
          "e": -0.6488856845230503,
          "i": -1.000000082740371e-10,
          "i_m": 0,
          "r": 0.03044231773685528,
          "w": 1.2440459023354589,
          "μ": 0.15372944995775165
         },
         {
          "a": 6.8965517240413785,
          "e": -0.6488856845230503,
          "i": 6.418650838141594,
          "i_m": 0,
          "r": 0.03044231773685528,
          "w": 1.2440459023354589,
          "μ": 0.06660701561500798
         },
         {
          "a": 13.793103448182757,
          "e": -0.6488856845230503,
          "i": 13.051628870008466,
          "i_m": 0,
          "r": 0.03044231773685528,
          "w": 1.2440459023354589,
          "μ": 0.020842793181033773
         },
         {
          "a": 20.689655172324137,
          "e": -0.6488856845230503,
          "i": 19.784888486832422,
          "i_m": 0,
          "r": 0.03044231773685528,
          "w": 1.2440459023354589,
          "μ": 0.0069289945952131175
         },
         {
          "a": 27.586206896465516,
          "e": -0.6488856845230503,
          "i": 26.551823005903323,
          "i_m": 0,
          "r": 0.03044231773685528,
          "w": 1.2440459023354589,
          "μ": 0.0016665389591181117
         },
         {
          "a": 34.48275862060689,
          "e": -0.6488856845230503,
          "i": 33.336141477415325,
          "i_m": 0,
          "r": 0.03044231773685528,
          "w": 1.2440459023354589,
          "μ": 0.00022288813405828286
         },
         {
          "a": 41.37931034474827,
          "e": -0.6488856845230503,
          "i": 40.130766654357984,
          "i_m": 0,
          "r": 0.03044231773685528,
          "w": 1.2440459023354589,
          "μ": 2.3195578189482876e-06
         },
         {
          "a": 48.27586206888965,
          "e": -0.6488856845230503,
          "i": 46.93204183689955,
          "i_m": 0,
          "r": 0.03044231773685528,
          "w": 1.2440459023354589,
          "μ": -1.710983528947084e-16
         },
         {
          "a": 55.172413793031026,
          "e": -0.6488856845230503,
          "i": 53.73786320046156,
          "i_m": 0,
          "r": 0.03044231773685528,
          "w": 1.2440459023354589,
          "μ": -1.5551258621904938e-16
         },
         {
          "a": 62.0689655171724,
          "e": -0.6488856845230503,
          "i": 60.546925805843614,
          "i_m": 0,
          "r": 0.03044231773685528,
          "w": 1.2440459023354589,
          "μ": -1.4290163959076777e-16
         },
         {
          "a": 68.96551724131378,
          "e": -0.6488856845230503,
          "i": 67.35837640589742,
          "i_m": 0,
          "r": 0.03044231773685528,
          "w": 1.2440459023354589,
          "μ": -1.3240100228036395e-16
         },
         {
          "a": 75.86206896545517,
          "e": -0.6488856845230503,
          "i": 74.17163363011797,
          "i_m": 0,
          "r": 0.03044231773685528,
          "w": 1.2440459023354589,
          "μ": -1.2345636742523953e-16
         },
         {
          "a": 82.75862068959654,
          "e": -0.6488856845230503,
          "i": 80.98628806327083,
          "i_m": 0,
          "r": 0.03044231773685528,
          "w": 1.2440459023354589,
          "μ": -1.156882645986401e-16
         },
         {
          "a": 89.65517241373792,
          "e": -0.6488856845230503,
          "i": 87.80204346245614,
          "i_m": 0,
          "r": 0.03044231773685528,
          "w": 1.2440459023354589,
          "μ": -1.0882104784478614e-16
         },
         {
          "a": 96.5517241378793,
          "e": -0.6488856845230503,
          "i": 94.61868049325955,
          "i_m": 0,
          "r": 0.03044231773685528,
          "w": 1.2440459023354589,
          "μ": -1.026424276162926e-16
         },
         {
          "a": 103.44827586202068,
          "e": -0.6488856845230503,
          "i": 101.43603354845177,
          "i_m": 0,
          "r": 0.03044231773685528,
          "w": 1.2440459023354589,
          "μ": -9.697868742250708e-17
         },
         {
          "a": 110.34482758616205,
          "e": -0.6488856845230503,
          "i": 108.2539754016304,
          "i_m": 0,
          "r": 0.03044231773685528,
          "w": 1.2440459023354589,
          "μ": -9.167847200125122e-17
         },
         {
          "a": 117.24137931030343,
          "e": -0.6488856845230503,
          "i": 115.07240685452192,
          "i_m": 0,
          "r": 0.03044231773685528,
          "w": 1.2440459023354589,
          "μ": -8.660158367486708e-17
         },
         {
          "a": 124.1379310344448,
          "e": -0.6488856845230503,
          "i": 121.89124946262982,
          "i_m": 0,
          "r": 0.03044231773685528,
          "w": 1.2440459023354589,
          "μ": -8.161099013484575e-17
         },
         {
          "a": 131.0344827585862,
          "e": -0.6488856845230503,
          "i": 128.71044051956642,
          "i_m": 0,
          "r": 0.03044231773685528,
          "w": 1.2440459023354589,
          "μ": -7.656730397996583e-17
         },
         {
          "a": 137.93103448272757,
          "e": -0.6488856845230503,
          "i": 135.52992921722065,
          "i_m": 0,
          "r": 0.03044231773685528,
          "w": 1.2440459023354589,
          "μ": -7.132569832961582e-17
         },
         {
          "a": 144.82758620686897,
          "e": -0.6488856845230503,
          "i": 142.349674196684,
          "i_m": 0,
          "r": 0.03044231773685528,
          "w": 1.2440459023354589,
          "μ": -6.573595439293751e-17
         },
         {
          "a": 151.72413793101035,
          "e": -0.6488856845230503,
          "i": 149.16964111014093,
          "i_m": 0,
          "r": 0.03044231773685528,
          "w": 1.2440459023354589,
          "μ": -5.964705977538198e-17
         },
         {
          "a": 158.62068965515172,
          "e": -0.6488856845230503,
          "i": 155.9898018484342,
          "i_m": 0,
          "r": 0.03044231773685528,
          "w": 1.2440459023354589,
          "μ": -5.291892817635266e-17
         },
         {
          "a": 165.5172413792931,
          "e": -0.6488856845230503,
          "i": 162.8101320696685,
          "i_m": 0,
          "r": 0.03044231773685528,
          "w": 1.2440459023354589,
          "μ": -4.5445113108677386e-17
         },
         {
          "a": 172.41379310343447,
          "e": -0.6488856845230503,
          "i": 169.630612698607,
          "i_m": 0,
          "r": 0.03044231773685528,
          "w": 1.2440459023354589,
          "μ": -3.7192704650001934e-17
         },
         {
          "a": 179.31034482757585,
          "e": -0.6488856845230503,
          "i": 176.4512247950248,
          "i_m": 0,
          "r": 0.03044231773685528,
          "w": 1.2440459023354589,
          "μ": -2.826816518023375e-17
         },
         {
          "a": 186.20689655171722,
          "e": -0.6488856845230503,
          "i": 183.271957431379,
          "i_m": 0,
          "r": 0.03044231773685528,
          "w": 1.2440459023354589,
          "μ": -1.9022588448234577e-17
         },
         {
          "a": 193.10344827585863,
          "e": -0.6488856845230503,
          "i": 190.0927909345623,
          "i_m": 0,
          "r": 0.03044231773685528,
          "w": 1.2440459023354589,
          "μ": -1.0214819920408683e-17
         },
         {
          "a": 200,
          "e": -0.6488856845230503,
          "i": 196.91372882985937,
          "i_m": 0,
          "r": 0.03044231773685528,
          "w": 1.2440459023354589,
          "μ": -3.260195599697731e-18
         },
         {
          "a": -1e-10,
          "e": 0,
          "i": 0.11633532308096795,
          "i_m": 1,
          "r": 0.03044231773685528,
          "w": 1.2440459023354589,
          "μ": 0.223652213549732
         },
         {
          "a": 6.8965517240413785,
          "e": 0,
          "i": 6.687177260656852,
          "i_m": 1,
          "r": 0.03044231773685528,
          "w": 1.2440459023354589,
          "μ": 0.1747761520135834
         },
         {
          "a": 13.793103448182757,
          "e": 0,
          "i": 13.37554874595797,
          "i_m": 1,
          "r": 0.03044231773685528,
          "w": 1.2440459023354589,
          "μ": 0.06654871557182636
         },
         {
          "a": 20.689655172324137,
          "e": 0,
          "i": 20.127486839664662,
          "i_m": 1,
          "r": 0.03044231773685528,
          "w": 1.2440459023354589,
          "μ": 0.026391323441242103
         },
         {
          "a": 27.586206896465516,
          "e": 0,
          "i": 26.904491292696395,
          "i_m": 1,
          "r": 0.03044231773685528,
          "w": 1.2440459023354589,
          "μ": 0.007450958814250609
         },
         {
          "a": 34.48275862060689,
          "e": 0,
          "i": 33.6948382854136,
          "i_m": 1,
          "r": 0.03044231773685528,
          "w": 1.2440459023354589,
          "μ": 0.0011676483633250767
         },
         {
          "a": 41.37931034474827,
          "e": 0,
          "i": 40.49331020004614,
          "i_m": 1,
          "r": 0.03044231773685528,
          "w": 1.2440459023354589,
          "μ": 1.2988246045235313e-05
         },
         {
          "a": 48.27586206888965,
          "e": 0,
          "i": 47.297179193137744,
          "i_m": 1,
          "r": 0.03044231773685528,
          "w": 1.2440459023354589,
          "μ": -3.603642132333044e-16
         },
         {
          "a": 55.172413793031026,
          "e": 0,
          "i": 54.10481238203968,
          "i_m": 1,
          "r": 0.03044231773685528,
          "w": 1.2440459023354589,
          "μ": -3.258662093327741e-16
         },
         {
          "a": 62.0689655171724,
          "e": 0,
          "i": 60.91517610670951,
          "i_m": 1,
          "r": 0.03044231773685528,
          "w": 1.2440459023354589,
          "μ": -2.9831225290965557e-16
         },
         {
          "a": 68.96551724131378,
          "e": 0,
          "i": 67.72758205531247,
          "i_m": 1,
          "r": 0.03044231773685528,
          "w": 1.2440459023354589,
          "μ": -2.756470788390715e-16
         },
         {
          "a": 75.86206896545517,
          "e": 0,
          "i": 74.54155319677339,
          "i_m": 1,
          "r": 0.03044231773685528,
          "w": 1.2440459023354589,
          "μ": -2.565918192403055e-16
         },
         {
          "a": 82.75862068959654,
          "e": 0,
          "i": 81.35674886329284,
          "i_m": 1,
          "r": 0.03044231773685528,
          "w": 1.2440459023354589,
          "μ": -2.4030368777116394e-16
         },
         {
          "a": 89.65517241373792,
          "e": 0,
          "i": 88.17291942895109,
          "i_m": 1,
          "r": 0.03044231773685528,
          "w": 1.2440459023354589,
          "μ": -2.2620279814657953e-16
         },
         {
          "a": 96.5517241378793,
          "e": 0,
          "i": 94.98987796994594,
          "i_m": 1,
          "r": 0.03044231773685528,
          "w": 1.2440459023354589,
          "μ": -2.138767516720827e-16
         },
         {
          "a": 103.44827586202068,
          "e": 0,
          "i": 101.80748191394886,
          "i_m": 1,
          "r": 0.03044231773685528,
          "w": 1.2440459023354589,
          "μ": -2.0302454997180696e-16
         },
         {
          "a": 110.34482758616205,
          "e": 0,
          "i": 108.62562069031462,
          "i_m": 1,
          "r": 0.03044231773685528,
          "w": 1.2440459023354589,
          "μ": -1.9342137820126194e-16
         },
         {
          "a": 117.24137931030343,
          "e": 0,
          "i": 115.44420737414349,
          "i_m": 1,
          "r": 0.03044231773685528,
          "w": 1.2440459023354589,
          "μ": -1.8489458592974263e-16
         },
         {
          "a": 124.1379310344448,
          "e": 0,
          "i": 122.2631726447483,
          "i_m": 1,
          "r": 0.03044231773685528,
          "w": 1.2440459023354589,
          "μ": -1.7730501826779433e-16
         },
         {
          "a": 131.0344827585862,
          "e": 0,
          "i": 129.08246074353912,
          "i_m": 1,
          "r": 0.03044231773685528,
          "w": 1.2440459023354589,
          "μ": -1.7052958963112562e-16
         },
         {
          "a": 137.93103448272757,
          "e": 0,
          "i": 135.9020260929067,
          "i_m": 1,
          "r": 0.03044231773685528,
          "w": 1.2440459023354589,
          "μ": -1.644411713073757e-16
         },
         {
          "a": 144.82758620686897,
          "e": 0,
          "i": 142.72183149925263,
          "i_m": 1,
          "r": 0.03044231773685528,
          "w": 1.2440459023354589,
          "μ": -1.588815227787222e-16
         },
         {
          "a": 151.72413793101035,
          "e": 0,
          "i": 149.54184566711794,
          "i_m": 1,
          "r": 0.03044231773685528,
          "w": 1.2440459023354589,
          "μ": -1.536212281804344e-16
         },
         {
          "a": 158.62068965515172,
          "e": 0,
          "i": 156.36204319257175,
          "i_m": 1,
          "r": 0.03044231773685528,
          "w": 1.2440459023354589,
          "μ": -1.4829868651935234e-16
         },
         {
          "a": 165.5172413792931,
          "e": 0,
          "i": 163.18240139983493,
          "i_m": 1,
          "r": 0.03044231773685528,
          "w": 1.2440459023354589,
          "μ": -1.42325754753026e-16
         },
         {
          "a": 172.41379310343447,
          "e": 0,
          "i": 170.00290328976246,
          "i_m": 1,
          "r": 0.03044231773685528,
          "w": 1.2440459023354589,
          "μ": -1.3474345112053783e-16
         },
         {
          "a": 179.31034482757585,
          "e": 0,
          "i": 176.8235304332636,
          "i_m": 1,
          "r": 0.03044231773685528,
          "w": 1.2440459023354589,
          "μ": -1.2400155200952776e-16
         },
         {
          "a": 186.20689655171722,
          "e": 0,
          "i": 183.6442740764746,
          "i_m": 1,
          "r": 0.03044231773685528,
          "w": 1.2440459023354589,
          "μ": -1.0762811727031695e-16
         },
         {
          "a": 193.10344827585863,
          "e": 0,
          "i": 190.46511372981112,
          "i_m": 1,
          "r": 0.03044231773685528,
          "w": 1.2440459023354589,
          "μ": -8.173501008917451e-17
         },
         {
          "a": 200,
          "e": 0,
          "i": 197.28605576339922,
          "i_m": 1,
          "r": 0.03044231773685528,
          "w": 1.2440459023354589,
          "μ": -4.0292551444474274e-17
         },
         {
          "a": -1e-10,
          "e": 0.6488856845230503,
          "i": 0.745954682341887,
          "i_m": 2,
          "r": 0.03044231773685528,
          "w": 1.2440459023354589,
          "μ": 0.0568487111409301
         },
         {
          "a": 6.8965517240413785,
          "e": 0.6488856845230503,
          "i": 7.394223921776526,
          "i_m": 2,
          "r": 0.03044231773685528,
          "w": 1.2440459023354589,
          "μ": 0.08688878059234137
         },
         {
          "a": 13.793103448182757,
          "e": 0.6488856845230503,
          "i": 14.135070541760335,
          "i_m": 2,
          "r": 0.03044231773685528,
          "w": 1.2440459023354589,
          "μ": 0.061717896738370054
         },
         {
          "a": 20.689655172324137,
          "e": 0.6488856845230503,
          "i": 20.90546106791814,
          "i_m": 2,
          "r": 0.03044231773685528,
          "w": 1.2440459023354589,
          "μ": 0.03152497720368773
         },
         {
          "a": 27.586206896465516,
          "e": 0.6488856845230503,
          "i": 27.693794080600583,
          "i_m": 2,
          "r": 0.03044231773685528,
          "w": 1.2440459023354589,
          "μ": 0.010926777708661678
         },
         {
          "a": 34.48275862060689,
          "e": 0.6488856845230503,
          "i": 34.4907549440453,
          "i_m": 2,
          "r": 0.03044231773685528,
          "w": 1.2440459023354589,
          "μ": 0.002067960915195371
         },
         {
          "a": 41.37931034474827,
          "e": 0.6488856845230503,
          "i": 41.293655910019154,
          "i_m": 2,
          "r": 0.03044231773685528,
          "w": 1.2440459023354589,
          "μ": 2.489570081608502e-05
         },
         {
          "a": 48.27586206888965,
          "e": 0.6488856845230503,
          "i": 48.10060441540719,
          "i_m": 2,
          "r": 0.03044231773685528,
          "w": 1.2440459023354589,
          "μ": -1.951841777655435e-16
         },
         {
          "a": 55.172413793031026,
          "e": 0.6488856845230503,
          "i": 54.91043463494768,
          "i_m": 2,
          "r": 0.03044231773685528,
          "w": 1.2440459023354589,
          "μ": -1.7493504652085857e-16
         },
         {
          "a": 62.0689655171724,
          "e": 0.6488856845230503,
          "i": 61.72241813150874,
          "i_m": 2,
          "r": 0.03044231773685528,
          "w": 1.2440459023354589,
          "μ": -1.590655344354311e-16
         },
         {
          "a": 68.96551724131378,
          "e": 0.6488856845230503,
          "i": 68.53604085573458,
          "i_m": 2,
          "r": 0.03044231773685528,
          "w": 1.2440459023354589,
          "μ": -1.4621283189888446e-16
         },
         {
          "a": 75.86206896545517,
          "e": 0.6488856845230503,
          "i": 75.35094263312946,
          "i_m": 2,
          "r": 0.03044231773685528,
          "w": 1.2440459023354589,
          "μ": -1.3555686750201256e-16
         },
         {
          "a": 82.75862068959654,
          "e": 0.6488856845230503,
          "i": 82.16686051657871,
          "i_m": 2,
          "r": 0.03044231773685528,
          "w": 1.2440459023354589,
          "μ": -1.2657522715831656e-16
         },
         {
          "a": 89.65517241373792,
          "e": 0.6488856845230503,
          "i": 88.98359855428272,
          "i_m": 2,
          "r": 0.03044231773685528,
          "w": 1.2440459023354589,
          "μ": -1.1892366816111982e-16
         },
         {
          "a": 96.5517241378793,
          "e": 0.6488856845230503,
          "i": 95.80100772331517,
          "i_m": 2,
          "r": 0.03044231773685528,
          "w": 1.2440459023354589,
          "μ": -1.1237313422180737e-16
         },
         {
          "a": 103.44827586202068,
          "e": 0.6488856845230503,
          "i": 102.61897279361716,
          "i_m": 2,
          "r": 0.03044231773685528,
          "w": 1.2440459023354589,
          "μ": -1.0677539481218213e-16
         },
         {
          "a": 110.34482758616205,
          "e": 0.6488856845230503,
          "i": 109.4374032260197,
          "i_m": 2,
          "r": 0.03044231773685528,
          "w": 1.2440459023354589,
          "μ": -1.0204457495127472e-16
         },
         {
          "a": 117.24137931030343,
          "e": 0.6488856845230503,
          "i": 116.25622707711257,
          "i_m": 2,
          "r": 0.03044231773685528,
          "w": 1.2440459023354589,
          "μ": -9.814871239295895e-17
         },
         {
          "a": 124.1379310344448,
          "e": 0.6488856845230503,
          "i": 123.07538626267942,
          "i_m": 2,
          "r": 0.03044231773685528,
          "w": 1.2440459023354589,
          "μ": -9.510870351668938e-17
         },
         {
          "a": 131.0344827585862,
          "e": 0.6488856845230503,
          "i": 129.894833757141,
          "i_m": 2,
          "r": 0.03044231773685528,
          "w": 1.2440459023354589,
          "μ": -9.300413715872136e-17
         },
         {
          "a": 137.93103448272757,
          "e": 0.6488856845230503,
          "i": 136.7145305209978,
          "i_m": 2,
          "r": 0.03044231773685528,
          "w": 1.2440459023354589,
          "μ": -9.198671872672931e-17
         },
         {
          "a": 144.82758620686897,
          "e": 0.6488856845230503,
          "i": 143.53444481844485,
          "i_m": 2,
          "r": 0.03044231773685528,
          "w": 1.2440459023354589,
          "μ": -9.230375690558171e-17
         },
         {
          "a": 151.72413793101035,
          "e": 0.6488856845230503,
          "i": 150.35454910648915,
          "i_m": 2,
          "r": 0.03044231773685528,
          "w": 1.2440459023354589,
          "μ": -9.433531369851862e-17
         },
         {
          "a": 158.62068965515172,
          "e": 0.6488856845230503,
          "i": 157.1748218384852,
          "i_m": 2,
          "r": 0.03044231773685528,
          "w": 1.2440459023354589,
          "μ": -9.865159564195848e-17
         },
         {
          "a": 165.5172413792931,
          "e": 0.6488856845230503,
          "i": 163.99524206423501,
          "i_m": 2,
          "r": 0.03044231773685528,
          "w": 1.2440459023354589,
          "μ": -1.0609891944261196e-16
         },
         {
          "a": 172.41379310343447,
          "e": 0.6488856845230503,
          "i": 170.81579629623226,
          "i_m": 2,
          "r": 0.03044231773685528,
          "w": 1.2440459023354589,
          "μ": -1.179286544241732e-16
         },
         {
          "a": 179.31034482757585,
          "e": 0.6488856845230503,
          "i": 177.6364657325655,
          "i_m": 2,
          "r": 0.03044231773685528,
          "w": 1.2440459023354589,
          "μ": -1.359861131376374e-16
         },
         {
          "a": 186.20689655171722,
          "e": 0.6488856845230503,
          "i": 184.45724609826422,
          "i_m": 2,
          "r": 0.03044231773685528,
          "w": 1.2440459023354589,
          "μ": -1.6298961997971245e-16
         },
         {
          "a": 193.10344827585863,
          "e": 0.6488856845230503,
          "i": 191.27811382265656,
          "i_m": 2,
          "r": 0.03044231773685528,
          "w": 1.2440459023354589,
          "μ": -2.0293136407107233e-16
         },
         {
          "a": 200,
          "e": 0.6488856845230503,
          "i": 198.09908148067132,
          "i_m": 2,
          "r": 0.03044231773685528,
          "w": 1.2440459023354589,
          "μ": -2.6166384475755725e-16
         }
        ]
       },
       "encoding": {
        "x": {
         "axis": {
          "title": "Current Assets"
         },
         "field": "a",
         "type": "quantitative"
        },
        "y": {
         "axis": {
          "title": "Next Period Assets"
         },
         "field": "i",
         "type": "quantitative"
        }
       },
       "mark": "line"
      },
      "image/png": "[encoded data removed]",
      "text/plain": [
       "<VegaLite 3 object>\n",
       "\n",
       "If you see this message, it means the renderer has not been properly enabled\n",
       "for the frontend that you are using. For more information, see\n",
       "https://altair-viz.github.io/user_guide/troubleshooting.html\n"
      ]
     },
     "execution_count": 5,
     "metadata": {},
     "output_type": "execute_result"
    }
   ],
   "source": [
    "# plot relationship between assets of this period and of next period  \n",
    "# altair plots a graph\n",
    "import altair as alt\n",
    "import pandas as pd\n",
    "\n",
    "df = eq.as_df()\n",
    "alt.Chart(df).mark_line().encode(\n",
    "    x = alt.X('a', axis = alt.Axis(title='Current Assets')),\n",
    "    y = alt.Y('i', axis=alt.Axis(title='Next Period Assets'))\n",
    ")"
   ]
  },
  {
   "cell_type": "markdown",
   "metadata": {},
   "source": [
    "### Aggregate Saving"
   ]
  },
  {
   "cell_type": "code",
   "execution_count": 6,
   "metadata": {},
   "outputs": [],
   "source": [
    "# extract variables from the steady state solution\n",
    "a = df['a']\n",
    "r = df['r']\n",
    "w = df['w']\n",
    "e = df['e']\n",
    "i = df['i']\n",
    "μ = df['μ']"
   ]
  },
  {
   "cell_type": "code",
   "execution_count": 7,
   "metadata": {},
   "outputs": [],
   "source": [
    "# generate a column matrix with zeros\n",
    "c = np.zeros((len(df),1))\n",
    "income = np.zeros((len(df),1))\n",
    "agg_c = 0\n",
    "agg_inc = 0"
   ]
  },
  {
   "cell_type": "code",
   "execution_count": 8,
   "metadata": {},
   "outputs": [],
   "source": [
    "# calculate consumption\n",
    "for j in range(len(df)):\n",
    "    c[j] = (1+r[j])*a[j] + w[j]*math.exp(e[j]) - i[j]\n",
    "\n",
    "# calculate income\n",
    "for j in range(len(df)):\n",
    "    income[j] = (r[j]+0.08)*a[j] + w[j]*math.exp(e[j])"
   ]
  },
  {
   "cell_type": "code",
   "execution_count": 9,
   "metadata": {},
   "outputs": [],
   "source": [
    "# aggregate consumption and aggregate consumption\n",
    "for j in range(len(df)):\n",
    "    agg_c = agg_c + c[j]*μ[j]\n",
    "    agg_inc = agg_inc + income[j]*μ[j]"
   ]
  },
  {
   "cell_type": "code",
   "execution_count": 10,
   "metadata": {},
   "outputs": [
    {
     "name": "stdout",
     "output_type": "stream",
     "text": [
      "[1.57254408]\n",
      "[2.07943371]\n"
     ]
    }
   ],
   "source": [
    "# aggregate consumption and income as an output\n",
    "print(agg_c)\n",
    "print(agg_inc)"
   ]
  },
  {
   "cell_type": "code",
   "execution_count": 11,
   "metadata": {},
   "outputs": [
    {
     "data": {
      "text/plain": [
       "array([0.2437633])"
      ]
     },
     "execution_count": 11,
     "metadata": {},
     "output_type": "execute_result"
    }
   ],
   "source": [
    "# saving rate \n",
    "# risk aversion: 1; serial correlation: 1, varinace of labor shock: 0.04\n",
    "saving = 1 - agg_c/agg_inc\n",
    "saving   "
   ]
  },
  {
   "cell_type": "markdown",
   "metadata": {},
   "source": [
    "The differences between the saving rates with an without insurance are quite small for moderate and empirically plausible values of $\\sigma$, $\\rho$, and $\\mu$. However for high values of $\\sigma$, $\\rho$, and $\\mu$, the presence of idiosyncratic risk can raise the saving rate quite significantly. \n",
    "<img src='Table2.png'>"
   ]
  },
  {
   "cell_type": "markdown",
   "metadata": {},
   "source": [
    "### Inequality Measures"
   ]
  },
  {
   "cell_type": "code",
   "execution_count": 12,
   "metadata": {},
   "outputs": [
    {
     "data": {
      "text/plain": [
       "Text(0.5, 1.0, 'Wealth Distribution by Income')"
      ]
     },
     "execution_count": 12,
     "metadata": {},
     "output_type": "execute_result"
    },
    {
     "data": {
      "image/png": "[encoded data removed]",
      "text/plain": [
       "<Figure size 432x288 with 1 Axes>"
      ]
     },
     "metadata": {
      "needs_background": "light"
     },
     "output_type": "display_data"
    }
   ],
   "source": [
    "# plot wealth distribution\n",
    "for i in range(eq.μ.shape[0]):\n",
    "    s = eq.dr.endo_grid.nodes() # grid for states (i.e the state variable--wealth in this case)\n",
    "    plt.plot(s, eq.μ[i,:]/(eq.μ[i,:].sum()), label=f\"exo shocks={eq.dr.exo_grid.node(i)[2]: .2f}\")\n",
    "plt.plot(s, eq.μ.sum(axis=0), label='total', color='black')\n",
    "plt.grid()\n",
    "plt.legend(loc='upper right')\n",
    "plt.title(\"Wealth Distribution by Income\")"
   ]
  },
  {
   "cell_type": "markdown",
   "metadata": {},
   "source": [
    "* Since long-run distributions for an individual coincide with cross-section distrbutions for the population, results for variabilities of individual consumption, income, and assets have immediate implications for cross-section distributions. \n",
    "* There is much less dispersion across households in consumption compared with income and much greater dispersion in wealth compared with income. \n",
    "* Skewness coefficients reveal another aspect of inequality. All of the cross-section distributions are positively skewed (median$<$mean). However, the degree of skewness is less than in the data. "
   ]
  },
  {
   "cell_type": "markdown",
   "metadata": {},
   "source": [
    "## Conclusions and Comments\n",
    "The Aiyagari model extends the Bewley model to a context with a production sector. Deviating from the representative agent model in which complete market is implicitly assumed, it tries to study the aggregate saving behavior of the economy with the agents facing a particular kind of uninsured idiosyncratic risk. With an empirically plausible set of parameters, it finds that the aggregate saving rate does increase compared to the case with a complete market, however, the change here caused by the precautionary saving motive is mild. Also, the results of the model qualitatively match the real data in terms of the ranking of the fluctuations of some economic variables. However, in terms of approaching the real inequalities of income and wealth shown by the data, the model does not perform very well. Also, in this model, the joint distribution of income and wealth is not treated as a state variable, which neglects the distribution effect Krusell and Smith(1998) try to address."
   ]
  },
  {
   "cell_type": "code",
   "execution_count": null,
   "metadata": {},
   "outputs": [],
   "source": []
  }
 ],
 "metadata": {
  "kernelspec": {
   "display_name": "Python 3",
   "language": "python",
   "name": "python3"
  },
  "language_info": {
   "codemirror_mode": {
    "name": "ipython",
    "version": 3
   },
   "file_extension": ".py",
   "mimetype": "text/x-python",
   "name": "python",
   "nbconvert_exporter": "python",
   "pygments_lexer": "ipython3",
   "version": "3.7.3"
  }
 },
 "nbformat": 4,
 "nbformat_minor": 4
}
